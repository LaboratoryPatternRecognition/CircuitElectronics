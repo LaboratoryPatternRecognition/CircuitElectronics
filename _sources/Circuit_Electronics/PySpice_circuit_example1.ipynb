{
  "cells": [
    {
      "cell_type": "markdown",
      "metadata": {},
      "source": [
        "# Example 1: RESISTIVE DIVIDER\n",
        "\n",
        "***Authors:*** Sania Dolat, Ali Saadatpour\n",
        " \n",
        "***Contacts:***  , qstzen@proton.me"
      ]
    },
    {
      "cell_type": "markdown",
      "metadata": {},
      "source": [
        "## Brief overview of the resistive divider\n",
        "\n",
        "A resistive divider, also known as a voltage divider, is a simple circuit that uses resistors to reduce the voltage to a desired level. It is a fundamental concept in electronics, often used to create reference voltages or to measure voltages using analog-to-digital converters (ADCs).\n",
        "\n",
        "### Basic Principle\n",
        "\n",
        "The resistive divider consists of two resistors connected in series. The input voltage is applied across the series combination, and the output voltage is taken from the junction between the two resistors. The output voltage $V_{out}$ is a fraction of the input voltage $V_{in}$, depending on the values of the resistors.\n",
        "\n",
        "### Voltage Divider Formula\n",
        "\n",
        "Given two resistors $R_1$ and $R_2$ in series, the output voltage $V_{out}$ can be calculated using the following formula:\n",
        "$$\n",
        "V_{out} = V_{in} \\times \\frac{R_2}{R_1 + R_2}\n",
        "$$\n",
        "\n",
        "### Applications\n",
        "\n",
        "- **[Reference Voltage](https://www.analog.com/en/resources/technical-articles/understanding-voltagereference-topologies-and-specifications.html):** Used to generate a specific voltage reference from a higher voltage.\n",
        "- **Biasing:** Commonly used to set the operating point of transistors.\n",
        "- **Signal Attenuation:** Reduces the amplitude of a signal for measurement or interfacing with lower voltage circuits.\n",
        "\n",
        "### Example Calculation\n",
        "\n",
        "Suppose you have a $12V$ input voltage $V_{in}$ and you want to create a $5V$ output. If $R_2 = 10k\\Omega$, you can find $R_1$ as follows:\n",
        "\n",
        "$$\n",
        "5V = 12V \\times \\frac{10k\\Omega}{R_1 + 10k\\Omega}\n",
        "$$\n",
        "\n",
        "Solving for $R_1$:\n",
        "\n",
        "$$\n",
        "R_1 = \\left(\\frac{12V}{5V} - 1\\right) \\times 10k\\Omega = 14k\\Omega\n",
        "$$\n",
        "\n",
        "Thus, using $R_1 = 14k\\Omega$ and $R_2 = 10k\\Omega$ would give you a $5V$ output from a $12V$ input.\n",
        "\n",
        "Would you like to explore more about resistive dividers, such as their use in specific circuits or practical considerations like loading effects?"
      ]
    },
    {
      "cell_type": "markdown",
      "metadata": {
        "id": "xqilTHMq4vpJ"
      },
      "source": [
        "## Start Programming \n",
        "\n",
        "We will work on the following circuit\n",
        "\n",
        "![Divider](../Circuit_Electronics/CircuitElectronicsImages/PySpice_circuit_example1.png)\n",
        "\n",
        "Logging information about the simulation.  \n",
        "**This shoud be always imported.**"
      ]
    },
    {
      "cell_type": "code",
      "execution_count": 1,
      "metadata": {
        "id": "kcbg04RU25Wu"
      },
      "outputs": [],
      "source": [
        "import PySpice.Logging.Logging as Logging\n",
        "logger = Logging.setup_logging()"
      ]
    },
    {
      "cell_type": "markdown",
      "metadata": {},
      "source": [
        "### Imports"
      ]
    },
    {
      "cell_type": "code",
      "execution_count": 2,
      "metadata": {
        "id": "Hq8hnfSz5At4"
      },
      "outputs": [],
      "source": [
        "from PySpice.Spice.Netlist import Circuit  #used for creating circuit\n",
        "from PySpice.Unit import *  #used for unit usages like ohm, volt, etc\n",
        "from PySpice.Spice.Library import SpiceLibrary\n",
        "from PySpice.Spice.Netlist import SubCircuit"
      ]
    },
    {
      "cell_type": "code",
      "execution_count": 3,
      "metadata": {
        "id": "eZzYF_hk5KEv"
      },
      "outputs": [],
      "source": [
        "import numpy as np\n",
        "import matplotlib\n",
        "import matplotlib.pyplot as plt"
      ]
    },
    {
      "cell_type": "markdown",
      "metadata": {
        "id": "1V1CfRPY7Np6"
      },
      "source": [
        "### Output of code\n",
        "For styling the output circuit we use the code below"
      ]
    },
    {
      "cell_type": "code",
      "execution_count": 4,
      "metadata": {
        "id": "bGnET2RA6cNH"
      },
      "outputs": [],
      "source": [
        "matplotlib.rcParams.update({'font.size': 14,\n",
        "                            'text.usetex': True,\n",
        "                            'mathtext.fontset': 'cm',\n",
        "                            'mathtext.rm': 'serif'})"
      ]
    },
    {
      "cell_type": "markdown",
      "metadata": {
        "id": "U4mG2MAN9aPQ"
      },
      "source": [
        "### Making circuit\n",
        "\n",
        "First we need to make a circuit instance. I name this circuit the \"Resistive Divider\". You can name it whatever you want."
      ]
    },
    {
      "cell_type": "code",
      "execution_count": 9,
      "metadata": {
        "id": "k7qs5Tgn65vC"
      },
      "outputs": [],
      "source": [
        "circuit = Circuit('Resistive Divider')"
      ]
    },
    {
      "cell_type": "markdown",
      "metadata": {
        "id": "XpvWAF1Q91Ut"
      },
      "source": [
        "### Complete Components\n",
        "\n",
        "Then we need to add some components to the circuit."
      ]
    },
    {
      "cell_type": "code",
      "execution_count": 10,
      "metadata": {
        "colab": {
          "base_uri": "https://localhost:8080/"
        },
        "id": "8PzVTRdH90PS",
        "outputId": "4ddb05f8-43d2-4e6e-fdc9-16cfcce50b54"
      },
      "outputs": [
        {
          "data": {
            "text/plain": [
              "Resistor R2"
            ]
          },
          "execution_count": 10,
          "metadata": {},
          "output_type": "execute_result"
        }
      ],
      "source": [
        "circuit.V(1, 'n_in', circuit.gnd, 10@u_V)\n",
        "circuit.R(1, 'n_in', 'n_out', 2@u_kOhm)\n",
        "circuit.R(2, 'n_out', circuit.gnd, 3@u_kOhm)"
      ]
    },
    {
      "cell_type": "markdown",
      "metadata": {
        "id": "pvQsSwSWG7Cs"
      },
      "source": [
        "### Explanation \n",
        "The first parameter is the name of the component;V1, R1, R2 for instance.\n",
        "The second parameter is one side of the component that connect to the positive node.\n",
        "The third parameter is one another side of the component that connect to the negetive node.\n",
        "The last parameter is the value of the component; 10v, 2kohm, 3kohm for instance.\n",
        "Note that instead of circuit.gnd you can put 0 for simplicity.\n",
        "\n",
        "Let's print the **netlist** so far to see the circuit information."
      ]
    },
    {
      "cell_type": "code",
      "execution_count": 11,
      "metadata": {
        "colab": {
          "base_uri": "https://localhost:8080/"
        },
        "id": "ZBwnTe0d-Qy8",
        "outputId": "89f9b6b1-cdf7-4007-9f37-057ba7e97947"
      },
      "outputs": [
        {
          "name": "stdout",
          "output_type": "stream",
          "text": [
            ".title Resistive Divider\n",
            "V1 n_in 0 10V\n",
            "R1 n_in n_out 2kOhm\n",
            "R2 n_out 0 3kOhm\n",
            "\n"
          ]
        }
      ],
      "source": [
        "print(circuit)"
      ]
    },
    {
      "cell_type": "markdown",
      "metadata": {
        "id": "rayoSVt2-8qB"
      },
      "source": [
        "### Simulator creation\n",
        "\n",
        "We need to create the simulator object"
      ]
    },
    {
      "cell_type": "code",
      "execution_count": 12,
      "metadata": {
        "colab": {
          "base_uri": "https://localhost:8080/"
        },
        "id": "ZLTlmK6d-ojH",
        "outputId": "b029c161-437f-4bbf-95e2-d6be1063b73c"
      },
      "outputs": [
        {
          "name": "stdout",
          "output_type": "stream",
          "text": [
            ".title Resistive Divider\n",
            "V1 n_in 0 10V\n",
            "R1 n_in n_out 2kOhm\n",
            "R2 n_out 0 3kOhm\n",
            ".options TEMP = 25C\n",
            ".options TNOM = 25C\n",
            ".end\n",
            "\n"
          ]
        }
      ],
      "source": [
        "simulator = circuit.simulator(temperature=25, nominal_temperature=25)\n",
        "print(simulator)"
      ]
    },
    {
      "cell_type": "markdown",
      "metadata": {
        "id": "86euZxkrI0LS"
      },
      "source": [
        "### Simulatio start\n",
        "\n",
        "This is the full netlist of the circuit we have just created.  \n",
        "After simulation we go through cicuit analysis. The analysis process saves all the node voltage, current and etc."
      ]
    },
    {
      "cell_type": "code",
      "execution_count": 13,
      "metadata": {
        "id": "IHYeNSib-6qV"
      },
      "outputs": [],
      "source": [
        "analysis = simulator.operating_point()"
      ]
    },
    {
      "cell_type": "markdown",
      "metadata": {
        "id": "fjWGNVLHJzgV"
      },
      "source": [
        "### Printing nodes voltage\n",
        "\n",
        "For example we want to see the voltage of each node"
      ]
    },
    {
      "cell_type": "code",
      "execution_count": 14,
      "metadata": {
        "colab": {
          "base_uri": "https://localhost:8080/"
        },
        "id": "KD01oLgNIMVX",
        "outputId": "30bf61d0-a9e8-4e29-9808-d97bbb7f4839"
      },
      "outputs": [
        {
          "name": "stdout",
          "output_type": "stream",
          "text": [
            "Noden_out: 6.0V\n",
            "Noden_in: 10.0V\n"
          ]
        },
        {
          "name": "stderr",
          "output_type": "stream",
          "text": [
            "C:\\Users\\Dr\\AppData\\Local\\Temp\\ipykernel_9996\\4014887527.py:2: DeprecationWarning: Conversion of an array with ndim > 0 to a scalar is deprecated, and will error in future. Ensure you extract a single element from your array before performing this operation. (Deprecated NumPy 1.25.)\n",
            "  print(f\"Node{str(node)}: {float(node)}V\")\n"
          ]
        }
      ],
      "source": [
        "for node in analysis.nodes.values():\n",
        "  print(f\"Node{str(node)}: {float(node)}V\")"
      ]
    },
    {
      "cell_type": "markdown",
      "metadata": {
        "id": "fT7FvtDKJUTb"
      },
      "source": [
        "### Specific node observation\n",
        "\n",
        "For simple voltage analysis for specific node you can use the code below"
      ]
    },
    {
      "cell_type": "code",
      "execution_count": 15,
      "metadata": {
        "colab": {
          "base_uri": "https://localhost:8080/"
        },
        "id": "xF0XCjWqJa1W",
        "outputId": "07e6d7de-07cf-4166-84e3-f3789df433f5"
      },
      "outputs": [
        {
          "name": "stdout",
          "output_type": "stream",
          "text": [
            "10.0\n"
          ]
        },
        {
          "name": "stderr",
          "output_type": "stream",
          "text": [
            "C:\\Users\\Dr\\AppData\\Local\\Temp\\ipykernel_9996\\2323803351.py:1: DeprecationWarning: Conversion of an array with ndim > 0 to a scalar is deprecated, and will error in future. Ensure you extract a single element from your array before performing this operation. (Deprecated NumPy 1.25.)\n",
            "  print(float(analysis.nodes['n_in']))\n"
          ]
        }
      ],
      "source": [
        "print(float(analysis.nodes['n_in']))"
      ]
    },
    {
      "cell_type": "markdown",
      "metadata": {
        "id": "EI1D-zGJKBeg"
      },
      "source": [
        "### Accessing to the Branches\n",
        "\n",
        "For current analysis of each branch we can write"
      ]
    },
    {
      "cell_type": "code",
      "execution_count": 16,
      "metadata": {
        "colab": {
          "base_uri": "https://localhost:8080/"
        },
        "id": "qEjO9fKCJjqV",
        "outputId": "ac5903d1-cdd9-43a6-9421-ad2c19849a41"
      },
      "outputs": [
        {
          "name": "stdout",
          "output_type": "stream",
          "text": [
            "Branchv1: -0.002A\n"
          ]
        },
        {
          "name": "stderr",
          "output_type": "stream",
          "text": [
            "C:\\Users\\Dr\\AppData\\Local\\Temp\\ipykernel_9996\\1718386672.py:2: DeprecationWarning: Conversion of an array with ndim > 0 to a scalar is deprecated, and will error in future. Ensure you extract a single element from your array before performing this operation. (Deprecated NumPy 1.25.)\n",
            "  print(f\"Branch{str(branch)}: {float(branch)}A\")\n"
          ]
        }
      ],
      "source": [
        "for branch in analysis.branches.values():\n",
        "  print(f\"Branch{str(branch)}: {float(branch)}A\")"
      ]
    },
    {
      "cell_type": "markdown",
      "metadata": {
        "id": "XP2gU6MQKZp0"
      },
      "source": [
        "### Specific Brach\n",
        "\n",
        "And for the specific branch we have"
      ]
    },
    {
      "cell_type": "code",
      "execution_count": 17,
      "metadata": {
        "colab": {
          "base_uri": "https://localhost:8080/"
        },
        "id": "AQgildu7KWvt",
        "outputId": "dbda5a76-ee78-4912-b4b9-b7417e1b1748"
      },
      "outputs": [
        {
          "name": "stdout",
          "output_type": "stream",
          "text": [
            "-0.002\n"
          ]
        },
        {
          "name": "stderr",
          "output_type": "stream",
          "text": [
            "C:\\Users\\Dr\\AppData\\Local\\Temp\\ipykernel_9996\\2415665817.py:1: DeprecationWarning: Conversion of an array with ndim > 0 to a scalar is deprecated, and will error in future. Ensure you extract a single element from your array before performing this operation. (Deprecated NumPy 1.25.)\n",
            "  print(float(analysis.branches['v1']))\n"
          ]
        }
      ],
      "source": [
        "print(float(analysis.branches['v1']))"
      ]
    },
    {
      "cell_type": "markdown",
      "metadata": {
        "id": "N0Ke_5kwLTAP"
      },
      "source": [
        "### Note\n",
        "In PySpice the positive current happens when the current flows from posistive to negetive voltage source(completely oposite of what we just expected)."
      ]
    }
  ],
  "metadata": {
    "colab": {
      "provenance": []
    },
    "kernelspec": {
      "display_name": "Python 3",
      "name": "python3"
    },
    "language_info": {
      "codemirror_mode": {
        "name": "ipython",
        "version": 3
      },
      "file_extension": ".py",
      "mimetype": "text/x-python",
      "name": "python",
      "nbconvert_exporter": "python",
      "pygments_lexer": "ipython3",
      "version": "3.12.4"
    }
  },
  "nbformat": 4,
  "nbformat_minor": 0
}
