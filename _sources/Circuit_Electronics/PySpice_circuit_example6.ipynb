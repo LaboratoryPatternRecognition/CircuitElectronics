{
 "cells": [
  {
   "cell_type": "markdown",
   "metadata": {},
   "source": [
    "# Example 6: Thevenin and Norton\n",
    "\n",
    "**Authors:**  \n",
    "Sania Dolat, Ali Saadatpour  \n",
    "\n",
    "**contacts:**  \n",
    "its.saniadlt@gmail.com  \n",
    "Qstzen@proton.me"
   ]
  },
  {
   "cell_type": "markdown",
   "metadata": {},
   "source": [
    "## **Thevenin** and **Norton**\n",
    "\n",
    "**Thevenin** and **Norton** theorems are techniques used in circuit analysis.   \n",
    "**Thevenin's theorem** simplifies a complex circuit to a single voltage source and a resistor, making analysis easier.    \n",
    "**Norton’s theorem** simplifies the circuit to a current source and a parallel resistor.                      \n",
    "Both methods provide equivalent circuits that produce the same voltage and current at the terminals when no load is attached. The Norton’s theorem is the dual of the Thévenin’s therorem and both are related by these equations: \n",
    "\n",
    "$$\n",
    "\\begin{split}\\begin{align}\n",
    "  R_{no} & = R_{th} \\\\\n",
    "  I_{no} & = V_{th} / R_{th} \\\\\n",
    "  V_{th} & = I_{No} R_{no}\n",
    "\\end{align}\\end{split}\n",
    "$$\n",
    "A picture below is the circuit we want to analyse for Thevinan and Norton theorems\n",
    "![Question.jpg](attachment:Question.jpg)\n",
    "\n",
    "## Imports"
   ]
  },
  {
   "cell_type": "code",
   "execution_count": 1,
   "metadata": {},
   "outputs": [
    {
     "data": {
      "text/plain": [
       "<Logger PySpice (INFO)>"
      ]
     },
     "execution_count": 1,
     "metadata": {},
     "output_type": "execute_result"
    }
   ],
   "source": [
    "from PySpice.Spice.Netlist import Circuit\n",
    "from PySpice.Unit import *\n",
    "\n",
    "from PySpice.Logging.Logging import setup_logging\n",
    "setup_logging()"
   ]
  },
  {
   "cell_type": "markdown",
   "metadata": {},
   "source": [
    "## Thevenin Circuit"
   ]
  },
  {
   "cell_type": "code",
   "execution_count": 2,
   "metadata": {},
   "outputs": [],
   "source": [
    "thevenin_circuit = Circuit('Example Circuit') # create thevenin_circuit instance "
   ]
  },
  {
   "cell_type": "markdown",
   "metadata": {},
   "source": [
    "## figure of Circuit\n",
    "For applying Thevenin theorem in circuit above, we need to add the components base on the circuit depicted below\n",
    "\n",
    "![OpenCircuitforNorton.jpg](<attachment:Open Circuit for Norton.jpg>)"
   ]
  },
  {
   "cell_type": "code",
   "execution_count": 3,
   "metadata": {},
   "outputs": [
    {
     "data": {
      "text/plain": [
       "Resistor R6"
      ]
     },
     "execution_count": 3,
     "metadata": {},
     "output_type": "execute_result"
    }
   ],
   "source": [
    "# Voltage source\n",
    "thevenin_circuit.V(1, 1, thevenin_circuit.gnd, 10@u_V)  # 10V between node 1 and ground\n",
    "\n",
    "# Current source\n",
    "thevenin_circuit.I(1, 2, 3, 100@u_mA)  # 0.1A current source between node 2 and node 3\n",
    "\n",
    "# Resistors\n",
    "thevenin_circuit.R(1, 1, thevenin_circuit.gnd, 1@u_kΩ)  # R1 = 1k ohm between node 1 and ground\n",
    "thevenin_circuit.R(2, 1, 2, 1@u_kΩ)            # R2 = 1k ohm between node 1 and node 2\n",
    "thevenin_circuit.R(3, 3, thevenin_circuit.gnd, 1@u_kΩ)  # R3 = 1k ohm between node 3 and ground\n",
    "thevenin_circuit.R(4, 2, thevenin_circuit.gnd, 1@u_kΩ)  # R4 = 1k ohm between node 2 and ground\n",
    "thevenin_circuit.R(5, 2, 'a', 1@u_kΩ)            # R5 = 1k ohm between node 2 and node 4\n",
    "thevenin_circuit.R(6, thevenin_circuit.gnd, 'a', 1@u_kΩ)  # R6 = 1k ohm between node 4 and ground"
   ]
  },
  {
   "cell_type": "markdown",
   "metadata": {},
   "source": [
    "## Simulation\n",
    "\n",
    "After adding components to the circuit, we need to simulate and analyse the circuit"
   ]
  },
  {
   "cell_type": "code",
   "execution_count": 4,
   "metadata": {},
   "outputs": [
    {
     "name": "stdout",
     "output_type": "stream",
     "text": [
      "2024-09-12 15:13:26,055 - PySpice.Spice.NgSpice.Shared.NgSpiceShared - Shared.ERROR - Note: can't find the initialization file spinit.\n",
      "2024-09-12 15:13:26,057 - PySpice.Spice.NgSpice.Shared.NgSpiceShared - Shared.WARNING - Unsupported Ngspice version 41\n"
     ]
    }
   ],
   "source": [
    "for resistance in (thevenin_circuit.R1, thevenin_circuit.R2, thevenin_circuit.R3, thevenin_circuit.R4, thevenin_circuit.R5, thevenin_circuit.R6):\n",
    "    resistance.plus.add_current_probe(thevenin_circuit)\n",
    "    \n",
    "# for resistance in (thevenin_circuit.R1, thevenin_circuit.R2, thevenin_circuit.R3, thevenin_circuit.R4, thevenin_circuit.R5, thevenin_circuit.R6):\n",
    "#     resistance.minus.add_current_probe(thevenin_circuit)\n",
    "\n",
    "simulator = thevenin_circuit.simulator(temperature=25, nominal_temperature=25)\n",
    "analysis = simulator.operating_point()"
   ]
  },
  {
   "cell_type": "markdown",
   "metadata": {},
   "source": [
    "## Ploting\n",
    "\n",
    "Let's plot the voltages and currents for each branch and node"
   ]
  },
  {
   "cell_type": "code",
   "execution_count": 5,
   "metadata": {},
   "outputs": [
    {
     "name": "stdout",
     "output_type": "stream",
     "text": [
      "--------------------------------Voltages---------------------------------\n",
      "Node 1 voltage: 10.00 V\n",
      "Node 2 voltage: -36.00 V\n",
      "Node 3 voltage: 100.00 V\n",
      "Node a voltage: -18.00 V\n",
      "--------------------------------Current----------------------------------\n",
      "Node v1: -56.000 mA\n",
      "Node vr1: 10.000 mA\n",
      "Node vr2: 46.000 mA\n",
      "Node vr3: 100.000 mA\n",
      "Node vr4: -36.000 mA\n",
      "Node vr5: -18.000 mA\n",
      "Node vr6: 18.000 mA\n"
     ]
    },
    {
     "name": "stderr",
     "output_type": "stream",
     "text": [
      "C:\\Users\\Sina\\AppData\\Local\\Temp\\ipykernel_9476\\1284257669.py:3: DeprecationWarning: Conversion of an array with ndim > 0 to a scalar is deprecated, and will error in future. Ensure you extract a single element from your array before performing this operation. (Deprecated NumPy 1.25.)\n",
      "  print(f'Node {node} voltage: {float(analysis[node]):.2f} V')\n",
      "C:\\Users\\Sina\\AppData\\Local\\Temp\\ipykernel_9476\\1284257669.py:7: DeprecationWarning: Conversion of an array with ndim > 0 to a scalar is deprecated, and will error in future. Ensure you extract a single element from your array before performing this operation. (Deprecated NumPy 1.25.)\n",
      "  print('Node {}: {:5.3f} mA'.format(str(simplified_node), float(node*1000)))\n"
     ]
    }
   ],
   "source": [
    "print('--------------------------------Voltages---------------------------------')\n",
    "for node in ('1', '2', '3', 'a'):\n",
    "    print(f'Node {node} voltage: {float(analysis[node]):.2f} V')\n",
    "print('--------------------------------Current----------------------------------')\n",
    "for node in analysis.branches.values():\n",
    "    simplified_node = str(node).replace('_plus', '')\n",
    "    print('Node {}: {:5.3f} mA'.format(str(simplified_node), float(node*1000)))"
   ]
  },
  {
   "cell_type": "markdown",
   "metadata": {},
   "source": [
    "## result 1\n",
    "As you can see the Thevenin voltage is equal to -18.00 V"
   ]
  },
  {
   "cell_type": "code",
   "execution_count": 7,
   "metadata": {},
   "outputs": [
    {
     "name": "stderr",
     "output_type": "stream",
     "text": [
      "C:\\Users\\Sina\\AppData\\Local\\Temp\\ipykernel_9476\\357230956.py:1: DeprecationWarning: Conversion of an array with ndim > 0 to a scalar is deprecated, and will error in future. Ensure you extract a single element from your array before performing this operation. (Deprecated NumPy 1.25.)\n",
      "  thevenin_voltage = float(analysis.nodes['a'])\n"
     ]
    },
    {
     "data": {
      "text/plain": [
       "-18.000000000000004"
      ]
     },
     "execution_count": 7,
     "metadata": {},
     "output_type": "execute_result"
    }
   ],
   "source": [
    "thevenin_voltage = float(analysis.nodes['a'])\n",
    "thevenin_voltage"
   ]
  },
  {
   "cell_type": "markdown",
   "metadata": {},
   "source": [
    "## Norton Circuit"
   ]
  },
  {
   "cell_type": "code",
   "execution_count": 9,
   "metadata": {},
   "outputs": [],
   "source": [
    "norton_circuit = Circuit('Example Circuit') # create norton_circuit instance "
   ]
  },
  {
   "cell_type": "markdown",
   "metadata": {},
   "source": [
    "## Norton of Circuit\n",
    "Now let's apply the Norton theorem for the circuit. For this we need to add the components base on the circuit depicted below\n",
    "![ShortCircuitforNorton.jpg](<attachment:Short Circuit for Norton.jpg>)"
   ]
  },
  {
   "cell_type": "code",
   "execution_count": 10,
   "metadata": {},
   "outputs": [
    {
     "data": {
      "text/plain": [
       "Resistor R6"
      ]
     },
     "execution_count": 10,
     "metadata": {},
     "output_type": "execute_result"
    }
   ],
   "source": [
    "# Voltage source\n",
    "norton_circuit.V(1, 1, norton_circuit.gnd, 10@u_V)  # 10V between node 1 and ground\n",
    "\n",
    "# Current source\n",
    "norton_circuit.I(1, 2, 3, 100@u_mA)  # 0.1A current source between node 2 and node 3\n",
    "\n",
    "# Resistors\n",
    "norton_circuit.R(1, 1, norton_circuit.gnd, 1@u_kΩ)  # R1 = 1k ohm between node 1 and ground\n",
    "norton_circuit.R(2, 1, 2, 1@u_kΩ)            # R2 = 1k ohm between node 1 and node 2\n",
    "norton_circuit.R(3, 3, norton_circuit.gnd, 1@u_kΩ)  # R3 = 1k ohm between node 3 and ground\n",
    "norton_circuit.R(4, 2, norton_circuit.gnd, 1@u_kΩ)  # R4 = 1k ohm between node 2 and ground\n",
    "norton_circuit.R(5, 2, norton_circuit.gnd, 1@u_kΩ)            # R5 = 1k ohm between node 2 and node 4\n",
    "norton_circuit.R(6, norton_circuit.gnd, norton_circuit.gnd, 1@u_kΩ)  # R6 = 1k ohm between node 4 and ground"
   ]
  },
  {
   "cell_type": "markdown",
   "metadata": {},
   "source": [
    "## Analysis\n",
    "After adding components to the circuit, we need to simulate and analyse the circuit"
   ]
  },
  {
   "cell_type": "code",
   "execution_count": 11,
   "metadata": {},
   "outputs": [],
   "source": [
    "for resistance in (norton_circuit.R1, norton_circuit.R2, norton_circuit.R3, norton_circuit.R4, norton_circuit.R5, norton_circuit.R6):\n",
    "    resistance.plus.add_current_probe(norton_circuit)\n",
    "    \n",
    "# for resistance in (norton_circuit.R1, norton_circuit.R2, norton_circuit.R3, norton_circuit.R4, norton_circuit.R5, norton_circuit.R6):\n",
    "#     resistance.minus.add_current_probe(norton_circuit)\n",
    "\n",
    "simulator = norton_circuit.simulator(temperature=25, nominal_temperature=25)\n",
    "analysis = simulator.operating_point()"
   ]
  },
  {
   "cell_type": "markdown",
   "metadata": {},
   "source": [
    "## Voltage and Current\n",
    "Let's plot the voltages and currents for each branch and node"
   ]
  },
  {
   "cell_type": "code",
   "execution_count": 12,
   "metadata": {},
   "outputs": [
    {
     "name": "stdout",
     "output_type": "stream",
     "text": [
      "--------------------------------Voltages---------------------------------\n",
      "Node 1 voltage: 10.00 V\n",
      "Node 2 voltage: -30.00 V\n",
      "Node 3 voltage: 100.00 V\n",
      "--------------------------------Current----------------------------------\n",
      "Node v1: -50.000 mA\n",
      "Node vr1: 10.000 mA\n",
      "Node vr2: 40.000 mA\n",
      "Node vr3: 100.000 mA\n",
      "Node vr4: -30.000 mA\n",
      "Node vr5: -30.000 mA\n",
      "Node vr6: 0.000 mA\n"
     ]
    },
    {
     "name": "stderr",
     "output_type": "stream",
     "text": [
      "C:\\Users\\Sina\\AppData\\Local\\Temp\\ipykernel_9476\\3431291225.py:3: DeprecationWarning: Conversion of an array with ndim > 0 to a scalar is deprecated, and will error in future. Ensure you extract a single element from your array before performing this operation. (Deprecated NumPy 1.25.)\n",
      "  print(f'Node {node} voltage: {float(analysis[node]):.2f} V')\n",
      "C:\\Users\\Sina\\AppData\\Local\\Temp\\ipykernel_9476\\3431291225.py:7: DeprecationWarning: Conversion of an array with ndim > 0 to a scalar is deprecated, and will error in future. Ensure you extract a single element from your array before performing this operation. (Deprecated NumPy 1.25.)\n",
      "  print('Node {}: {:5.3f} mA'.format(str(simplified_node), float(node*1000)))\n"
     ]
    }
   ],
   "source": [
    "print('--------------------------------Voltages---------------------------------')\n",
    "for node in ('1', '2', '3'):\n",
    "    print(f'Node {node} voltage: {float(analysis[node]):.2f} V')\n",
    "print('--------------------------------Current----------------------------------')\n",
    "for node in analysis.branches.values():\n",
    "    simplified_node = str(node).replace('_plus', '')\n",
    "    print('Node {}: {:5.3f} mA'.format(str(simplified_node), float(node*1000)))"
   ]
  },
  {
   "cell_type": "markdown",
   "metadata": {},
   "source": [
    "## Example of Norton current\n",
    "As you can see the Norton current is equal to 30.00 mA\n",
    "The Thevenin voltage of this circuit is equal to -18.00 V and the Norton current is equal to 30.00 mA. Now we need to calculate the R_th (Thevenin resistor)."
   ]
  },
  {
   "cell_type": "code",
   "execution_count": 29,
   "metadata": {},
   "outputs": [
    {
     "name": "stderr",
     "output_type": "stream",
     "text": [
      "C:\\Users\\Computer2000\\AppData\\Local\\Temp\\ipykernel_19704\\1592136020.py:1: DeprecationWarning: Conversion of an array with ndim > 0 to a scalar is deprecated, and will error in future. Ensure you extract a single element from your array before performing this operation. (Deprecated NumPy 1.25.)\n",
      "  norton_current = float(analysis.branches['vr5_plus'])*1000\n"
     ]
    },
    {
     "data": {
      "text/plain": [
       "-30.000000000000007"
      ]
     },
     "execution_count": 29,
     "metadata": {},
     "output_type": "execute_result"
    }
   ],
   "source": [
    "norton_current = float(analysis.branches['vr5_plus'])*1000\n",
    "norton_current"
   ]
  },
  {
   "cell_type": "code",
   "execution_count": 30,
   "metadata": {},
   "outputs": [
    {
     "name": "stdout",
     "output_type": "stream",
     "text": [
      "Result: 0.6\n"
     ]
    }
   ],
   "source": [
    "R_eq = abs(thevenin_voltage/norton_current)\n",
    "print(f'Result: {R_eq:.1f}')"
   ]
  },
  {
   "cell_type": "markdown",
   "metadata": {},
   "source": [
    "## **Thevenin Circuit**\n",
    "Now that we calculate the Thevenin voltage, Norton current and R_eq we can simplify the circuit using Thevenin and Norton theorem.\n",
    "![equivalenttoThevenin.jpg](<attachment:equivalent to Thevenin .jpg>)"
   ]
  },
  {
   "cell_type": "markdown",
   "metadata": {},
   "source": [
    "## **Norton Circuit**\n",
    "![equivalenttoNorton.jpg](<attachment:equivalent to Norton.jpg>)"
   ]
  }
 ],
 "metadata": {
  "kernelspec": {
   "display_name": "Python 3",
   "language": "python",
   "name": "python3"
  },
  "language_info": {
   "codemirror_mode": {
    "name": "ipython",
    "version": 3
   },
   "file_extension": ".py",
   "mimetype": "text/x-python",
   "name": "python",
   "nbconvert_exporter": "python",
   "pygments_lexer": "ipython3",
   "version": "3.12.4"
  }
 },
 "nbformat": 4,
 "nbformat_minor": 2
}
