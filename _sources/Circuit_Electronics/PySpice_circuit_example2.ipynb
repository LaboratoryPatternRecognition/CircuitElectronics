{
  "cells": [
    {
      "cell_type": "markdown",
      "metadata": {},
      "source": [
        "# Example 2: DIODE CIRCUIT\n",
        "\n",
        "***Authors:*** Sania Dolat, Ali Saadatpour\n",
        " \n",
        "***Contacts:***  qstzen@proton.me, its.saniadlt@gmail.com"
      ]
    },
    {
      "cell_type": "markdown",
      "metadata": {},
      "source": [
        "## Brief overview of the diode\n",
        "\n",
        "### What is diode?\n",
        "\n",
        "A diode is a semiconductor device that allows current to flow in one direction while blocking it in the opposite direction. The fundamental operation of a diode is based on the behavior of charge carriers in semiconductors, typically made from silicon or germanium.\n",
        "\n",
        "### Diode Application\n",
        "\n",
        "1. Forward Bias: When a positive voltage is applied to the anode and a negative voltage to the cathode, the diode becomes forward-biased. The potential barrier is reduced, allowing charge carriers (holes from the p-side and electrons from the n-side) to recombine and flow through the diode. This results in current flow.\n",
        "\n",
        "2. Reverse Bias: When the voltage is reversed (negative at the anode and positive at the cathode), the potential barrier increases. This prevents current from flowing through the diode, effectively blocking it. A small reverse saturation current may flow, but it is typically negligible.\n",
        "\n",
        "3. Breakdown Voltage: If the reverse voltage exceeds a certain threshold (breakdown voltage), the diode can enter a breakdown region. In certain types of diodes (like Zener diodes), this behavior is utilized for voltage regulation.\n",
        "\n"
      ]
    },
    {
      "cell_type": "markdown",
      "metadata": {},
      "source": [
        "## Start Programming \n",
        "In this example we want to implement a simple diode curcuit and analyse its current \n",
        "Run the cell below to see the circuit for implementation"
      ]
    },
    {
      "cell_type": "code",
      "execution_count": 41,
      "metadata": {},
      "outputs": [
        {
          "data": {
            "image/png": "[encoded data removed]",
            "image/svg+xml": [
              "<?xml version=\"1.0\" encoding=\"utf-8\" standalone=\"no\"?>\n",
              "<!DOCTYPE svg PUBLIC \"-//W3C//DTD SVG 1.1//EN\"\n",
              "  \"http://www.w3.org/Graphics/SVG/1.1/DTD/svg11.dtd\">\n",
              "<svg xmlns:xlink=\"http://www.w3.org/1999/xlink\" width=\"200.196pt\" height=\"200.2pt\" viewBox=\"0 0 200.196 200.2\" xmlns=\"http://www.w3.org/2000/svg\" version=\"1.1\">\n",
              " <metadata>\n",
              "  <rdf:RDF xmlns:dc=\"http://purl.org/dc/elements/1.1/\" xmlns:cc=\"http://creativecommons.org/ns#\" xmlns:rdf=\"http://www.w3.org/1999/02/22-rdf-syntax-ns#\">\n",
              "   <cc:Work>\n",
              "    <dc:type rdf:resource=\"http://purl.org/dc/dcmitype/StillImage\"/>\n",
              "    <dc:date>2024-09-26T05:20:31.325476</dc:date>\n",
              "    <dc:format>image/svg+xml</dc:format>\n",
              "    <dc:creator>\n",
              "     <cc:Agent>\n",
              "      <dc:title>Matplotlib v3.9.2, https://matplotlib.org/</dc:title>\n",
              "     </cc:Agent>\n",
              "    </dc:creator>\n",
              "   </cc:Work>\n",
              "  </rdf:RDF>\n",
              " </metadata>\n",
              " <defs>\n",
              "  <style type=\"text/css\">*{stroke-linejoin: round; stroke-linecap: butt}</style>\n",
              " </defs>\n",
              " <g id=\"figure_1\">\n",
              "  <g id=\"patch_1\">\n",
              "   <path d=\"M 0 200.2 \n",
              "L 200.196 200.2 \n",
              "L 200.196 0 \n",
              "L 0 0 \n",
              "z\n",
              "\" style=\"fill: #ffffff\"/>\n",
              "  </g>\n",
              "  <g id=\"axes_1\">\n",
              "   <g id=\"patch_2\">\n",
              "    <path d=\"M 43.668 136.48 \n",
              "C 48.441656 136.48 53.020438 134.583406 56.395922 131.207922 \n",
              "C 59.771406 127.832438 61.668 123.253656 61.668 118.48 \n",
              "C 61.668 113.706344 59.771406 109.127562 56.395922 105.752078 \n",
              "C 53.020438 102.376594 48.441656 100.48 43.668 100.48 \n",
              "C 38.894344 100.48 34.315562 102.376594 30.940078 105.752078 \n",
              "C 27.564594 109.127562 25.668 113.706344 25.668 118.48 \n",
              "C 25.668 123.253656 27.564594 127.832438 30.940078 131.207922 \n",
              "C 34.315562 134.583406 38.894344 136.48 43.668 136.48 \n",
              "L 43.668 136.48 \n",
              "z\n",
              "\" clip-path=\"url(#pecccdd6259)\" style=\"fill: none; stroke: #000000; stroke-width: 2; stroke-linejoin: miter\"/>\n",
              "   </g>\n",
              "   <g id=\"patch_3\">\n",
              "    <path d=\"M 160.668 76.18 \n",
              "L 151.668 88.78 \n",
              "L 142.668 76.18 \n",
              "L 160.668 76.18 \n",
              "z\n",
              "\" clip-path=\"url(#pecccdd6259)\" style=\"fill: none; stroke: #000000; stroke-width: 2; stroke-linecap: round\"/>\n",
              "   </g>\n",
              "   <g id=\"line2d_1\">\n",
              "    <path d=\"M 43.668 64.48 \n",
              "L 43.668 100.48 \n",
              "L 43.668 100.48 \n",
              "M 43.668 136.48 \n",
              "L 43.668 136.48 \n",
              "L 43.668 172.48 \n",
              "\" clip-path=\"url(#pecccdd6259)\" style=\"fill: none; stroke: #000000; stroke-width: 2; stroke-linecap: round\"/>\n",
              "   </g>\n",
              "   <g id=\"line2d_2\">\n",
              "    <path d=\"M 40.068 109.48 \n",
              "L 47.268 109.48 \n",
              "\" clip-path=\"url(#pecccdd6259)\" style=\"fill: none; stroke: #000000; stroke-width: 2; stroke-linecap: round\"/>\n",
              "   </g>\n",
              "   <g id=\"line2d_3\">\n",
              "    <path d=\"M 43.668 123.88 \n",
              "L 43.668 131.08 \n",
              "\" clip-path=\"url(#pecccdd6259)\" style=\"fill: none; stroke: #000000; stroke-width: 2; stroke-linecap: round\"/>\n",
              "   </g>\n",
              "   <g id=\"line2d_4\">\n",
              "    <path d=\"M 40.068 127.48 \n",
              "L 47.268 127.48 \n",
              "\" clip-path=\"url(#pecccdd6259)\" style=\"fill: none; stroke: #000000; stroke-width: 2; stroke-linecap: round\"/>\n",
              "   </g>\n",
              "   <g id=\"line2d_5\">\n",
              "    <path d=\"M 43.668 172.48 \n",
              "L 43.668 186.88 \n",
              "L 34.668 186.88 \n",
              "L 52.668 186.88 \n",
              "M 37.368 191.2 \n",
              "L 49.968 191.2 \n",
              "M 41.868 195.52 \n",
              "L 45.468 195.52 \n",
              "\" clip-path=\"url(#pecccdd6259)\" style=\"fill: none; stroke: #000000; stroke-width: 2; stroke-linecap: round\"/>\n",
              "   </g>\n",
              "   <g id=\"line2d_6\">\n",
              "    <path d=\"M 43.668 28.48 \n",
              "L 79.668 28.48 \n",
              "L 82.668 19.48 \n",
              "L 88.668 37.48 \n",
              "L 94.668 19.48 \n",
              "L 100.668 37.48 \n",
              "L 106.668 19.48 \n",
              "L 112.668 37.48 \n",
              "L 115.668 28.48 \n",
              "L 151.668 28.48 \n",
              "\" clip-path=\"url(#pecccdd6259)\" style=\"fill: none; stroke: #000000; stroke-width: 2; stroke-linecap: round\"/>\n",
              "   </g>\n",
              "   <g id=\"line2d_7\">\n",
              "    <path d=\"M 151.668 28.48 \n",
              "L 151.668 76.18 \n",
              "M 160.668 88.78 \n",
              "L 142.668 88.78 \n",
              "M 151.668 88.78 \n",
              "L 151.668 136.48 \n",
              "\" clip-path=\"url(#pecccdd6259)\" style=\"fill: none; stroke: #000000; stroke-width: 2; stroke-linecap: round\"/>\n",
              "   </g>\n",
              "   <g id=\"line2d_8\">\n",
              "    <path d=\"M 151.668 136.48 \n",
              "L 151.668 150.88 \n",
              "L 142.668 150.88 \n",
              "L 160.668 150.88 \n",
              "M 145.368 155.2 \n",
              "L 157.968 155.2 \n",
              "M 149.868 159.52 \n",
              "L 153.468 159.52 \n",
              "\" clip-path=\"url(#pecccdd6259)\" style=\"fill: none; stroke: #000000; stroke-width: 2; stroke-linecap: round\"/>\n",
              "   </g>\n",
              "   <g id=\"line2d_9\">\n",
              "    <path d=\"M 43.668 64.48 \n",
              "L 43.668 46.48 \n",
              "L 43.668 28.48 \n",
              "\" clip-path=\"url(#pecccdd6259)\" style=\"fill: none; stroke: #000000; stroke-width: 2; stroke-linecap: round\"/>\n",
              "   </g>\n",
              "   <g id=\"text_1\">\n",
              "    <!-- V1 -->\n",
              "    <g transform=\"translate(3.583625 122.343125) scale(0.14 -0.14)\">\n",
              "     <defs>\n",
              "      <path id=\"DejaVuSans-56\" d=\"M 1831 0 \n",
              "L 50 4666 \n",
              "L 709 4666 \n",
              "L 2188 738 \n",
              "L 3669 4666 \n",
              "L 4325 4666 \n",
              "L 2547 0 \n",
              "L 1831 0 \n",
              "z\n",
              "\" transform=\"scale(0.015625)\"/>\n",
              "      <path id=\"DejaVuSans-31\" d=\"M 794 531 \n",
              "L 1825 531 \n",
              "L 1825 4091 \n",
              "L 703 3866 \n",
              "L 703 4441 \n",
              "L 1819 4666 \n",
              "L 2450 4666 \n",
              "L 2450 531 \n",
              "L 3481 531 \n",
              "L 3481 0 \n",
              "L 794 0 \n",
              "L 794 531 \n",
              "z\n",
              "\" transform=\"scale(0.015625)\"/>\n",
              "     </defs>\n",
              "     <use xlink:href=\"#DejaVuSans-56\"/>\n",
              "     <use xlink:href=\"#DejaVuSans-31\" x=\"68.408203\"/>\n",
              "    </g>\n",
              "   </g>\n",
              "   <g id=\"text_2\">\n",
              "    <!-- GND -->\n",
              "    <g transform=\"translate(56.268 187.863125) scale(0.14 -0.14)\">\n",
              "     <defs>\n",
              "      <path id=\"DejaVuSans-47\" d=\"M 3809 666 \n",
              "L 3809 1919 \n",
              "L 2778 1919 \n",
              "L 2778 2438 \n",
              "L 4434 2438 \n",
              "L 4434 434 \n",
              "Q 4069 175 3628 42 \n",
              "Q 3188 -91 2688 -91 \n",
              "Q 1594 -91 976 548 \n",
              "Q 359 1188 359 2328 \n",
              "Q 359 3472 976 4111 \n",
              "Q 1594 4750 2688 4750 \n",
              "Q 3144 4750 3555 4637 \n",
              "Q 3966 4525 4313 4306 \n",
              "L 4313 3634 \n",
              "Q 3963 3931 3569 4081 \n",
              "Q 3175 4231 2741 4231 \n",
              "Q 1884 4231 1454 3753 \n",
              "Q 1025 3275 1025 2328 \n",
              "Q 1025 1384 1454 906 \n",
              "Q 1884 428 2741 428 \n",
              "Q 3075 428 3337 486 \n",
              "Q 3600 544 3809 666 \n",
              "z\n",
              "\" transform=\"scale(0.015625)\"/>\n",
              "      <path id=\"DejaVuSans-4e\" d=\"M 628 4666 \n",
              "L 1478 4666 \n",
              "L 3547 763 \n",
              "L 3547 4666 \n",
              "L 4159 4666 \n",
              "L 4159 0 \n",
              "L 3309 0 \n",
              "L 1241 3903 \n",
              "L 1241 0 \n",
              "L 628 0 \n",
              "L 628 4666 \n",
              "z\n",
              "\" transform=\"scale(0.015625)\"/>\n",
              "      <path id=\"DejaVuSans-44\" d=\"M 1259 4147 \n",
              "L 1259 519 \n",
              "L 2022 519 \n",
              "Q 2988 519 3436 956 \n",
              "Q 3884 1394 3884 2338 \n",
              "Q 3884 3275 3436 3711 \n",
              "Q 2988 4147 2022 4147 \n",
              "L 1259 4147 \n",
              "z\n",
              "M 628 4666 \n",
              "L 1925 4666 \n",
              "Q 3281 4666 3915 4102 \n",
              "Q 4550 3538 4550 2338 \n",
              "Q 4550 1131 3912 565 \n",
              "Q 3275 0 1925 0 \n",
              "L 628 0 \n",
              "L 628 4666 \n",
              "z\n",
              "\" transform=\"scale(0.015625)\"/>\n",
              "     </defs>\n",
              "     <use xlink:href=\"#DejaVuSans-47\"/>\n",
              "     <use xlink:href=\"#DejaVuSans-4e\" x=\"77.490234\"/>\n",
              "     <use xlink:href=\"#DejaVuSans-44\" x=\"152.294922\"/>\n",
              "    </g>\n",
              "   </g>\n",
              "   <g id=\"text_3\">\n",
              "    <!-- R1 -->\n",
              "    <g transform=\"translate(88.350344 12.968437) scale(0.14 -0.14)\">\n",
              "     <defs>\n",
              "      <path id=\"DejaVuSans-52\" d=\"M 2841 2188 \n",
              "Q 3044 2119 3236 1894 \n",
              "Q 3428 1669 3622 1275 \n",
              "L 4263 0 \n",
              "L 3584 0 \n",
              "L 2988 1197 \n",
              "Q 2756 1666 2539 1819 \n",
              "Q 2322 1972 1947 1972 \n",
              "L 1259 1972 \n",
              "L 1259 0 \n",
              "L 628 0 \n",
              "L 628 4666 \n",
              "L 2053 4666 \n",
              "Q 2853 4666 3247 4331 \n",
              "Q 3641 3997 3641 3322 \n",
              "Q 3641 2881 3436 2590 \n",
              "Q 3231 2300 2841 2188 \n",
              "z\n",
              "M 1259 4147 \n",
              "L 1259 2491 \n",
              "L 2053 2491 \n",
              "Q 2509 2491 2742 2702 \n",
              "Q 2975 2913 2975 3322 \n",
              "Q 2975 3731 2742 3939 \n",
              "Q 2509 4147 2053 4147 \n",
              "L 1259 4147 \n",
              "z\n",
              "\" transform=\"scale(0.015625)\"/>\n",
              "     </defs>\n",
              "     <use xlink:href=\"#DejaVuSans-52\"/>\n",
              "     <use xlink:href=\"#DejaVuSans-31\" x=\"69.482422\"/>\n",
              "    </g>\n",
              "   </g>\n",
              "   <g id=\"text_4\">\n",
              "    <!-- D2 -->\n",
              "    <g transform=\"translate(119.3805 86.343125) scale(0.14 -0.14)\">\n",
              "     <defs>\n",
              "      <path id=\"DejaVuSans-32\" d=\"M 1228 531 \n",
              "L 3431 531 \n",
              "L 3431 0 \n",
              "L 469 0 \n",
              "L 469 531 \n",
              "Q 828 903 1448 1529 \n",
              "Q 2069 2156 2228 2338 \n",
              "Q 2531 2678 2651 2914 \n",
              "Q 2772 3150 2772 3378 \n",
              "Q 2772 3750 2511 3984 \n",
              "Q 2250 4219 1831 4219 \n",
              "Q 1534 4219 1204 4116 \n",
              "Q 875 4013 500 3803 \n",
              "L 500 4441 \n",
              "Q 881 4594 1212 4672 \n",
              "Q 1544 4750 1819 4750 \n",
              "Q 2544 4750 2975 4387 \n",
              "Q 3406 4025 3406 3419 \n",
              "Q 3406 3131 3298 2873 \n",
              "Q 3191 2616 2906 2266 \n",
              "Q 2828 2175 2409 1742 \n",
              "Q 1991 1309 1228 531 \n",
              "z\n",
              "\" transform=\"scale(0.015625)\"/>\n",
              "     </defs>\n",
              "     <use xlink:href=\"#DejaVuSans-44\"/>\n",
              "     <use xlink:href=\"#DejaVuSans-32\" x=\"77.001953\"/>\n",
              "    </g>\n",
              "   </g>\n",
              "   <g id=\"text_5\">\n",
              "    <!-- GND -->\n",
              "    <g transform=\"translate(164.268 151.863125) scale(0.14 -0.14)\">\n",
              "     <use xlink:href=\"#DejaVuSans-47\"/>\n",
              "     <use xlink:href=\"#DejaVuSans-4e\" x=\"77.490234\"/>\n",
              "     <use xlink:href=\"#DejaVuSans-44\" x=\"152.294922\"/>\n",
              "    </g>\n",
              "   </g>\n",
              "   <g id=\"patch_4\">\n",
              "    <path d=\"M 43.668 31.18 \n",
              "C 44.384048 31.18 45.070866 30.895511 45.577188 30.389188 \n",
              "C 46.083511 29.882866 46.368 29.196048 46.368 28.48 \n",
              "C 46.368 27.763952 46.083511 27.077134 45.577188 26.570812 \n",
              "C 45.070866 26.064489 44.384048 25.78 43.668 25.78 \n",
              "C 42.951952 25.78 42.265134 26.064489 41.758812 26.570812 \n",
              "C 41.252489 27.077134 40.968 27.763952 40.968 28.48 \n",
              "C 40.968 29.196048 41.252489 29.882866 41.758812 30.389188 \n",
              "C 42.265134 30.895511 42.951952 31.18 43.668 31.18 \n",
              "z\n",
              "\" clip-path=\"url(#pecccdd6259)\" style=\"stroke: #000000; stroke-width: 2; stroke-linejoin: miter\"/>\n",
              "   </g>\n",
              "   <g id=\"text_6\">\n",
              "    <!-- N_in -->\n",
              "    <g transform=\"translate(7.132375 32.148438) scale(0.14 -0.14)\">\n",
              "     <defs>\n",
              "      <path id=\"DejaVuSans-5f\" d=\"M 3263 -1063 \n",
              "L 3263 -1509 \n",
              "L -63 -1509 \n",
              "L -63 -1063 \n",
              "L 3263 -1063 \n",
              "z\n",
              "\" transform=\"scale(0.015625)\"/>\n",
              "      <path id=\"DejaVuSans-69\" d=\"M 603 3500 \n",
              "L 1178 3500 \n",
              "L 1178 0 \n",
              "L 603 0 \n",
              "L 603 3500 \n",
              "z\n",
              "M 603 4863 \n",
              "L 1178 4863 \n",
              "L 1178 4134 \n",
              "L 603 4134 \n",
              "L 603 4863 \n",
              "z\n",
              "\" transform=\"scale(0.015625)\"/>\n",
              "      <path id=\"DejaVuSans-6e\" d=\"M 3513 2113 \n",
              "L 3513 0 \n",
              "L 2938 0 \n",
              "L 2938 2094 \n",
              "Q 2938 2591 2744 2837 \n",
              "Q 2550 3084 2163 3084 \n",
              "Q 1697 3084 1428 2787 \n",
              "Q 1159 2491 1159 1978 \n",
              "L 1159 0 \n",
              "L 581 0 \n",
              "L 581 3500 \n",
              "L 1159 3500 \n",
              "L 1159 2956 \n",
              "Q 1366 3272 1645 3428 \n",
              "Q 1925 3584 2291 3584 \n",
              "Q 2894 3584 3203 3211 \n",
              "Q 3513 2838 3513 2113 \n",
              "z\n",
              "\" transform=\"scale(0.015625)\"/>\n",
              "     </defs>\n",
              "     <use xlink:href=\"#DejaVuSans-4e\"/>\n",
              "     <use xlink:href=\"#DejaVuSans-5f\" x=\"74.804688\"/>\n",
              "     <use xlink:href=\"#DejaVuSans-69\" x=\"124.804688\"/>\n",
              "     <use xlink:href=\"#DejaVuSans-6e\" x=\"152.587891\"/>\n",
              "    </g>\n",
              "   </g>\n",
              "   <g id=\"patch_5\">\n",
              "    <path d=\"M 151.668 31.18 \n",
              "C 152.384048 31.18 153.070866 30.895511 153.577188 30.389188 \n",
              "C 154.083511 29.882866 154.368 29.196048 154.368 28.48 \n",
              "C 154.368 27.763952 154.083511 27.077134 153.577188 26.570812 \n",
              "C 153.070866 26.064489 152.384048 25.78 151.668 25.78 \n",
              "C 150.951952 25.78 150.265134 26.064489 149.758812 26.570812 \n",
              "C 149.252489 27.077134 148.968 27.763952 148.968 28.48 \n",
              "C 148.968 29.196048 149.252489 29.882866 149.758812 30.389188 \n",
              "C 150.265134 30.895511 150.951952 31.18 151.668 31.18 \n",
              "z\n",
              "\" clip-path=\"url(#pecccdd6259)\" style=\"stroke: #000000; stroke-width: 2; stroke-linejoin: miter\"/>\n",
              "   </g>\n",
              "   <g id=\"text_7\">\n",
              "    <!-- N_out -->\n",
              "    <g transform=\"translate(157.968 31.95375) scale(0.14 -0.14)\">\n",
              "     <defs>\n",
              "      <path id=\"DejaVuSans-6f\" d=\"M 1959 3097 \n",
              "Q 1497 3097 1228 2736 \n",
              "Q 959 2375 959 1747 \n",
              "Q 959 1119 1226 758 \n",
              "Q 1494 397 1959 397 \n",
              "Q 2419 397 2687 759 \n",
              "Q 2956 1122 2956 1747 \n",
              "Q 2956 2369 2687 2733 \n",
              "Q 2419 3097 1959 3097 \n",
              "z\n",
              "M 1959 3584 \n",
              "Q 2709 3584 3137 3096 \n",
              "Q 3566 2609 3566 1747 \n",
              "Q 3566 888 3137 398 \n",
              "Q 2709 -91 1959 -91 \n",
              "Q 1206 -91 779 398 \n",
              "Q 353 888 353 1747 \n",
              "Q 353 2609 779 3096 \n",
              "Q 1206 3584 1959 3584 \n",
              "z\n",
              "\" transform=\"scale(0.015625)\"/>\n",
              "      <path id=\"DejaVuSans-75\" d=\"M 544 1381 \n",
              "L 544 3500 \n",
              "L 1119 3500 \n",
              "L 1119 1403 \n",
              "Q 1119 906 1312 657 \n",
              "Q 1506 409 1894 409 \n",
              "Q 2359 409 2629 706 \n",
              "Q 2900 1003 2900 1516 \n",
              "L 2900 3500 \n",
              "L 3475 3500 \n",
              "L 3475 0 \n",
              "L 2900 0 \n",
              "L 2900 538 \n",
              "Q 2691 219 2414 64 \n",
              "Q 2138 -91 1772 -91 \n",
              "Q 1169 -91 856 284 \n",
              "Q 544 659 544 1381 \n",
              "z\n",
              "M 1991 3584 \n",
              "L 1991 3584 \n",
              "z\n",
              "\" transform=\"scale(0.015625)\"/>\n",
              "      <path id=\"DejaVuSans-74\" d=\"M 1172 4494 \n",
              "L 1172 3500 \n",
              "L 2356 3500 \n",
              "L 2356 3053 \n",
              "L 1172 3053 \n",
              "L 1172 1153 \n",
              "Q 1172 725 1289 603 \n",
              "Q 1406 481 1766 481 \n",
              "L 2356 481 \n",
              "L 2356 0 \n",
              "L 1766 0 \n",
              "Q 1100 0 847 248 \n",
              "Q 594 497 594 1153 \n",
              "L 594 3053 \n",
              "L 172 3053 \n",
              "L 172 3500 \n",
              "L 594 3500 \n",
              "L 594 4494 \n",
              "L 1172 4494 \n",
              "z\n",
              "\" transform=\"scale(0.015625)\"/>\n",
              "     </defs>\n",
              "     <use xlink:href=\"#DejaVuSans-4e\"/>\n",
              "     <use xlink:href=\"#DejaVuSans-5f\" x=\"74.804688\"/>\n",
              "     <use xlink:href=\"#DejaVuSans-6f\" x=\"124.804688\"/>\n",
              "     <use xlink:href=\"#DejaVuSans-75\" x=\"185.986328\"/>\n",
              "     <use xlink:href=\"#DejaVuSans-74\" x=\"249.365234\"/>\n",
              "    </g>\n",
              "   </g>\n",
              "  </g>\n",
              " </g>\n",
              " <defs>\n",
              "  <clipPath id=\"pecccdd6259\">\n",
              "   <rect x=\"0\" y=\"-0\" width=\"200.196\" height=\"200.2\"/>\n",
              "  </clipPath>\n",
              " </defs>\n",
              "</svg>\n"
            ],
            "text/plain": [
              "<schemdraw.backends.mpl.Figure object at 0x000002BC254C3FB0>"
            ]
          },
          "metadata": {},
          "output_type": "display_data"
        }
      ],
      "source": [
        "import schemdraw\n",
        "import schemdraw.elements as elm\n",
        "\n",
        "with schemdraw.Drawing() as d:\n",
        "    \n",
        "    d += elm.SourceV().down().label('V1').at([0, 0])  # Add the voltage source V1\n",
        "    \n",
        "    d += elm.Ground().label('GND',loc='right').at([0, -3]) # Add the ground symbol for V1\n",
        "    \n",
        "    d += elm.Dot().label('N_in', loc='left').at([0,1]) # Add the node for N_in\n",
        "    \n",
        "    d += elm.Resistor().right().label('R1').at([0,1]) # Add resistor R1\n",
        "    \n",
        "    d += elm.Dot().label('N_out', loc='right') # Add the node for N_out\n",
        "    \n",
        "    d += elm.Diode().down().label('D1') # Add the diode D1\n",
        "    \n",
        "    d += elm.Ground().label('GND', loc='right') # Add the ground for the diode\n",
        "    \n",
        "    d += elm.Line().up().at([0, 0]).length(1) # Draw the connection between the voltage source and the resistor\n",
        "\n"
      ]
    },
    {
      "cell_type": "markdown",
      "metadata": {
        "id": "SZ9j2szoijFK"
      },
      "source": [
        "## Note 1\n",
        "Logging information about the simulation.  \n",
        "**This shoud be always imported.**"
      ]
    },
    {
      "cell_type": "code",
      "execution_count": 20,
      "metadata": {
        "id": "JBDaYafMixlm"
      },
      "outputs": [],
      "source": [
        "import PySpice.Logging.Logging as Logging\n",
        "logger = Logging.setup_logging()"
      ]
    },
    {
      "cell_type": "code",
      "execution_count": 21,
      "metadata": {
        "id": "SS-FVpIAiy-y"
      },
      "outputs": [],
      "source": [
        "from PySpice.Spice.Netlist import Circuit  #used for creating circuit\n",
        "from PySpice.Unit import *  #used for unit usages like ohm, volt, etc\n",
        "from PySpice.Spice.Library import SpiceLibrary\n",
        "from PySpice.Spice.Netlist import SubCircuit\n",
        "from PySpice.Spice.Simulation import *"
      ]
    },
    {
      "cell_type": "code",
      "execution_count": 22,
      "metadata": {
        "id": "rGX82Zsui0E3"
      },
      "outputs": [],
      "source": [
        "import numpy as np\n",
        "import matplotlib\n",
        "import matplotlib.pyplot as plt"
      ]
    },
    {
      "cell_type": "markdown",
      "metadata": {
        "id": "fvyiRMwyi2Ej"
      },
      "source": [
        "## Styling the Output\n",
        "For styling the output circuit we use the code below"
      ]
    },
    {
      "cell_type": "code",
      "execution_count": 23,
      "metadata": {
        "id": "SKjuK7JWi1Ev"
      },
      "outputs": [],
      "source": [
        "matplotlib.rcParams.update({'font.size': 14,\n",
        "                            'text.usetex': True,\n",
        "                            'mathtext.fontset': 'cm',\n",
        "                            'mathtext.rm': 'serif'})"
      ]
    },
    {
      "cell_type": "markdown",
      "metadata": {
        "id": "UvWPYRMQxUUf"
      },
      "source": [
        "### Make an instance of Diode Circuit"
      ]
    },
    {
      "cell_type": "code",
      "execution_count": 24,
      "metadata": {
        "id": "Vv0AXizBi_xR"
      },
      "outputs": [],
      "source": [
        "circuit = Circuit('Diode Circuit')"
      ]
    },
    {
      "cell_type": "markdown",
      "metadata": {
        "id": "p1n6BncCxYJx"
      },
      "source": [
        "### Add the components to the given circuit"
      ]
    },
    {
      "cell_type": "code",
      "execution_count": 25,
      "metadata": {
        "colab": {
          "base_uri": "https://localhost:8080/"
        },
        "id": "ziZ5FfMkxeHq",
        "outputId": "66877cf5-5edd-4c76-e1cc-419202811445"
      },
      "outputs": [
        {
          "name": "stdout",
          "output_type": "stream",
          "text": [
            ".title Diode Circuit\n",
            "V1 n_in 0 0V\n",
            "R1 n_in n_out 1kOhm\n",
            "\n"
          ]
        }
      ],
      "source": [
        "circuit.V('1','n_in',circuit.gnd,0@u_V)\n",
        "circuit.R(1,'n_in','n_out',1@u_kOhm)\n",
        "print(circuit)"
      ]
    },
    {
      "cell_type": "markdown",
      "metadata": {
        "id": "thPO2OgAZftm"
      },
      "source": [
        "## Note 2\n",
        "We need to make a diode sample and then add that to the circuit. There are different ways to make the diode sample, but in this example we use one technique:\n",
        "\n",
        "Define the model using PySpice"
      ]
    },
    {
      "cell_type": "code",
      "execution_count": 26,
      "metadata": {
        "colab": {
          "base_uri": "https://localhost:8080/"
        },
        "id": "BBLSD3KVxzxR",
        "outputId": "05091bfd-b7ba-4427-9c3b-da4c1e29b64d"
      },
      "outputs": [
        {
          "data": {
            "text/plain": [
              "<class 'PySpice.Spice.Netlist.DeviceModel'> 1N4148"
            ]
          },
          "execution_count": 26,
          "metadata": {},
          "output_type": "execute_result"
        }
      ],
      "source": [
        "circuit.model('1N4148', 'D', IS = 4.352E-9, N = 1.906,\n",
        "              BV = 110, IBV = 0.0001, RS = 0.6458, CJO=7.048E-13,\n",
        "              VJ = 0.869, M = 0.03, FC = 0.5, TT=3.48E-9)"
      ]
    },
    {
      "cell_type": "code",
      "execution_count": 27,
      "metadata": {
        "colab": {
          "base_uri": "https://localhost:8080/"
        },
        "id": "AgpaATylyuRo",
        "outputId": "f889f16e-8c2e-4296-ecff-1a6271461a25"
      },
      "outputs": [
        {
          "name": "stdout",
          "output_type": "stream",
          "text": [
            ".title Diode Circuit\n",
            "V1 n_in 0 0V\n",
            "R1 n_in n_out 1kOhm\n",
            "D1 n_out 0 1N4148\n",
            ".model 1N4148 D (BV=110 CJO=7.048e-13 FC=0.5 IBV=0.0001 IS=4.352e-09 M=0.03 N=1.906 RS=0.6458 TT=3.48e-09 VJ=0.869)\n",
            "\n"
          ]
        }
      ],
      "source": [
        "circuit.D(1,'n_out',circuit.gnd,model='1N4148') # Add the model to the given circuit\n",
        "print(circuit)"
      ]
    },
    {
      "cell_type": "markdown",
      "metadata": {
        "id": "mgHW6bXBeoOy"
      },
      "source": [
        "### After creating the circuit we need to do the dc sweep"
      ]
    },
    {
      "cell_type": "code",
      "execution_count": 30,
      "metadata": {
        "colab": {
          "base_uri": "https://localhost:8080/",
          "height": 304
        },
        "id": "-9lTihZpes_z",
        "outputId": "a3bb2ee3-0298-466c-e736-2b2c4c79f260"
      },
      "outputs": [],
      "source": [
        "simulator = circuit.simulator(temperature = 25 , nominal_temperature = 25)\n",
        "analysis = simulator.dc(V1=slice(0,1,0.001))"
      ]
    },
    {
      "cell_type": "code",
      "execution_count": 31,
      "metadata": {},
      "outputs": [],
      "source": [
        "current_name = str(analysis['V1'])\n",
        "current_value = np.array(analysis['V1'])"
      ]
    },
    {
      "cell_type": "markdown",
      "metadata": {},
      "source": [
        "### Plotting the Diode current as the voltage changes"
      ]
    },
    {
      "cell_type": "code",
      "execution_count": 32,
      "metadata": {},
      "outputs": [
        {
          "data": {
            "image/png": "[encoded data removed]",
            "text/plain": [
              "<Figure size 640x480 with 1 Axes>"
            ]
          },
          "metadata": {},
          "output_type": "display_data"
        }
      ],
      "source": [
        "plt.rcParams['text.usetex'] = False\n",
        "fig, ax = plt.subplots()\n",
        "\n",
        "ax.set(xlabel=\"Voltage\", ylabel=\"Current\", title=\"Diode Current\")\n",
        "ax.grid(color='gray', alpha=0.5, linestyle='dashed', linewidth=0.5)\n",
        "\n",
        "x = np.linspace(0,1,len(current_value))\n",
        "ax.plot(x, -current_value)\n",
        "\n",
        "plt.show()"
      ]
    },
    {
      "cell_type": "markdown",
      "metadata": {},
      "source": [
        "## Characteristic Explaining\n",
        "\n",
        "The curve shows the typical exponential behavior of a diode in forward bias. Diodes, such as silicon or germanium diodes, exhibit an exponential increase in current as the forward voltage exceeds a certain threshold.\n",
        "\n",
        "**Low Voltage Region (0V - ~0.4V):**  \n",
        "In the range from 0 to approximately 0.4V, the current is very low, which is typical of a diode that is not fully forward-biased. In this region, the diode is still \"off\" or only slightly conducting, leading to very small leakage currents.\n",
        "\n",
        "**Turn-On Region (~0.5V - ~0.7V):**  \n",
        "Around 0.5V and above, the current begins to rise more significantly. This is where the diode reaches its threshold or \"cut-in\" voltage (typically around 0.7V for a silicon diode). At this point, the diode starts conducting more current, indicating it's in the forward bias mode.\n",
        "\n",
        "**Saturation/Conducting Region (Above ~0.7V):**  \n",
        "As the voltage increases beyond the threshold (around 0.7V), the current rises steeply, showing the diode is fully conducting. This is the exponential growth phase, where even small increases in voltage lead to large increases in current.\n"
      ]
    },
    {
      "cell_type": "markdown",
      "metadata": {},
      "source": [
        "### Mathematical Relationship:\n",
        "The diode current $I_{D}$ is given by the diode equation:\n",
        "\n",
        "$$\n",
        "I_D = I_S \\left( \\exp\\left(\\frac{V_D}{nV_T}\\right) - 1 \\right)\n",
        "$$\n",
        "\n",
        "Where:\n",
        "\n",
        "- $I_{D}$ is the diode current,\n",
        "- $I_{S}$ is the reverse saturation current (a very small value),\n",
        "- $V_{D}$ is the voltage across the diode,\n",
        "- $V_{T}$ is the thermal voltage (approximately 26 mV at room temperature),\n",
        "- $n$ is the ideality factor (typically between 1 and 2).\n",
        "\n",
        "As $V_{D}$ increases beyond the threshold voltage (about 0.7V for silicon diodes), the exponential term becomes dominant, leading to a rapid increase in current, as shown in your graph.\n"
      ]
    }
  ],
  "metadata": {
    "colab": {
      "provenance": []
    },
    "kernelspec": {
      "display_name": "Python 3",
      "name": "python3"
    },
    "language_info": {
      "codemirror_mode": {
        "name": "ipython",
        "version": 3
      },
      "file_extension": ".py",
      "mimetype": "text/x-python",
      "name": "python",
      "nbconvert_exporter": "python",
      "pygments_lexer": "ipython3",
      "version": "3.12.2"
    }
  },
  "nbformat": 4,
  "nbformat_minor": 0
}
