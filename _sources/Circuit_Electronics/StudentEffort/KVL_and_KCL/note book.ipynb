{
 "cells": [
  {
   "cell_type": "markdown",
   "id": "5e77ccf731f6b58b",
   "metadata": {
    "collapsed": false
   },
   "source": [
    "# KVL & KCL\n",
    "\n",
    "Author : Kourosh Arfae Shahidi\n",
    "\n",
    "Gmail  : kourosh.a.shahidi@gmail.com\n",
    "\n",
    "fall 2024"
   ]
  },
  {
   "cell_type": "markdown",
   "id": "a9796e616656b907",
   "metadata": {
    "collapsed": false
   },
   "source": [
    "## Introduction\n",
    "\n",
    "Kirchhoff's Laws are two fundamental principles in electrical circuit analysis that help maintain the core physical concepts of conservation of charge and conservation of energy.\n",
    "\n",
    "-  ## Kirchhoff's Current Law (KCL):  \n",
    "    This law states that the total current entering a junction (or node) in an electrical circuit must equal the total current leaving the junction. In other words, no current is lost or gained at a node. KCL is based on the principle of conservation of electric charge, ensuring that the total charge remains constant in the circuit.\n",
    "-  ## Kirchhoff's Voltage Law (KVL):  \n",
    "    This law states that the sum of all electrical potential differences (voltages) around any closed loop in a circuit is equal to zero. This implies that the total energy provided by voltage sources in the loop is exactly balanced by the energy consumed by the resistive elements. KVL is based on the principle of conservation of energy, ensuring that energy is neither lost nor created within a closed loop."
   ]
  },
  {
   "cell_type": "markdown",
   "id": "34187c3e07c1a960",
   "metadata": {
    "collapsed": false
   },
   "source": [
    "##  Kirchhoff's Current Law (KVL)\n",
    "## Voltage\n",
    "voltage is a measure of potential energy difference across the element. This potential difference represents the work required to move charge through the element, and it's measured in volts(V)."
   ]
  },
  {
   "cell_type": "markdown",
   "id": "c43f81fc173d5bb2",
   "metadata": {
    "collapsed": false
   },
   "source": [
    "## Conservation of Energy\n",
    "An electric field has the conservative property, namely the work in moving an electric charge around a closed path in the field is zero. In other words as moving around a closed loop, or circuit, you will end up back to where you started in the circuit and therefore back to the same initial potential with no loss of voltage around the loop.  \n",
    "Kirchhoff's voltage law states the above property in terms of voltages in a circuit."
   ]
  },
  {
   "cell_type": "markdown",
   "id": "b3b31f201cd54e3a",
   "metadata": {
    "collapsed": false
   },
   "source": [
    "## statement of KVL\n",
    "the algebraic sum of the voltages around a closed path in an electric circuit is zero.  \n",
    "  \n",
    "The two key terms in the statement of KVL are __closed path__ and __algebraic sum of voltages__."
   ]
  },
  {
   "cell_type": "markdown",
   "id": "4d159d9a2afb867e",
   "metadata": {
    "collapsed": false
   },
   "source": [
    "### Closed path\n",
    "A closed path in an electric circuit is any path that starts at some point in the circuit and returns to that point after traversing a number of components. a closed path can jump across several components or even across an open pair of terminals.  \n",
    "\n",
    "\n",
    "![title](pictures/Figure_1.png)"
   ]
  },
  {
   "cell_type": "markdown",
   "id": "a828b8fd18cd69c4",
   "metadata": {
    "collapsed": false
   },
   "source": [
    "### Algebraic sum of voltages\n",
    "Now, suppose a unit positive charge is moved clockwise around the closed path, When the charge is moved from the higher-potential terminal to the lower-potential terminal of a component (that is, from the reference positive to the reference negative terminal), it loses a potential energy equal to the voltage across the component.  \n",
    "  \n",
    "On the other hand, when a unit positive charge is moved from the lower-potential terminal to the higher-potential terminal of a component (that is, from the reference negative to the reference positive terminal), it gains a potential energy equal to the voltage across the component.\n",
    "  \n",
    "The losses and gains in the potential energy of a unit charge moving across the components in a closed path must be subtracted and added, respectively, to determine the net change in its potential energy.  \n",
    "\n",
    "__The resulting algebraic sum of the voltages in the closed path must be zero, since the work done in moving a charge through a closed path in an electric field is zero.__\n",
    "\n"
   ]
  },
  {
   "cell_type": "code",
   "execution_count": 9,
   "id": "912fdd4c006fd5e8",
   "metadata": {
    "ExecuteTime": {
     "end_time": "2024-10-23T20:27:51.959035Z",
     "start_time": "2024-10-23T20:27:51.928737400Z"
    },
    "collapsed": false
   },
   "outputs": [
    {
     "data": {
      "image/svg+xml": [
       "<svg xmlns=\"http://www.w3.org/2000/svg\" xml:lang=\"en\" height=\"258.0pt\" width=\"261.92pt\" viewBox=\"-32.31999999999999 -28.4 261.92 258.0\"><path d=\"M 159.61 144.14 a 62.999999999999986 63.0 0 1 1 0.0 -72.27999999999999\" style=\"stroke:black;fill:none;stroke-width:2.0;\" /><path d=\"M 163.62161384466378 77.59874881990704 L 157.39486827062618 73.41334088803193 L 161.81828930978673 70.31602813173629 Z\" style=\"stroke:black;fill:black;stroke-linecap:butt;stroke-linejoin:miter;\" /><path d=\"M 0.0,-0.0 L 36.0,-0.0 L 36.0,-9.0 L 72.0,-9.0 L 72.0,9.0 L 36.0,9.0 L 36.0,-0.0 M 72.0,-0.0 L 108.0,-0.0\" style=\"stroke:black;fill:none;stroke-width:2.0;stroke-linecap:round;stroke-linejoin:round;\" /><path d=\"M 108.0,-0.0 L 144.0,-0.0 L 144.0,-9.0 L 180.0,-9.0 L 180.0,9.0 L 144.0,9.0 L 144.0,-0.0 M 180.0,-0.0 L 216.0,-0.0\" style=\"stroke:black;fill:none;stroke-width:2.0;stroke-linecap:round;stroke-linejoin:round;\" /><path d=\"M 216.0,-0.0 L 216.0,36.0 L 225.0,36.0 L 225.0,72.0 L 207.0,72.0 L 207.0,36.0 L 216.0,36.0 M 216.0,72.0 L 215.99999999999997,108.0\" style=\"stroke:black;fill:none;stroke-width:2.0;stroke-linecap:round;stroke-linejoin:round;\" /><path d=\"M 215.99999999999997,108.0 L 215.99999999999997,144.0 L 224.99999999999997,144.0 L 224.99999999999997,180.0 L 206.99999999999997,180.0 L 206.99999999999997,144.0 L 215.99999999999997,144.0 M 215.99999999999997,180.0 L 215.99999999999994,216.0\" style=\"stroke:black;fill:none;stroke-width:2.0;stroke-linecap:round;stroke-linejoin:round;\" /><path d=\"M 215.99999999999994,216.0 L 125.99999999999997,216.0 L 125.99999999999997,225.0 L 89.99999999999997,225.0 L 89.99999999999997,207.0 L 125.99999999999997,207.0 L 125.99999999999997,216.0 M 89.99999999999997,216.0 L 0.0,215.99999999999997\" style=\"stroke:black;fill:none;stroke-width:2.0;stroke-linecap:round;stroke-linejoin:round;\" /><path d=\"M 0.0,215.99999999999997 L 5.510910596163089e-15,125.99999999999999 L -8.999999999999995,125.99999999999999 L -8.999999999999993,89.99999999999999 L 9.000000000000007,89.99999999999999 L 9.000000000000005,125.99999999999999 L 5.510910596163089e-15,125.99999999999999 M 7.715274834628324e-15,89.99999999999999 L 1.3226185430791412e-14,-0.0\" style=\"stroke:black;fill:none;stroke-width:2.0;stroke-linecap:round;stroke-linejoin:round;\" /><text x=\"27.0\" y=\"-23.8\" fill=\"black\" font-size=\"14.0\" font-family=\"sans\" text-anchor=\"middle\"><tspan x=\"27.0\" dy=\"14.0\">+</tspan></text><text x=\"54.0\" y=\"-23.8\" fill=\"black\" font-size=\"14.0\" font-family=\"sans\" text-anchor=\"middle\"><tspan x=\"54.0\" dy=\"14.0\">v1</tspan></text><text x=\"81.0\" y=\"-23.8\" fill=\"black\" font-size=\"14.0\" font-family=\"sans\" text-anchor=\"middle\"><tspan x=\"81.0\" dy=\"14.0\">-</tspan></text><text x=\"135.0\" y=\"-23.8\" fill=\"black\" font-size=\"14.0\" font-family=\"sans\" text-anchor=\"middle\"><tspan x=\"135.0\" dy=\"14.0\">-</tspan></text><text x=\"162.0\" y=\"-23.8\" fill=\"black\" font-size=\"14.0\" font-family=\"sans\" text-anchor=\"middle\"><tspan x=\"162.0\" dy=\"14.0\">v2</tspan></text><text x=\"189.0\" y=\"-23.8\" fill=\"black\" font-size=\"14.0\" font-family=\"sans\" text-anchor=\"middle\"><tspan x=\"189.0\" dy=\"14.0\">+</tspan></text><text x=\"203.4\" y=\"21.39999999999999\" fill=\"black\" font-size=\"14.0\" font-family=\"sans\" text-anchor=\"end\"><tspan x=\"203.4\" dy=\"14.0\">-</tspan></text><text x=\"203.39999999999998\" y=\"48.4\" fill=\"black\" font-size=\"14.0\" font-family=\"sans\" text-anchor=\"end\"><tspan x=\"203.39999999999998\" dy=\"14.0\">v3</tspan></text><text x=\"203.39999999999998\" y=\"75.39999999999999\" fill=\"black\" font-size=\"14.0\" font-family=\"sans\" text-anchor=\"end\"><tspan x=\"203.39999999999998\" dy=\"14.0\">+</tspan></text><text x=\"203.39999999999995\" y=\"129.4\" fill=\"black\" font-size=\"14.0\" font-family=\"sans\" text-anchor=\"end\"><tspan x=\"203.39999999999995\" dy=\"14.0\">+</tspan></text><text x=\"203.39999999999995\" y=\"156.4\" fill=\"black\" font-size=\"14.0\" font-family=\"sans\" text-anchor=\"end\"><tspan x=\"203.39999999999995\" dy=\"14.0\">v4</tspan></text><text x=\"203.39999999999995\" y=\"183.4\" fill=\"black\" font-size=\"14.0\" font-family=\"sans\" text-anchor=\"end\"><tspan x=\"203.39999999999995\" dy=\"14.0\">-</tspan></text><text x=\"161.99999999999994\" y=\"192.2\" fill=\"black\" font-size=\"14.0\" font-family=\"sans\" text-anchor=\"middle\"><tspan x=\"161.99999999999994\" dy=\"14.0\">-</tspan></text><text x=\"107.99999999999997\" y=\"192.2\" fill=\"black\" font-size=\"14.0\" font-family=\"sans\" text-anchor=\"middle\"><tspan x=\"107.99999999999997\" dy=\"14.0\">v5</tspan></text><text x=\"54.0\" y=\"192.2\" fill=\"black\" font-size=\"14.0\" font-family=\"sans\" text-anchor=\"middle\"><tspan x=\"54.0\" dy=\"14.0\">+</tspan></text><text x=\"-12.599999999999994\" y=\"156.39999999999998\" fill=\"black\" font-size=\"14.0\" font-family=\"sans\" text-anchor=\"end\"><tspan x=\"-12.599999999999994\" dy=\"14.0\">+</tspan></text><text x=\"-12.599999999999993\" y=\"102.39999999999998\" fill=\"black\" font-size=\"14.0\" font-family=\"sans\" text-anchor=\"end\"><tspan x=\"-12.599999999999993\" dy=\"14.0\">v6</tspan></text><text x=\"-12.599999999999989\" y=\"48.4\" fill=\"black\" font-size=\"14.0\" font-family=\"sans\" text-anchor=\"end\"><tspan x=\"-12.599999999999989\" dy=\"14.0\">-</tspan></text><text x=\"107.99999999999999\" y=\"102.39999999999999\" fill=\"black\" font-size=\"14.0\" font-family=\"sans\" text-anchor=\"middle\"><tspan x=\"107.99999999999999\" dy=\"14.0\">closed path</tspan></text></svg>"
      ],
      "text/plain": [
       "<svg xmlns=\"http://www.w3.org/2000/svg\" xml:lang=\"en\" height=\"258.0pt\" width=\"261.92pt\" viewBox=\"-32.31999999999999 -28.4 261.92 258.0\"><path d=\"M 159.61 144.14 a 62.999999999999986 63.0 0 1 1 0.0 -72.27999999999999\" style=\"stroke:black;fill:none;stroke-width:2.0;\" /><path d=\"M 163.62161384466378 77.59874881990704 L 157.39486827062618 73.41334088803193 L 161.81828930978673 70.31602813173629 Z\" style=\"stroke:black;fill:black;stroke-linecap:butt;stroke-linejoin:miter;\" /><path d=\"M 0.0,-0.0 L 36.0,-0.0 L 36.0,-9.0 L 72.0,-9.0 L 72.0,9.0 L 36.0,9.0 L 36.0,-0.0 M 72.0,-0.0 L 108.0,-0.0\" style=\"stroke:black;fill:none;stroke-width:2.0;stroke-linecap:round;stroke-linejoin:round;\" /><path d=\"M 108.0,-0.0 L 144.0,-0.0 L 144.0,-9.0 L 180.0,-9.0 L 180.0,9.0 L 144.0,9.0 L 144.0,-0.0 M 180.0,-0.0 L 216.0,-0.0\" style=\"stroke:black;fill:none;stroke-width:2.0;stroke-linecap:round;stroke-linejoin:round;\" /><path d=\"M 216.0,-0.0 L 216.0,36.0 L 225.0,36.0 L 225.0,72.0 L 207.0,72.0 L 207.0,36.0 L 216.0,36.0 M 216.0,72.0 L 215.99999999999997,108.0\" style=\"stroke:black;fill:none;stroke-width:2.0;stroke-linecap:round;stroke-linejoin:round;\" /><path d=\"M 215.99999999999997,108.0 L 215.99999999999997,144.0 L 224.99999999999997,144.0 L 224.99999999999997,180.0 L 206.99999999999997,180.0 L 206.99999999999997,144.0 L 215.99999999999997,144.0 M 215.99999999999997,180.0 L 215.99999999999994,216.0\" style=\"stroke:black;fill:none;stroke-width:2.0;stroke-linecap:round;stroke-linejoin:round;\" /><path d=\"M 215.99999999999994,216.0 L 125.99999999999997,216.0 L 125.99999999999997,225.0 L 89.99999999999997,225.0 L 89.99999999999997,207.0 L 125.99999999999997,207.0 L 125.99999999999997,216.0 M 89.99999999999997,216.0 L 0.0,215.99999999999997\" style=\"stroke:black;fill:none;stroke-width:2.0;stroke-linecap:round;stroke-linejoin:round;\" /><path d=\"M 0.0,215.99999999999997 L 5.510910596163089e-15,125.99999999999999 L -8.999999999999995,125.99999999999999 L -8.999999999999993,89.99999999999999 L 9.000000000000007,89.99999999999999 L 9.000000000000005,125.99999999999999 L 5.510910596163089e-15,125.99999999999999 M 7.715274834628324e-15,89.99999999999999 L 1.3226185430791412e-14,-0.0\" style=\"stroke:black;fill:none;stroke-width:2.0;stroke-linecap:round;stroke-linejoin:round;\" /><text x=\"27.0\" y=\"-23.8\" fill=\"black\" font-size=\"14.0\" font-family=\"sans\" text-anchor=\"middle\"><tspan x=\"27.0\" dy=\"14.0\">+</tspan></text><text x=\"54.0\" y=\"-23.8\" fill=\"black\" font-size=\"14.0\" font-family=\"sans\" text-anchor=\"middle\"><tspan x=\"54.0\" dy=\"14.0\">v1</tspan></text><text x=\"81.0\" y=\"-23.8\" fill=\"black\" font-size=\"14.0\" font-family=\"sans\" text-anchor=\"middle\"><tspan x=\"81.0\" dy=\"14.0\">-</tspan></text><text x=\"135.0\" y=\"-23.8\" fill=\"black\" font-size=\"14.0\" font-family=\"sans\" text-anchor=\"middle\"><tspan x=\"135.0\" dy=\"14.0\">-</tspan></text><text x=\"162.0\" y=\"-23.8\" fill=\"black\" font-size=\"14.0\" font-family=\"sans\" text-anchor=\"middle\"><tspan x=\"162.0\" dy=\"14.0\">v2</tspan></text><text x=\"189.0\" y=\"-23.8\" fill=\"black\" font-size=\"14.0\" font-family=\"sans\" text-anchor=\"middle\"><tspan x=\"189.0\" dy=\"14.0\">+</tspan></text><text x=\"203.4\" y=\"21.39999999999999\" fill=\"black\" font-size=\"14.0\" font-family=\"sans\" text-anchor=\"end\"><tspan x=\"203.4\" dy=\"14.0\">-</tspan></text><text x=\"203.39999999999998\" y=\"48.4\" fill=\"black\" font-size=\"14.0\" font-family=\"sans\" text-anchor=\"end\"><tspan x=\"203.39999999999998\" dy=\"14.0\">v3</tspan></text><text x=\"203.39999999999998\" y=\"75.39999999999999\" fill=\"black\" font-size=\"14.0\" font-family=\"sans\" text-anchor=\"end\"><tspan x=\"203.39999999999998\" dy=\"14.0\">+</tspan></text><text x=\"203.39999999999995\" y=\"129.4\" fill=\"black\" font-size=\"14.0\" font-family=\"sans\" text-anchor=\"end\"><tspan x=\"203.39999999999995\" dy=\"14.0\">+</tspan></text><text x=\"203.39999999999995\" y=\"156.4\" fill=\"black\" font-size=\"14.0\" font-family=\"sans\" text-anchor=\"end\"><tspan x=\"203.39999999999995\" dy=\"14.0\">v4</tspan></text><text x=\"203.39999999999995\" y=\"183.4\" fill=\"black\" font-size=\"14.0\" font-family=\"sans\" text-anchor=\"end\"><tspan x=\"203.39999999999995\" dy=\"14.0\">-</tspan></text><text x=\"161.99999999999994\" y=\"192.2\" fill=\"black\" font-size=\"14.0\" font-family=\"sans\" text-anchor=\"middle\"><tspan x=\"161.99999999999994\" dy=\"14.0\">-</tspan></text><text x=\"107.99999999999997\" y=\"192.2\" fill=\"black\" font-size=\"14.0\" font-family=\"sans\" text-anchor=\"middle\"><tspan x=\"107.99999999999997\" dy=\"14.0\">v5</tspan></text><text x=\"54.0\" y=\"192.2\" fill=\"black\" font-size=\"14.0\" font-family=\"sans\" text-anchor=\"middle\"><tspan x=\"54.0\" dy=\"14.0\">+</tspan></text><text x=\"-12.599999999999994\" y=\"156.39999999999998\" fill=\"black\" font-size=\"14.0\" font-family=\"sans\" text-anchor=\"end\"><tspan x=\"-12.599999999999994\" dy=\"14.0\">+</tspan></text><text x=\"-12.599999999999993\" y=\"102.39999999999998\" fill=\"black\" font-size=\"14.0\" font-family=\"sans\" text-anchor=\"end\"><tspan x=\"-12.599999999999993\" dy=\"14.0\">v6</tspan></text><text x=\"-12.599999999999989\" y=\"48.4\" fill=\"black\" font-size=\"14.0\" font-family=\"sans\" text-anchor=\"end\"><tspan x=\"-12.599999999999989\" dy=\"14.0\">-</tspan></text><text x=\"107.99999999999999\" y=\"102.39999999999999\" fill=\"black\" font-size=\"14.0\" font-family=\"sans\" text-anchor=\"middle\"><tspan x=\"107.99999999999999\" dy=\"14.0\">closed path</tspan></text></svg>"
      ]
     },
     "metadata": {},
     "output_type": "display_data"
    }
   ],
   "source": [
    "import schemdraw\n",
    "import schemdraw.elements as elm\n",
    "\n",
    "with schemdraw.Drawing() as d:\n",
    "    elm.style(elm.STYLE_IEC)\n",
    "    R1 = elm.Resistor().label(['+','$v1$','-'])\n",
    "    R2 = elm.Resistor().label(['-','$v2$','+'])\n",
    "    R3 = elm.Resistor().label(['-','$v3$','+']).down()\n",
    "    R4 = elm.Resistor().label(['+','$v4$','-'])\n",
    "    R5 = elm.Resistor().label(['-','$v5$','+']).left().tox(R1.start)\n",
    "    R6 = elm.Resistor().label(['+','$v6$','-']).to(R1.start)\n",
    "    elm.LoopCurrent([R1, R4, R5, R6], pad=1).label('$closed path$')"
   ]
  },
  {
   "cell_type": "markdown",
   "id": "ed3cbf3444082ea7",
   "metadata": {
    "collapsed": false
   },
   "source": [
    "## Writing KVL equation\n",
    "We can apply KVL to a circuit in several different ways. One method that leads to fewer equation-writing errors than others consists of moving mentally around the closed path in a clockwise direction and writing down directly the voltage of each element whose (+) terminal is entered, and writing down the negative of every voltage first met at the (−) sign.  \n",
    "  \n",
    "- If the direction of path is from plus to minus across a component, that voltage is added in the KVL equation.  \n",
    "  \n",
    "- If the direction of path is from minus to plus across a component, that voltage is subtracted in the KVL equation.  \n",
    "\n",
    "__The algebraic sum of the voltages in a closed path, obtained by using the above convention, is then equated to zero.__  \n",
    "\n",
    "![title](pictures/Figure_4.png)\n",
    "  \n",
    "\n",
    "For the closed path in figure above, the direction of the path is from + to - in v1 , v4 and v6, and from - to + in v2, v3 and v5. therefor , the kvl equation becomes :  \n",
    " \n",
    ">v1 - v2 - v3 + v4 - v5 + v6 = 0"
   ]
  },
  {
   "cell_type": "markdown",
   "id": "6cb12b1ffc0754c2",
   "metadata": {
    "collapsed": false
   },
   "source": [
    "### Example 1\n",
    "Choose three closed path in the circuit below and write the KVL equation for them"
   ]
  },
  {
   "cell_type": "code",
   "execution_count": 10,
   "id": "7fadbb963bb0e7a0",
   "metadata": {
    "ExecuteTime": {
     "end_time": "2024-10-23T20:27:51.980598800Z",
     "start_time": "2024-10-23T20:27:51.973011Z"
    },
    "collapsed": false
   },
   "outputs": [
    {
     "data": {
      "image/svg+xml": [
       "<svg xmlns=\"http://www.w3.org/2000/svg\" xml:lang=\"en\" height=\"194.32000000000002pt\" width=\"251.12pt\" viewBox=\"-24.22 -183.42000000000002 251.12 194.32000000000002\"><path d=\"M 0.0,-0.0 L 2.204364238465236e-15,-36.0 L -6.299999999999997,-36.0 L -6.299999999999995,-72.0 L 6.300000000000003,-72.0 L 6.300000000000002,-36.0 L 2.204364238465236e-15,-36.0 M 4.408728476930472e-15,-72.0 L 6.613092715395707e-15,-108.0\" style=\"stroke:black;fill:none;stroke-width:2.0;stroke-linecap:round;stroke-linejoin:round;\" /><path d=\"M 6.613092715395707e-15,-108.0 L 36.00000000000001,-108.0 L 36.00000000000001,-114.3 L 72.0,-114.3 L 72.0,-101.7 L 36.00000000000001,-101.7 L 36.00000000000001,-108.0 M 72.0,-108.0 L 108.0,-108.0\" style=\"stroke:black;fill:none;stroke-width:2.0;stroke-linecap:round;stroke-linejoin:round;\" /><path d=\"M 108.0,-108.0 L 108.0,-72.0 L 114.3,-72.0 L 114.3,-36.0 L 101.69999999999999,-36.0 L 101.69999999999999,-72.0 L 108.0,-72.0 M 107.99999999999999,-36.0 L 107.99999999999999,-0.0\" style=\"stroke:black;fill:none;stroke-width:2.0;stroke-linecap:round;stroke-linejoin:round;\" /><path d=\"M 107.99999999999999,-0.0 L 71.99999999999999,-4.408728476930472e-15 L 71.99999999999999,6.299999999999995 L 35.999999999999986,6.299999999999991 L 35.999999999999986,-6.300000000000009 L 71.99999999999999,-6.300000000000003 L 71.99999999999999,-4.408728476930472e-15 M 35.999999999999986,-8.817456953860943e-15 L -1.5987211554602254e-14,-1.3226185430791413e-14\" style=\"stroke:black;fill:none;stroke-width:2.0;stroke-linecap:round;stroke-linejoin:round;\" /><path d=\"M 107.99999999999999,-0.0 L 143.99999999999997,-0.0 L 143.99999999999997,-6.3 L 180.0,-6.3 L 180.0,6.3 L 143.99999999999997,6.3 L 143.99999999999997,-0.0 M 180.0,-0.0 L 216.0,-0.0\" style=\"stroke:black;fill:none;stroke-width:2.0;stroke-linecap:round;stroke-linejoin:round;\" /><path d=\"M 216.0,-0.0 L 216.0,-36.0 L 209.70000000000002,-36.0 L 209.70000000000002,-72.0 L 222.29999999999998,-72.0 L 222.29999999999998,-36.0 L 216.0,-36.0 M 216.0,-72.0 L 216.0,-108.0\" style=\"stroke:black;fill:none;stroke-width:2.0;stroke-linecap:round;stroke-linejoin:round;\" /><path d=\"M 216.0,-108.0 L 162.0,-108.0 L 108.0,-108.00000000000001\" style=\"stroke:black;fill:none;stroke-width:2.0;stroke-linecap:round;stroke-linejoin:round;\" /><path d=\"M 6.613092715395707e-15,-108.0 L 8.266365894244634e-15,-135.0 L 9.919639073093561e-15,-162.0\" style=\"stroke:black;fill:none;stroke-width:2.0;stroke-linecap:round;stroke-linejoin:round;\" /><path d=\"M 9.919639073093561e-15,-162.0 L 36.00000000000001,-162.0 L 36.00000000000001,-168.29999999999998 L 72.00000000000001,-168.29999999999998 L 72.00000000000001,-155.70000000000002 L 36.00000000000001,-155.70000000000002 L 36.00000000000001,-162.0 M 72.00000000000001,-162.0 L 108.00000000000001,-162.0\" style=\"stroke:black;fill:none;stroke-width:2.0;stroke-linecap:round;stroke-linejoin:round;\" /><path d=\"M 108.00000000000001,-162.0 L 144.0,-162.0 L 144.0,-168.29999999999998 L 180.0,-168.29999999999998 L 180.0,-155.70000000000002 L 144.0,-155.70000000000002 L 144.0,-162.0 M 180.0,-162.0 L 216.0,-162.0\" style=\"stroke:black;fill:none;stroke-width:2.0;stroke-linecap:round;stroke-linejoin:round;\" /><path d=\"M 216.0,-162.0 L 216.0,-135.0 L 216.0,-108.0\" style=\"stroke:black;fill:none;stroke-width:2.0;stroke-linecap:round;stroke-linejoin:round;\" /><ellipse cx=\"6.613092715395707e-15\" cy=\"-108.0\" rx=\"2.6999999999999997\" ry=\"1.89\" transform=\"rotate(-90 6.613092715395707e-15 -108.0)\" style=\"stroke:black;fill:black;stroke-width:2.0;\" /><text x=\"-8.819999999999997\" y=\"-31.675\" fill=\"black\" font-size=\"10\" font-family=\"sans\" text-anchor=\"end\"><tspan x=\"-8.819999999999997\" dy=\"10\">+</tspan></text><text x=\"-8.819999999999997\" y=\"-59.35\" fill=\"black\" font-size=\"10\" font-family=\"sans\" text-anchor=\"end\"><tspan x=\"-8.819999999999997\" dy=\"10\">v1</tspan></text><text x=\"-8.819999999999993\" y=\"-87.025\" fill=\"black\" font-size=\"10\" font-family=\"sans\" text-anchor=\"end\"><tspan x=\"-8.819999999999993\" dy=\"10\">-</tspan></text><ellipse cx=\"108.0\" cy=\"-108.0\" rx=\"2.6999999999999997\" ry=\"1.89\" style=\"stroke:black;fill:black;stroke-width:2.0;\" /><text x=\"27.67500000000001\" y=\"-124.82000000000001\" fill=\"black\" font-size=\"10\" font-family=\"sans\" text-anchor=\"middle\"><tspan x=\"27.67500000000001\" dy=\"10\">-</tspan></text><text x=\"55.35000000000001\" y=\"-124.82000000000001\" fill=\"black\" font-size=\"10\" font-family=\"sans\" text-anchor=\"middle\"><tspan x=\"55.35000000000001\" dy=\"10\">v2</tspan></text><text x=\"83.025\" y=\"-124.82000000000001\" fill=\"black\" font-size=\"10\" font-family=\"sans\" text-anchor=\"middle\"><tspan x=\"83.025\" dy=\"10\">+</tspan></text><text x=\"99.17999999999999\" y=\"-85.0\" fill=\"black\" font-size=\"10\" font-family=\"sans\" text-anchor=\"end\"><tspan x=\"99.17999999999999\" dy=\"10\">+</tspan></text><text x=\"99.17999999999999\" y=\"-58.0\" fill=\"black\" font-size=\"10\" font-family=\"sans\" text-anchor=\"end\"><tspan x=\"99.17999999999999\" dy=\"10\">v4</tspan></text><text x=\"99.17999999999998\" y=\"-31.0\" fill=\"black\" font-size=\"10\" font-family=\"sans\" text-anchor=\"end\"><tspan x=\"99.17999999999998\" dy=\"10\">-</tspan></text><text x=\"80.99999999999999\" y=\"-16.82\" fill=\"black\" font-size=\"10\" font-family=\"sans\" text-anchor=\"middle\"><tspan x=\"80.99999999999999\" dy=\"10\">-</tspan></text><text x=\"53.999999999999986\" y=\"-16.820000000000007\" fill=\"black\" font-size=\"10\" font-family=\"sans\" text-anchor=\"middle\"><tspan x=\"53.999999999999986\" dy=\"10\">v3</tspan></text><text x=\"26.999999999999986\" y=\"-16.820000000000007\" fill=\"black\" font-size=\"10\" font-family=\"sans\" text-anchor=\"middle\"><tspan x=\"26.999999999999986\" dy=\"10\">+</tspan></text><text x=\"134.99999999999997\" y=\"-16.82\" fill=\"black\" font-size=\"10\" font-family=\"sans\" text-anchor=\"middle\"><tspan x=\"134.99999999999997\" dy=\"10\">-</tspan></text><text x=\"162.0\" y=\"-16.82\" fill=\"black\" font-size=\"10\" font-family=\"sans\" text-anchor=\"middle\"><tspan x=\"162.0\" dy=\"10\">v5</tspan></text><text x=\"189.0\" y=\"-16.82\" fill=\"black\" font-size=\"10\" font-family=\"sans\" text-anchor=\"middle\"><tspan x=\"189.0\" dy=\"10\">+</tspan></text><ellipse cx=\"216.0\" cy=\"-108.0\" rx=\"2.6999999999999997\" ry=\"1.89\" transform=\"rotate(-90 216.0 -108.0)\" style=\"stroke:black;fill:black;stroke-width:2.0;\" /><text x=\"207.18\" y=\"-31.675\" fill=\"black\" font-size=\"10\" font-family=\"sans\" text-anchor=\"end\"><tspan x=\"207.18\" dy=\"10\">-</tspan></text><text x=\"207.18\" y=\"-59.35\" fill=\"black\" font-size=\"10\" font-family=\"sans\" text-anchor=\"end\"><tspan x=\"207.18\" dy=\"10\">v6</tspan></text><text x=\"207.18\" y=\"-87.025\" fill=\"black\" font-size=\"10\" font-family=\"sans\" text-anchor=\"end\"><tspan x=\"207.18\" dy=\"10\">+</tspan></text><text x=\"27.000000000000007\" y=\"-178.82\" fill=\"black\" font-size=\"10\" font-family=\"sans\" text-anchor=\"middle\"><tspan x=\"27.000000000000007\" dy=\"10\">-</tspan></text><text x=\"54.00000000000001\" y=\"-178.82\" fill=\"black\" font-size=\"10\" font-family=\"sans\" text-anchor=\"middle\"><tspan x=\"54.00000000000001\" dy=\"10\">v7</tspan></text><text x=\"81.00000000000001\" y=\"-178.82\" fill=\"black\" font-size=\"10\" font-family=\"sans\" text-anchor=\"middle\"><tspan x=\"81.00000000000001\" dy=\"10\">+</tspan></text><text x=\"135.00000000000003\" y=\"-178.82\" fill=\"black\" font-size=\"10\" font-family=\"sans\" text-anchor=\"middle\"><tspan x=\"135.00000000000003\" dy=\"10\">-</tspan></text><text x=\"162.0\" y=\"-178.82\" fill=\"black\" font-size=\"10\" font-family=\"sans\" text-anchor=\"middle\"><tspan x=\"162.0\" dy=\"10\">v8</tspan></text><text x=\"189.0\" y=\"-178.82\" fill=\"black\" font-size=\"10\" font-family=\"sans\" text-anchor=\"middle\"><tspan x=\"189.0\" dy=\"10\">+</tspan></text></svg>"
      ],
      "text/plain": [
       "<svg xmlns=\"http://www.w3.org/2000/svg\" xml:lang=\"en\" height=\"194.32000000000002pt\" width=\"251.12pt\" viewBox=\"-24.22 -183.42000000000002 251.12 194.32000000000002\"><path d=\"M 0.0,-0.0 L 2.204364238465236e-15,-36.0 L -6.299999999999997,-36.0 L -6.299999999999995,-72.0 L 6.300000000000003,-72.0 L 6.300000000000002,-36.0 L 2.204364238465236e-15,-36.0 M 4.408728476930472e-15,-72.0 L 6.613092715395707e-15,-108.0\" style=\"stroke:black;fill:none;stroke-width:2.0;stroke-linecap:round;stroke-linejoin:round;\" /><path d=\"M 6.613092715395707e-15,-108.0 L 36.00000000000001,-108.0 L 36.00000000000001,-114.3 L 72.0,-114.3 L 72.0,-101.7 L 36.00000000000001,-101.7 L 36.00000000000001,-108.0 M 72.0,-108.0 L 108.0,-108.0\" style=\"stroke:black;fill:none;stroke-width:2.0;stroke-linecap:round;stroke-linejoin:round;\" /><path d=\"M 108.0,-108.0 L 108.0,-72.0 L 114.3,-72.0 L 114.3,-36.0 L 101.69999999999999,-36.0 L 101.69999999999999,-72.0 L 108.0,-72.0 M 107.99999999999999,-36.0 L 107.99999999999999,-0.0\" style=\"stroke:black;fill:none;stroke-width:2.0;stroke-linecap:round;stroke-linejoin:round;\" /><path d=\"M 107.99999999999999,-0.0 L 71.99999999999999,-4.408728476930472e-15 L 71.99999999999999,6.299999999999995 L 35.999999999999986,6.299999999999991 L 35.999999999999986,-6.300000000000009 L 71.99999999999999,-6.300000000000003 L 71.99999999999999,-4.408728476930472e-15 M 35.999999999999986,-8.817456953860943e-15 L -1.5987211554602254e-14,-1.3226185430791413e-14\" style=\"stroke:black;fill:none;stroke-width:2.0;stroke-linecap:round;stroke-linejoin:round;\" /><path d=\"M 107.99999999999999,-0.0 L 143.99999999999997,-0.0 L 143.99999999999997,-6.3 L 180.0,-6.3 L 180.0,6.3 L 143.99999999999997,6.3 L 143.99999999999997,-0.0 M 180.0,-0.0 L 216.0,-0.0\" style=\"stroke:black;fill:none;stroke-width:2.0;stroke-linecap:round;stroke-linejoin:round;\" /><path d=\"M 216.0,-0.0 L 216.0,-36.0 L 209.70000000000002,-36.0 L 209.70000000000002,-72.0 L 222.29999999999998,-72.0 L 222.29999999999998,-36.0 L 216.0,-36.0 M 216.0,-72.0 L 216.0,-108.0\" style=\"stroke:black;fill:none;stroke-width:2.0;stroke-linecap:round;stroke-linejoin:round;\" /><path d=\"M 216.0,-108.0 L 162.0,-108.0 L 108.0,-108.00000000000001\" style=\"stroke:black;fill:none;stroke-width:2.0;stroke-linecap:round;stroke-linejoin:round;\" /><path d=\"M 6.613092715395707e-15,-108.0 L 8.266365894244634e-15,-135.0 L 9.919639073093561e-15,-162.0\" style=\"stroke:black;fill:none;stroke-width:2.0;stroke-linecap:round;stroke-linejoin:round;\" /><path d=\"M 9.919639073093561e-15,-162.0 L 36.00000000000001,-162.0 L 36.00000000000001,-168.29999999999998 L 72.00000000000001,-168.29999999999998 L 72.00000000000001,-155.70000000000002 L 36.00000000000001,-155.70000000000002 L 36.00000000000001,-162.0 M 72.00000000000001,-162.0 L 108.00000000000001,-162.0\" style=\"stroke:black;fill:none;stroke-width:2.0;stroke-linecap:round;stroke-linejoin:round;\" /><path d=\"M 108.00000000000001,-162.0 L 144.0,-162.0 L 144.0,-168.29999999999998 L 180.0,-168.29999999999998 L 180.0,-155.70000000000002 L 144.0,-155.70000000000002 L 144.0,-162.0 M 180.0,-162.0 L 216.0,-162.0\" style=\"stroke:black;fill:none;stroke-width:2.0;stroke-linecap:round;stroke-linejoin:round;\" /><path d=\"M 216.0,-162.0 L 216.0,-135.0 L 216.0,-108.0\" style=\"stroke:black;fill:none;stroke-width:2.0;stroke-linecap:round;stroke-linejoin:round;\" /><ellipse cx=\"6.613092715395707e-15\" cy=\"-108.0\" rx=\"2.6999999999999997\" ry=\"1.89\" transform=\"rotate(-90 6.613092715395707e-15 -108.0)\" style=\"stroke:black;fill:black;stroke-width:2.0;\" /><text x=\"-8.819999999999997\" y=\"-31.675\" fill=\"black\" font-size=\"10\" font-family=\"sans\" text-anchor=\"end\"><tspan x=\"-8.819999999999997\" dy=\"10\">+</tspan></text><text x=\"-8.819999999999997\" y=\"-59.35\" fill=\"black\" font-size=\"10\" font-family=\"sans\" text-anchor=\"end\"><tspan x=\"-8.819999999999997\" dy=\"10\">v1</tspan></text><text x=\"-8.819999999999993\" y=\"-87.025\" fill=\"black\" font-size=\"10\" font-family=\"sans\" text-anchor=\"end\"><tspan x=\"-8.819999999999993\" dy=\"10\">-</tspan></text><ellipse cx=\"108.0\" cy=\"-108.0\" rx=\"2.6999999999999997\" ry=\"1.89\" style=\"stroke:black;fill:black;stroke-width:2.0;\" /><text x=\"27.67500000000001\" y=\"-124.82000000000001\" fill=\"black\" font-size=\"10\" font-family=\"sans\" text-anchor=\"middle\"><tspan x=\"27.67500000000001\" dy=\"10\">-</tspan></text><text x=\"55.35000000000001\" y=\"-124.82000000000001\" fill=\"black\" font-size=\"10\" font-family=\"sans\" text-anchor=\"middle\"><tspan x=\"55.35000000000001\" dy=\"10\">v2</tspan></text><text x=\"83.025\" y=\"-124.82000000000001\" fill=\"black\" font-size=\"10\" font-family=\"sans\" text-anchor=\"middle\"><tspan x=\"83.025\" dy=\"10\">+</tspan></text><text x=\"99.17999999999999\" y=\"-85.0\" fill=\"black\" font-size=\"10\" font-family=\"sans\" text-anchor=\"end\"><tspan x=\"99.17999999999999\" dy=\"10\">+</tspan></text><text x=\"99.17999999999999\" y=\"-58.0\" fill=\"black\" font-size=\"10\" font-family=\"sans\" text-anchor=\"end\"><tspan x=\"99.17999999999999\" dy=\"10\">v4</tspan></text><text x=\"99.17999999999998\" y=\"-31.0\" fill=\"black\" font-size=\"10\" font-family=\"sans\" text-anchor=\"end\"><tspan x=\"99.17999999999998\" dy=\"10\">-</tspan></text><text x=\"80.99999999999999\" y=\"-16.82\" fill=\"black\" font-size=\"10\" font-family=\"sans\" text-anchor=\"middle\"><tspan x=\"80.99999999999999\" dy=\"10\">-</tspan></text><text x=\"53.999999999999986\" y=\"-16.820000000000007\" fill=\"black\" font-size=\"10\" font-family=\"sans\" text-anchor=\"middle\"><tspan x=\"53.999999999999986\" dy=\"10\">v3</tspan></text><text x=\"26.999999999999986\" y=\"-16.820000000000007\" fill=\"black\" font-size=\"10\" font-family=\"sans\" text-anchor=\"middle\"><tspan x=\"26.999999999999986\" dy=\"10\">+</tspan></text><text x=\"134.99999999999997\" y=\"-16.82\" fill=\"black\" font-size=\"10\" font-family=\"sans\" text-anchor=\"middle\"><tspan x=\"134.99999999999997\" dy=\"10\">-</tspan></text><text x=\"162.0\" y=\"-16.82\" fill=\"black\" font-size=\"10\" font-family=\"sans\" text-anchor=\"middle\"><tspan x=\"162.0\" dy=\"10\">v5</tspan></text><text x=\"189.0\" y=\"-16.82\" fill=\"black\" font-size=\"10\" font-family=\"sans\" text-anchor=\"middle\"><tspan x=\"189.0\" dy=\"10\">+</tspan></text><ellipse cx=\"216.0\" cy=\"-108.0\" rx=\"2.6999999999999997\" ry=\"1.89\" transform=\"rotate(-90 216.0 -108.0)\" style=\"stroke:black;fill:black;stroke-width:2.0;\" /><text x=\"207.18\" y=\"-31.675\" fill=\"black\" font-size=\"10\" font-family=\"sans\" text-anchor=\"end\"><tspan x=\"207.18\" dy=\"10\">-</tspan></text><text x=\"207.18\" y=\"-59.35\" fill=\"black\" font-size=\"10\" font-family=\"sans\" text-anchor=\"end\"><tspan x=\"207.18\" dy=\"10\">v6</tspan></text><text x=\"207.18\" y=\"-87.025\" fill=\"black\" font-size=\"10\" font-family=\"sans\" text-anchor=\"end\"><tspan x=\"207.18\" dy=\"10\">+</tspan></text><text x=\"27.000000000000007\" y=\"-178.82\" fill=\"black\" font-size=\"10\" font-family=\"sans\" text-anchor=\"middle\"><tspan x=\"27.000000000000007\" dy=\"10\">-</tspan></text><text x=\"54.00000000000001\" y=\"-178.82\" fill=\"black\" font-size=\"10\" font-family=\"sans\" text-anchor=\"middle\"><tspan x=\"54.00000000000001\" dy=\"10\">v7</tspan></text><text x=\"81.00000000000001\" y=\"-178.82\" fill=\"black\" font-size=\"10\" font-family=\"sans\" text-anchor=\"middle\"><tspan x=\"81.00000000000001\" dy=\"10\">+</tspan></text><text x=\"135.00000000000003\" y=\"-178.82\" fill=\"black\" font-size=\"10\" font-family=\"sans\" text-anchor=\"middle\"><tspan x=\"135.00000000000003\" dy=\"10\">-</tspan></text><text x=\"162.0\" y=\"-178.82\" fill=\"black\" font-size=\"10\" font-family=\"sans\" text-anchor=\"middle\"><tspan x=\"162.0\" dy=\"10\">v8</tspan></text><text x=\"189.0\" y=\"-178.82\" fill=\"black\" font-size=\"10\" font-family=\"sans\" text-anchor=\"middle\"><tspan x=\"189.0\" dy=\"10\">+</tspan></text></svg>"
      ]
     },
     "metadata": {},
     "output_type": "display_data"
    }
   ],
   "source": [
    "import schemdraw\n",
    "import schemdraw.elements as elm\n",
    "\n",
    "with schemdraw.Drawing() as d:\n",
    "    elm.style(elm.STYLE_IEC)\n",
    "    R1 = elm.Resistor().label(['+','$v1$','-'], fontsize=10).scaley(0.7).up().dot()\n",
    "    R2 = elm.Resistor().label(['-','$v2$','+'], fontsize=10).scaley(0.7).right().dot()\n",
    "    R4 = elm.Resistor().label(['+','$v4$','-'], fontsize=10).scaley(0.7).down()\n",
    "    R3 = elm.Resistor().label(['-','$v3$','+'], fontsize=10).scaley(0.7).left()\n",
    "    R5 = elm.Resistor().label(['-','$v5$','+'], fontsize=10).scaley(0.7).at(R4.end).right()\n",
    "    R6 = elm.Resistor().label(['-','$v6$','+'], fontsize=10).scaley(0.7).up().dot()\n",
    "    elm.Line().tox(R2.end)\n",
    "    # elm.Line().at(R1.end).up()\n",
    "    elm.Line().length(1.5).at(R1.end).up()\n",
    "    R7 = elm.Resistor().label(['-','$v7$','+'], fontsize=10).scaley(0.7).right()\n",
    "    R8 = elm.Resistor().label(['-','$v8$','+'], fontsize=10).scaley(0.7)\n",
    "    elm.Line().to(R6.end)"
   ]
  },
  {
   "cell_type": "markdown",
   "id": "90f123bafea75485",
   "metadata": {
    "collapsed": false
   },
   "source": [
    "### Solution of example one\n",
    "First, we select three closed circuits :\n",
    "\n",
    "![title](pictures/Figure_5.png)\n",
    "  \n",
    "\n",
    ">path 1 : v1 - v7 - v8 + v6 + v5 - v3 = 0  \n",
    "\n",
    ">path 2 : v1 - v2 + v6 + v5 - v3 = 0  \n",
    "\n",
    ">path 3 : -v2 + v8 + v7 = 0"
   ]
  },
  {
   "cell_type": "markdown",
   "id": "f22487d4b333b6d2",
   "metadata": {
    "collapsed": false
   },
   "source": [
    "### Example 2\n",
    "Calculate the voltage v8 in the circuit of Figure below :"
   ]
  },
  {
   "cell_type": "code",
   "execution_count": 11,
   "id": "100298d1ca1627c6",
   "metadata": {
    "ExecuteTime": {
     "end_time": "2024-10-23T20:27:52.019251600Z",
     "start_time": "2024-10-23T20:27:51.990640100Z"
    },
    "collapsed": false
   },
   "outputs": [
    {
     "data": {
      "image/svg+xml": [
       "<svg xmlns=\"http://www.w3.org/2000/svg\" xml:lang=\"en\" height=\"140.32pt\" width=\"387.0200000000001pt\" viewBox=\"-52.11999999999999 -129.42000000000002 387.0200000000001 140.32\"><path d=\"M 0.0,-0.0 L 1.983927814618712e-15,-32.4 L -6.299999999999997,-32.4 L -6.2999999999999945,-75.60000000000001 L 6.300000000000004,-75.60000000000001 L 6.300000000000002,-32.4 L 1.983927814618712e-15,-32.4 M 4.629164900776995e-15,-75.60000000000001 L 6.613092715395707e-15,-108.0\" style=\"stroke:black;fill:none;stroke-width:2.0;stroke-linecap:round;stroke-linejoin:round;\" /><path d=\"M 6.613092715395707e-15,-108.0 L 32.400000000000006,-108.0 L 32.400000000000006,-114.3 L 75.60000000000001,-114.3 L 75.60000000000001,-101.7 L 32.400000000000006,-101.7 L 32.400000000000006,-108.0 M 75.60000000000001,-108.0 L 108.0,-108.0\" style=\"stroke:black;fill:none;stroke-width:2.0;stroke-linecap:round;stroke-linejoin:round;\" /><path d=\"M 108.0,-108.0 L 108.0,-75.60000000000001 L 114.3,-75.60000000000001 L 114.3,-32.4 L 101.69999999999999,-32.4 L 101.69999999999999,-75.60000000000001 L 108.0,-75.60000000000001 M 107.99999999999999,-32.4 L 107.99999999999999,-0.0\" style=\"stroke:black;fill:none;stroke-width:2.0;stroke-linecap:round;stroke-linejoin:round;\" /><path d=\"M 107.99999999999999,-0.0 L 75.6,-3.967855629237424e-15 L 75.6,6.299999999999995 L 32.39999999999998,6.299999999999991 L 32.39999999999998,-6.300000000000009 L 75.6,-6.300000000000003 L 75.6,-3.967855629237424e-15 M 32.39999999999998,-9.25832980155399e-15 L -1.5987211554602254e-14,-1.3226185430791413e-14\" style=\"stroke:black;fill:none;stroke-width:2.0;stroke-linecap:round;stroke-linejoin:round;\" /><path d=\"M 108.0,-108.0 L 140.4,-108.0 L 140.4,-114.3 L 183.6,-114.3 L 183.6,-101.7 L 140.4,-101.7 L 140.4,-108.0 M 183.6,-108.0 L 216.0,-108.0\" style=\"stroke:black;fill:none;stroke-width:2.0;stroke-linecap:round;stroke-linejoin:round;\" /><path d=\"M 216.0,-108.0 L 248.4,-108.0 L 248.4,-114.3 L 291.59999999999997,-114.3 L 291.59999999999997,-101.7 L 248.4,-101.7 L 248.4,-108.0 M 291.59999999999997,-108.0 L 324.0,-108.0\" style=\"stroke:black;fill:none;stroke-width:2.0;stroke-linecap:round;stroke-linejoin:round;\" /><path d=\"M 324.0,-108.0 L 324.0,-75.60000000000001 L 330.3,-75.60000000000001 L 330.29999999999995,-32.4 L 317.7,-32.4 L 317.7,-75.60000000000001 L 324.0,-75.60000000000001 M 324.0,-32.4 L 324.0,-0.0\" style=\"stroke:black;fill:none;stroke-width:2.0;stroke-linecap:round;stroke-linejoin:round;\" /><path d=\"M 324.0,-0.0 L 237.6,-1.0580948344633132e-14 L 237.6,6.299999999999988 L 194.4,6.299999999999984 L 194.4,-6.300000000000016 L 237.6,-6.3000000000000105 L 237.6,-1.0580948344633132e-14 M 194.4,-1.5871422516949695e-14 L 108.0,-2.6452370861582827e-14\" style=\"stroke:black;fill:none;stroke-width:2.0;stroke-linecap:round;stroke-linejoin:round;\" /><text x=\"-8.819999999999997\" y=\"-31.0\" fill=\"black\" font-size=\"10\" font-family=\"sans\" text-anchor=\"end\"><tspan x=\"-8.819999999999997\" dy=\"10\">-</tspan></text><text x=\"-8.819999999999997\" y=\"-58.0\" fill=\"black\" font-size=\"10\" font-family=\"sans\" text-anchor=\"end\"><tspan x=\"-8.819999999999997\" dy=\"10\">v1=100v</tspan></text><text x=\"-8.819999999999993\" y=\"-85.0\" fill=\"black\" font-size=\"10\" font-family=\"sans\" text-anchor=\"end\"><tspan x=\"-8.819999999999993\" dy=\"10\">+</tspan></text><text x=\"27.000000000000007\" y=\"-124.82000000000001\" fill=\"black\" font-size=\"10\" font-family=\"sans\" text-anchor=\"middle\"><tspan x=\"27.000000000000007\" dy=\"10\">-</tspan></text><text x=\"54.00000000000001\" y=\"-124.82000000000001\" fill=\"black\" font-size=\"10\" font-family=\"sans\" text-anchor=\"middle\"><tspan x=\"54.00000000000001\" dy=\"10\">v2=50v</tspan></text><text x=\"81.0\" y=\"-124.82000000000001\" fill=\"black\" font-size=\"10\" font-family=\"sans\" text-anchor=\"middle\"><tspan x=\"81.0\" dy=\"10\">+</tspan></text><text x=\"99.17999999999999\" y=\"-85.0\" fill=\"black\" font-size=\"10\" font-family=\"sans\" text-anchor=\"end\"><tspan x=\"99.17999999999999\" dy=\"10\">-</tspan></text><text x=\"99.17999999999999\" y=\"-58.0\" fill=\"black\" font-size=\"10\" font-family=\"sans\" text-anchor=\"end\"><tspan x=\"99.17999999999999\" dy=\"10\">v3=50v</tspan></text><text x=\"99.17999999999998\" y=\"-31.0\" fill=\"black\" font-size=\"10\" font-family=\"sans\" text-anchor=\"end\"><tspan x=\"99.17999999999998\" dy=\"10\">+</tspan></text><text x=\"80.99999999999999\" y=\"-16.82\" fill=\"black\" font-size=\"10\" font-family=\"sans\" text-anchor=\"middle\"><tspan x=\"80.99999999999999\" dy=\"10\">+</tspan></text><text x=\"53.999999999999986\" y=\"-16.820000000000007\" fill=\"black\" font-size=\"10\" font-family=\"sans\" text-anchor=\"middle\"><tspan x=\"53.999999999999986\" dy=\"10\">v4=200v</tspan></text><text x=\"26.999999999999986\" y=\"-16.820000000000007\" fill=\"black\" font-size=\"10\" font-family=\"sans\" text-anchor=\"middle\"><tspan x=\"26.999999999999986\" dy=\"10\">-</tspan></text><text x=\"135.0\" y=\"-124.82000000000001\" fill=\"black\" font-size=\"10\" font-family=\"sans\" text-anchor=\"middle\"><tspan x=\"135.0\" dy=\"10\">-</tspan></text><text x=\"162.0\" y=\"-124.82000000000001\" fill=\"black\" font-size=\"10\" font-family=\"sans\" text-anchor=\"middle\"><tspan x=\"162.0\" dy=\"10\">v5=100v</tspan></text><text x=\"189.0\" y=\"-124.82000000000001\" fill=\"black\" font-size=\"10\" font-family=\"sans\" text-anchor=\"middle\"><tspan x=\"189.0\" dy=\"10\">+</tspan></text><text x=\"243.0\" y=\"-124.82000000000001\" fill=\"black\" font-size=\"10\" font-family=\"sans\" text-anchor=\"middle\"><tspan x=\"243.0\" dy=\"10\">+</tspan></text><text x=\"270.0\" y=\"-124.82000000000001\" fill=\"black\" font-size=\"10\" font-family=\"sans\" text-anchor=\"middle\"><tspan x=\"270.0\" dy=\"10\">v6=200v</tspan></text><text x=\"297.0\" y=\"-124.82000000000001\" fill=\"black\" font-size=\"10\" font-family=\"sans\" text-anchor=\"middle\"><tspan x=\"297.0\" dy=\"10\">-</tspan></text><text x=\"315.17999999999995\" y=\"-85.0\" fill=\"black\" font-size=\"10\" font-family=\"sans\" text-anchor=\"end\"><tspan x=\"315.17999999999995\" dy=\"10\">+</tspan></text><text x=\"315.17999999999995\" y=\"-58.0\" fill=\"black\" font-size=\"10\" font-family=\"sans\" text-anchor=\"end\"><tspan x=\"315.17999999999995\" dy=\"10\">v8</tspan></text><text x=\"315.17999999999995\" y=\"-31.0\" fill=\"black\" font-size=\"10\" font-family=\"sans\" text-anchor=\"end\"><tspan x=\"315.17999999999995\" dy=\"10\">-</tspan></text><text x=\"270.0\" y=\"-16.820000000000007\" fill=\"black\" font-size=\"10\" font-family=\"sans\" text-anchor=\"middle\"><tspan x=\"270.0\" dy=\"10\">-</tspan></text><text x=\"216.0\" y=\"-16.82000000000001\" fill=\"black\" font-size=\"10\" font-family=\"sans\" text-anchor=\"middle\"><tspan x=\"216.0\" dy=\"10\">v7=50v</tspan></text><text x=\"162.0\" y=\"-16.820000000000018\" fill=\"black\" font-size=\"10\" font-family=\"sans\" text-anchor=\"middle\"><tspan x=\"162.0\" dy=\"10\">+</tspan></text></svg>"
      ],
      "text/plain": [
       "<svg xmlns=\"http://www.w3.org/2000/svg\" xml:lang=\"en\" height=\"140.32pt\" width=\"387.0200000000001pt\" viewBox=\"-52.11999999999999 -129.42000000000002 387.0200000000001 140.32\"><path d=\"M 0.0,-0.0 L 1.983927814618712e-15,-32.4 L -6.299999999999997,-32.4 L -6.2999999999999945,-75.60000000000001 L 6.300000000000004,-75.60000000000001 L 6.300000000000002,-32.4 L 1.983927814618712e-15,-32.4 M 4.629164900776995e-15,-75.60000000000001 L 6.613092715395707e-15,-108.0\" style=\"stroke:black;fill:none;stroke-width:2.0;stroke-linecap:round;stroke-linejoin:round;\" /><path d=\"M 6.613092715395707e-15,-108.0 L 32.400000000000006,-108.0 L 32.400000000000006,-114.3 L 75.60000000000001,-114.3 L 75.60000000000001,-101.7 L 32.400000000000006,-101.7 L 32.400000000000006,-108.0 M 75.60000000000001,-108.0 L 108.0,-108.0\" style=\"stroke:black;fill:none;stroke-width:2.0;stroke-linecap:round;stroke-linejoin:round;\" /><path d=\"M 108.0,-108.0 L 108.0,-75.60000000000001 L 114.3,-75.60000000000001 L 114.3,-32.4 L 101.69999999999999,-32.4 L 101.69999999999999,-75.60000000000001 L 108.0,-75.60000000000001 M 107.99999999999999,-32.4 L 107.99999999999999,-0.0\" style=\"stroke:black;fill:none;stroke-width:2.0;stroke-linecap:round;stroke-linejoin:round;\" /><path d=\"M 107.99999999999999,-0.0 L 75.6,-3.967855629237424e-15 L 75.6,6.299999999999995 L 32.39999999999998,6.299999999999991 L 32.39999999999998,-6.300000000000009 L 75.6,-6.300000000000003 L 75.6,-3.967855629237424e-15 M 32.39999999999998,-9.25832980155399e-15 L -1.5987211554602254e-14,-1.3226185430791413e-14\" style=\"stroke:black;fill:none;stroke-width:2.0;stroke-linecap:round;stroke-linejoin:round;\" /><path d=\"M 108.0,-108.0 L 140.4,-108.0 L 140.4,-114.3 L 183.6,-114.3 L 183.6,-101.7 L 140.4,-101.7 L 140.4,-108.0 M 183.6,-108.0 L 216.0,-108.0\" style=\"stroke:black;fill:none;stroke-width:2.0;stroke-linecap:round;stroke-linejoin:round;\" /><path d=\"M 216.0,-108.0 L 248.4,-108.0 L 248.4,-114.3 L 291.59999999999997,-114.3 L 291.59999999999997,-101.7 L 248.4,-101.7 L 248.4,-108.0 M 291.59999999999997,-108.0 L 324.0,-108.0\" style=\"stroke:black;fill:none;stroke-width:2.0;stroke-linecap:round;stroke-linejoin:round;\" /><path d=\"M 324.0,-108.0 L 324.0,-75.60000000000001 L 330.3,-75.60000000000001 L 330.29999999999995,-32.4 L 317.7,-32.4 L 317.7,-75.60000000000001 L 324.0,-75.60000000000001 M 324.0,-32.4 L 324.0,-0.0\" style=\"stroke:black;fill:none;stroke-width:2.0;stroke-linecap:round;stroke-linejoin:round;\" /><path d=\"M 324.0,-0.0 L 237.6,-1.0580948344633132e-14 L 237.6,6.299999999999988 L 194.4,6.299999999999984 L 194.4,-6.300000000000016 L 237.6,-6.3000000000000105 L 237.6,-1.0580948344633132e-14 M 194.4,-1.5871422516949695e-14 L 108.0,-2.6452370861582827e-14\" style=\"stroke:black;fill:none;stroke-width:2.0;stroke-linecap:round;stroke-linejoin:round;\" /><text x=\"-8.819999999999997\" y=\"-31.0\" fill=\"black\" font-size=\"10\" font-family=\"sans\" text-anchor=\"end\"><tspan x=\"-8.819999999999997\" dy=\"10\">-</tspan></text><text x=\"-8.819999999999997\" y=\"-58.0\" fill=\"black\" font-size=\"10\" font-family=\"sans\" text-anchor=\"end\"><tspan x=\"-8.819999999999997\" dy=\"10\">v1=100v</tspan></text><text x=\"-8.819999999999993\" y=\"-85.0\" fill=\"black\" font-size=\"10\" font-family=\"sans\" text-anchor=\"end\"><tspan x=\"-8.819999999999993\" dy=\"10\">+</tspan></text><text x=\"27.000000000000007\" y=\"-124.82000000000001\" fill=\"black\" font-size=\"10\" font-family=\"sans\" text-anchor=\"middle\"><tspan x=\"27.000000000000007\" dy=\"10\">-</tspan></text><text x=\"54.00000000000001\" y=\"-124.82000000000001\" fill=\"black\" font-size=\"10\" font-family=\"sans\" text-anchor=\"middle\"><tspan x=\"54.00000000000001\" dy=\"10\">v2=50v</tspan></text><text x=\"81.0\" y=\"-124.82000000000001\" fill=\"black\" font-size=\"10\" font-family=\"sans\" text-anchor=\"middle\"><tspan x=\"81.0\" dy=\"10\">+</tspan></text><text x=\"99.17999999999999\" y=\"-85.0\" fill=\"black\" font-size=\"10\" font-family=\"sans\" text-anchor=\"end\"><tspan x=\"99.17999999999999\" dy=\"10\">-</tspan></text><text x=\"99.17999999999999\" y=\"-58.0\" fill=\"black\" font-size=\"10\" font-family=\"sans\" text-anchor=\"end\"><tspan x=\"99.17999999999999\" dy=\"10\">v3=50v</tspan></text><text x=\"99.17999999999998\" y=\"-31.0\" fill=\"black\" font-size=\"10\" font-family=\"sans\" text-anchor=\"end\"><tspan x=\"99.17999999999998\" dy=\"10\">+</tspan></text><text x=\"80.99999999999999\" y=\"-16.82\" fill=\"black\" font-size=\"10\" font-family=\"sans\" text-anchor=\"middle\"><tspan x=\"80.99999999999999\" dy=\"10\">+</tspan></text><text x=\"53.999999999999986\" y=\"-16.820000000000007\" fill=\"black\" font-size=\"10\" font-family=\"sans\" text-anchor=\"middle\"><tspan x=\"53.999999999999986\" dy=\"10\">v4=200v</tspan></text><text x=\"26.999999999999986\" y=\"-16.820000000000007\" fill=\"black\" font-size=\"10\" font-family=\"sans\" text-anchor=\"middle\"><tspan x=\"26.999999999999986\" dy=\"10\">-</tspan></text><text x=\"135.0\" y=\"-124.82000000000001\" fill=\"black\" font-size=\"10\" font-family=\"sans\" text-anchor=\"middle\"><tspan x=\"135.0\" dy=\"10\">-</tspan></text><text x=\"162.0\" y=\"-124.82000000000001\" fill=\"black\" font-size=\"10\" font-family=\"sans\" text-anchor=\"middle\"><tspan x=\"162.0\" dy=\"10\">v5=100v</tspan></text><text x=\"189.0\" y=\"-124.82000000000001\" fill=\"black\" font-size=\"10\" font-family=\"sans\" text-anchor=\"middle\"><tspan x=\"189.0\" dy=\"10\">+</tspan></text><text x=\"243.0\" y=\"-124.82000000000001\" fill=\"black\" font-size=\"10\" font-family=\"sans\" text-anchor=\"middle\"><tspan x=\"243.0\" dy=\"10\">+</tspan></text><text x=\"270.0\" y=\"-124.82000000000001\" fill=\"black\" font-size=\"10\" font-family=\"sans\" text-anchor=\"middle\"><tspan x=\"270.0\" dy=\"10\">v6=200v</tspan></text><text x=\"297.0\" y=\"-124.82000000000001\" fill=\"black\" font-size=\"10\" font-family=\"sans\" text-anchor=\"middle\"><tspan x=\"297.0\" dy=\"10\">-</tspan></text><text x=\"315.17999999999995\" y=\"-85.0\" fill=\"black\" font-size=\"10\" font-family=\"sans\" text-anchor=\"end\"><tspan x=\"315.17999999999995\" dy=\"10\">+</tspan></text><text x=\"315.17999999999995\" y=\"-58.0\" fill=\"black\" font-size=\"10\" font-family=\"sans\" text-anchor=\"end\"><tspan x=\"315.17999999999995\" dy=\"10\">v8</tspan></text><text x=\"315.17999999999995\" y=\"-31.0\" fill=\"black\" font-size=\"10\" font-family=\"sans\" text-anchor=\"end\"><tspan x=\"315.17999999999995\" dy=\"10\">-</tspan></text><text x=\"270.0\" y=\"-16.820000000000007\" fill=\"black\" font-size=\"10\" font-family=\"sans\" text-anchor=\"middle\"><tspan x=\"270.0\" dy=\"10\">-</tspan></text><text x=\"216.0\" y=\"-16.82000000000001\" fill=\"black\" font-size=\"10\" font-family=\"sans\" text-anchor=\"middle\"><tspan x=\"216.0\" dy=\"10\">v7=50v</tspan></text><text x=\"162.0\" y=\"-16.820000000000018\" fill=\"black\" font-size=\"10\" font-family=\"sans\" text-anchor=\"middle\"><tspan x=\"162.0\" dy=\"10\">+</tspan></text></svg>"
      ]
     },
     "metadata": {},
     "output_type": "display_data"
    }
   ],
   "source": [
    "import schemdraw\n",
    "import schemdraw.elements as elm\n",
    "\n",
    "with schemdraw.Drawing() as d:\n",
    "    elm.style(elm.STYLE_IEC)\n",
    "    R1 = elm.Resistor().label(['-','$v1=100v$','+'], fontsize=10).scaley(0.7).scalex(1.2).up()\n",
    "    R2 = elm.Resistor().label(['-','$v2=50v$','+'], fontsize=10).scaley(0.7).scalex(1.2).right()\n",
    "    R3 = elm.Resistor().label(['-','$v3=50v$','+'], fontsize=10).scaley(0.7).scalex(1.2).down()\n",
    "    R4 = elm.Resistor().label(['+','$v4=200v$','-'], fontsize=10).scaley(0.7).scalex(1.2).left()\n",
    "    R5 = elm.Resistor().label(['-','$v5=100v$','+'], fontsize=10).scaley(0.7).scalex(1.2).at(R2.end).right()\n",
    "    R6 = elm.Resistor().label(['+','$v6=200v$','-'], fontsize=10).scaley(0.7).scalex(1.2)\n",
    "    R8 = elm.Resistor().label(['+','$v8$','-'], fontsize=10).scaley(0.7).scalex(1.2).down()\n",
    "    R7 = elm.Resistor().label(['-','$v7=50v$','+'], fontsize=10).scaley(0.7).scalex(1.2).left().to(R4.start)"
   ]
  },
  {
   "cell_type": "markdown",
   "id": "73715eb5af058e62",
   "metadata": {
    "collapsed": false
   },
   "source": [
    "### Solution of example two\n",
    "Two closed paths are available for this calculation  \n",
    "\n",
    "first one:\n",
    "  \n",
    "![title](pictures/Figure_7.png)\n",
    "  \n",
    "The kvl equation of path1 is:  \n",
    ">-v1 - v2 - v5 + v6 + v8 - v7 + v4 = 0 \n",
    " \n",
    ">-100 -50 - 100 + 200 + v8 - 50 + 200 = 0  \n",
    "\n",
    ">v8 = -100v  \n",
    "  \n",
    "second one:  \n",
    "  \n",
    "![title](pictures/Figure_8.png)\n",
    "  \n",
    "  \n",
    "the kvl equation of path2 is:  \n",
    "  \n",
    ">v3 - v5 + v6 + v8 - v7 = 0  \n",
    "\n",
    ">50 - 100 + 200 + v8 - 50 = 0  \n",
    "\n",
    "> v8 = -100v"
   ]
  },
  {
   "cell_type": "markdown",
   "id": "f2f19632cf10dbdc",
   "metadata": {
    "collapsed": false
   },
   "source": [
    "### Example 3\n",
    "In the circuit shown in figure below evaluate the voltage marked Vx"
   ]
  },
  {
   "cell_type": "code",
   "execution_count": 12,
   "id": "2af3a83e20c619ab",
   "metadata": {
    "ExecuteTime": {
     "end_time": "2024-10-23T20:27:52.021263500Z",
     "start_time": "2024-10-23T20:27:51.996839100Z"
    },
    "collapsed": false
   },
   "outputs": [
    {
     "data": {
      "image/svg+xml": [
       "<svg xmlns=\"http://www.w3.org/2000/svg\" xml:lang=\"en\" height=\"185.81999999999994pt\" width=\"382.52pt\" viewBox=\"-41.32 -174.91999999999996 382.52 185.81999999999994\"><circle cx=\"4.408728476930472e-15\" cy=\"-72.0\" r=\"18.0\" style=\"stroke:black;fill:none;stroke-width:2.0;\" /><circle cx=\"108.0\" cy=\"-35.99999999999999\" r=\"12.6\" style=\"stroke:black;fill:none;stroke-width:2.0;\" /><circle cx=\"270.0\" cy=\"-144.0\" r=\"12.6\" style=\"stroke:black;fill:none;stroke-width:2.0;\" /><circle cx=\"324.0\" cy=\"-72.0\" r=\"12.6\" style=\"stroke:black;fill:none;stroke-width:2.0;\" /><circle cx=\"186.55258069476298\" cy=\"-33.24571966758557\" r=\"12.6\" style=\"stroke:black;fill:none;stroke-width:2.0;\" /><path d=\"M 0.0,-0.0 L 3.3065463576978533e-15,-54.0 L 3.3065463576978533e-15,-54.0 M 5.5109105961630896e-15,-90.0 L 5.5109105961630896e-15,-90.0 L 8.817456953860943e-15,-144.0\" style=\"stroke:black;fill:none;stroke-width:2.0;stroke-linecap:round;stroke-linejoin:round;\" /><path d=\"M 3.600000000000004,-63.0 L -3.599999999999996,-63.0\" style=\"stroke:black;fill:none;stroke-width:2.0;stroke-linecap:round;stroke-linejoin:round;\" /><path d=\"M 4.739383112700256e-15,-77.39999999999999 L 5.180255960393305e-15,-84.60000000000001\" style=\"stroke:black;fill:none;stroke-width:2.0;stroke-linecap:round;stroke-linejoin:round;\" /><path d=\"M 3.600000000000005,-81.0 L -3.599999999999995,-81.0\" style=\"stroke:black;fill:none;stroke-width:2.0;stroke-linecap:round;stroke-linejoin:round;\" /><path d=\"M 8.817456953860943e-15,-144.0 L 36.00000000000001,-144.0 L 36.00000000000001,-150.29999999999998 L 72.00000000000001,-150.29999999999998 L 72.00000000000001,-137.70000000000002 L 36.00000000000001,-137.70000000000002 L 36.00000000000001,-144.0 M 72.00000000000001,-144.0 L 108.00000000000001,-144.0\" style=\"stroke:black;fill:none;stroke-width:2.0;stroke-linecap:round;stroke-linejoin:round;\" /><path d=\"M 108.00000000000001,-144.0 L 108.00000000000001,-126.0 L 114.30000000000001,-126.0 L 114.30000000000001,-90.0 L 101.7,-90.0 L 101.7,-126.0 L 108.00000000000001,-126.0 M 108.0,-90.0 L 108.0,-72.0\" style=\"stroke:black;fill:none;stroke-width:2.0;stroke-linecap:round;stroke-linejoin:round;\" /><path d=\"M 108.0,-72.0 L 108.0,-48.6 L 108.0,-48.6 M 107.99999999999999,-23.4 L 107.99999999999999,-23.4 L 107.99999999999999,1.5987211554602254e-14\" style=\"stroke:black;fill:none;stroke-width:2.0;stroke-linecap:round;stroke-linejoin:round;\" /><path d=\"M 105.47999999999999,-42.3 L 110.52,-42.3\" style=\"stroke:black;fill:none;stroke-width:2.0;stroke-linecap:round;stroke-linejoin:round;\" /><path d=\"M 108.0,-32.22 L 107.99999999999999,-27.179999999999996\" style=\"stroke:black;fill:none;stroke-width:2.0;stroke-linecap:round;stroke-linejoin:round;\" /><path d=\"M 105.47999999999999,-29.7 L 110.52,-29.7\" style=\"stroke:black;fill:none;stroke-width:2.0;stroke-linecap:round;stroke-linejoin:round;\" /><path d=\"M 107.99999999999999,1.5987211554602254e-14 L 53.99999999999999,9.37411883920655e-15 L 0.0,2.7610261238108424e-15\" style=\"stroke:black;fill:none;stroke-width:2.0;stroke-linecap:round;stroke-linejoin:round;\" /><path d=\"M 108.00000000000001,-144.0 L 144.0,-144.0 L 144.0,-150.29999999999998 L 180.0,-150.29999999999998 L 180.0,-137.70000000000002 L 144.0,-137.70000000000002 L 144.0,-144.0 M 180.0,-144.0 L 216.0,-144.0\" style=\"stroke:black;fill:none;stroke-width:2.0;stroke-linecap:round;stroke-linejoin:round;\" /><path d=\"M 216.0,-144.0 L 257.40000000000003,-144.0 L 257.40000000000003,-144.0 M 282.59999999999997,-144.0 L 282.59999999999997,-144.0 L 324.0,-144.0\" style=\"stroke:black;fill:none;stroke-width:2.0;stroke-linecap:round;stroke-linejoin:round;\" /><path d=\"M 263.7,-141.48000000000002 L 263.7,-146.52\" style=\"stroke:black;fill:none;stroke-width:2.0;stroke-linecap:round;stroke-linejoin:round;\" /><path d=\"M 273.78,-144.0 L 278.82,-144.0\" style=\"stroke:black;fill:none;stroke-width:2.0;stroke-linecap:round;stroke-linejoin:round;\" /><path d=\"M 276.3,-141.48000000000002 L 276.3,-146.52\" style=\"stroke:black;fill:none;stroke-width:2.0;stroke-linecap:round;stroke-linejoin:round;\" /><path d=\"M 324.0,-144.0 L 324.0,-84.60000000000001 L 324.0,-84.60000000000001 M 324.0,-59.4 L 324.0,-59.4 L 324.0,-0.0\" style=\"stroke:black;fill:none;stroke-width:2.0;stroke-linecap:round;stroke-linejoin:round;\" /><path d=\"M 321.48,-78.3 L 326.52,-78.3\" style=\"stroke:black;fill:none;stroke-width:2.0;stroke-linecap:round;stroke-linejoin:round;\" /><path d=\"M 324.0,-68.22 L 324.0,-63.17999999999999\" style=\"stroke:black;fill:none;stroke-width:2.0;stroke-linecap:round;stroke-linejoin:round;\" /><path d=\"M 321.48,-65.7 L 326.52,-65.7\" style=\"stroke:black;fill:none;stroke-width:2.0;stroke-linecap:round;stroke-linejoin:round;\" /><path d=\"M 324.0,-0.0 L 252.0,-8.817456953860943e-15 L 252.0,6.299999999999991 L 216.0,6.2999999999999865 L 216.0,-6.300000000000012 L 252.0,-6.300000000000009 L 252.0,-8.817456953860943e-15 M 216.0,-1.3226185430791413e-14 L 144.0,-2.2043642384652358e-14\" style=\"stroke:black;fill:none;stroke-width:2.0;stroke-linecap:round;stroke-linejoin:round;\" /><path d=\"M 144.0,-2.2043642384652358e-14 L 126.0,-3.852066591584861e-15 L 107.99999999999999,1.4339509201482638e-14\" style=\"stroke:black;fill:none;stroke-width:2.0;stroke-linecap:round;stroke-linejoin:round;\" /><path d=\"M 144.0,-2.2043642384652358e-14 L 176.62364519931828,-25.488385078482274 L 176.62364519931828,-25.488385078482274 M 196.48151619020769,-41.00305425668886 L 196.48151619020769,-41.00305425668886 L 229.10516138952596,-66.49143933517111\" style=\"stroke:black;fill:none;stroke-width:2.0;stroke-linecap:round;stroke-linejoin:round;\" /><path d=\"M 183.1395798648613,-27.381265273944983 L 180.03664602921998,-31.352839472122866\" style=\"stroke:black;fill:none;stroke-width:2.0;stroke-linecap:round;stroke-linejoin:round;\" /><path d=\"M 189.53126134339638,-35.572920044316554 L 193.50283554157429,-38.67585387995788\" style=\"stroke:black;fill:none;stroke-width:2.0;stroke-linecap:round;stroke-linejoin:round;\" /><path d=\"M 193.06851536030598,-35.13859986304828 L 189.96558152466469,-39.110174061226154\" style=\"stroke:black;fill:none;stroke-width:2.0;stroke-linecap:round;stroke-linejoin:round;\" /><path d=\"M 229.10516138952596,-66.49143933517111 L 262.61180198751754,-93.85911837327423 L 258.62649153450855,-98.73839092081013 L 286.50804894899943,-121.51159350943277 L 294.47866985501736,-111.75304841436096 L 266.5971124405265,-88.97984582573832 L 262.61180198751754,-93.85911837327423 M 290.49335940200837,-116.63232096189687 L 324.0,-144.0\" style=\"stroke:black;fill:none;stroke-width:2.0;stroke-linecap:round;stroke-linejoin:round;\" /><text x=\"-21.599999999999994\" y=\"-77.60000000000001\" fill=\"black\" font-size=\"14.0\" font-family=\"sans\" text-anchor=\"end\"><tspan x=\"-21.599999999999994\" dy=\"14.0\">v1</tspan></text><ellipse cx=\"108.00000000000001\" cy=\"-144.0\" rx=\"2.6999999999999997\" ry=\"1.89\" style=\"stroke:black;fill:black;stroke-width:2.0;\" /><text x=\"27.67500000000001\" y=\"-160.82\" fill=\"black\" font-size=\"10\" font-family=\"sans\" text-anchor=\"middle\"><tspan x=\"27.67500000000001\" dy=\"10\">+</tspan></text><text x=\"55.35000000000001\" y=\"-160.82\" fill=\"black\" font-size=\"10\" font-family=\"sans\" text-anchor=\"middle\"><tspan x=\"55.35000000000001\" dy=\"10\">v2</tspan></text><text x=\"83.02500000000003\" y=\"-160.82\" fill=\"black\" font-size=\"10\" font-family=\"sans\" text-anchor=\"middle\"><tspan x=\"83.02500000000003\" dy=\"10\">-</tspan></text><text x=\"99.18\" y=\"-130.0\" fill=\"black\" font-size=\"10\" font-family=\"sans\" text-anchor=\"end\"><tspan x=\"99.18\" dy=\"10\">+</tspan></text><text x=\"99.18\" y=\"-112.0\" fill=\"black\" font-size=\"10\" font-family=\"sans\" text-anchor=\"end\"><tspan x=\"99.18\" dy=\"10\">v3</tspan></text><text x=\"99.18\" y=\"-94.0\" fill=\"black\" font-size=\"10\" font-family=\"sans\" text-anchor=\"end\"><tspan x=\"99.18\" dy=\"10\">-</tspan></text><circle cx=\"107.99999999999999\" cy=\"1.5987211554602254e-14\" r=\"1.89\" style=\"stroke:black;fill:black;stroke-width:2.0;\" /><text x=\"92.88\" y=\"-40.654999999999994\" fill=\"black\" font-size=\"14.0\" font-family=\"sans\" text-anchor=\"end\"><tspan x=\"92.88\" dy=\"14.0\">v4</tspan></text><text x=\"135.00000000000003\" y=\"-160.82\" fill=\"black\" font-size=\"10\" font-family=\"sans\" text-anchor=\"middle\"><tspan x=\"135.00000000000003\" dy=\"10\">+</tspan></text><text x=\"162.0\" y=\"-160.82\" fill=\"black\" font-size=\"10\" font-family=\"sans\" text-anchor=\"middle\"><tspan x=\"162.0\" dy=\"10\">v5</tspan></text><text x=\"189.0\" y=\"-160.82\" fill=\"black\" font-size=\"10\" font-family=\"sans\" text-anchor=\"middle\"><tspan x=\"189.0\" dy=\"10\">-</tspan></text><circle cx=\"324.0\" cy=\"-144.0\" r=\"1.89\" style=\"stroke:black;fill:black;stroke-width:2.0;\" /><text x=\"270.945\" y=\"-170.32\" fill=\"black\" font-size=\"14.0\" font-family=\"sans\" text-anchor=\"middle\"><tspan x=\"270.945\" dy=\"14.0\">v6</tspan></text><text x=\"308.88\" y=\"-77.60000000000001\" fill=\"black\" font-size=\"14.0\" font-family=\"sans\" text-anchor=\"end\"><tspan x=\"308.88\" dy=\"14.0\">v7</tspan></text><ellipse cx=\"144.0\" cy=\"-2.2043642384652358e-14\" rx=\"2.6999999999999997\" ry=\"1.89\" transform=\"rotate(-180 144.0 -2.2043642384652358e-14)\" style=\"stroke:black;fill:black;stroke-width:2.0;\" /><text x=\"278.325\" y=\"-16.820000000000007\" fill=\"black\" font-size=\"10\" font-family=\"sans\" text-anchor=\"middle\"><tspan x=\"278.325\" dy=\"10\">-</tspan></text><text x=\"232.65\" y=\"-16.820000000000007\" fill=\"black\" font-size=\"10\" font-family=\"sans\" text-anchor=\"middle\"><tspan x=\"232.65\" dy=\"10\">v8</tspan></text><text x=\"186.975\" y=\"-16.820000000000014\" fill=\"black\" font-size=\"10\" font-family=\"sans\" text-anchor=\"middle\"><tspan x=\"186.975\" dy=\"10\">+</tspan></text><text x=\"177.24377918783904\" y=\"-56.3604422621192\" fill=\"black\" font-size=\"14.0\" font-family=\"sans\" text-anchor=\"end\"><tspan x=\"177.24377918783904\" dy=\"14.0\">v9</tspan></text><text x=\"247.2494364079319\" y=\"-100.6995610679286\" fill=\"black\" font-size=\"10\" font-family=\"sans\" text-anchor=\"end\"><tspan x=\"247.2494364079319\" dy=\"10\">+</tspan></text><text x=\"270.97314606055045\" y=\"-120.07670123413581\" fill=\"black\" font-size=\"10\" font-family=\"sans\" text-anchor=\"end\"><tspan x=\"270.97314606055045\" dy=\"10\">v10</tspan></text><text x=\"294.69685571316893\" y=\"-139.45384140034304\" fill=\"black\" font-size=\"10\" font-family=\"sans\" text-anchor=\"end\"><tspan x=\"294.69685571316893\" dy=\"10\">-</tspan></text></svg>"
      ],
      "text/plain": [
       "<svg xmlns=\"http://www.w3.org/2000/svg\" xml:lang=\"en\" height=\"185.81999999999994pt\" width=\"382.52pt\" viewBox=\"-41.32 -174.91999999999996 382.52 185.81999999999994\"><circle cx=\"4.408728476930472e-15\" cy=\"-72.0\" r=\"18.0\" style=\"stroke:black;fill:none;stroke-width:2.0;\" /><circle cx=\"108.0\" cy=\"-35.99999999999999\" r=\"12.6\" style=\"stroke:black;fill:none;stroke-width:2.0;\" /><circle cx=\"270.0\" cy=\"-144.0\" r=\"12.6\" style=\"stroke:black;fill:none;stroke-width:2.0;\" /><circle cx=\"324.0\" cy=\"-72.0\" r=\"12.6\" style=\"stroke:black;fill:none;stroke-width:2.0;\" /><circle cx=\"186.55258069476298\" cy=\"-33.24571966758557\" r=\"12.6\" style=\"stroke:black;fill:none;stroke-width:2.0;\" /><path d=\"M 0.0,-0.0 L 3.3065463576978533e-15,-54.0 L 3.3065463576978533e-15,-54.0 M 5.5109105961630896e-15,-90.0 L 5.5109105961630896e-15,-90.0 L 8.817456953860943e-15,-144.0\" style=\"stroke:black;fill:none;stroke-width:2.0;stroke-linecap:round;stroke-linejoin:round;\" /><path d=\"M 3.600000000000004,-63.0 L -3.599999999999996,-63.0\" style=\"stroke:black;fill:none;stroke-width:2.0;stroke-linecap:round;stroke-linejoin:round;\" /><path d=\"M 4.739383112700256e-15,-77.39999999999999 L 5.180255960393305e-15,-84.60000000000001\" style=\"stroke:black;fill:none;stroke-width:2.0;stroke-linecap:round;stroke-linejoin:round;\" /><path d=\"M 3.600000000000005,-81.0 L -3.599999999999995,-81.0\" style=\"stroke:black;fill:none;stroke-width:2.0;stroke-linecap:round;stroke-linejoin:round;\" /><path d=\"M 8.817456953860943e-15,-144.0 L 36.00000000000001,-144.0 L 36.00000000000001,-150.29999999999998 L 72.00000000000001,-150.29999999999998 L 72.00000000000001,-137.70000000000002 L 36.00000000000001,-137.70000000000002 L 36.00000000000001,-144.0 M 72.00000000000001,-144.0 L 108.00000000000001,-144.0\" style=\"stroke:black;fill:none;stroke-width:2.0;stroke-linecap:round;stroke-linejoin:round;\" /><path d=\"M 108.00000000000001,-144.0 L 108.00000000000001,-126.0 L 114.30000000000001,-126.0 L 114.30000000000001,-90.0 L 101.7,-90.0 L 101.7,-126.0 L 108.00000000000001,-126.0 M 108.0,-90.0 L 108.0,-72.0\" style=\"stroke:black;fill:none;stroke-width:2.0;stroke-linecap:round;stroke-linejoin:round;\" /><path d=\"M 108.0,-72.0 L 108.0,-48.6 L 108.0,-48.6 M 107.99999999999999,-23.4 L 107.99999999999999,-23.4 L 107.99999999999999,1.5987211554602254e-14\" style=\"stroke:black;fill:none;stroke-width:2.0;stroke-linecap:round;stroke-linejoin:round;\" /><path d=\"M 105.47999999999999,-42.3 L 110.52,-42.3\" style=\"stroke:black;fill:none;stroke-width:2.0;stroke-linecap:round;stroke-linejoin:round;\" /><path d=\"M 108.0,-32.22 L 107.99999999999999,-27.179999999999996\" style=\"stroke:black;fill:none;stroke-width:2.0;stroke-linecap:round;stroke-linejoin:round;\" /><path d=\"M 105.47999999999999,-29.7 L 110.52,-29.7\" style=\"stroke:black;fill:none;stroke-width:2.0;stroke-linecap:round;stroke-linejoin:round;\" /><path d=\"M 107.99999999999999,1.5987211554602254e-14 L 53.99999999999999,9.37411883920655e-15 L 0.0,2.7610261238108424e-15\" style=\"stroke:black;fill:none;stroke-width:2.0;stroke-linecap:round;stroke-linejoin:round;\" /><path d=\"M 108.00000000000001,-144.0 L 144.0,-144.0 L 144.0,-150.29999999999998 L 180.0,-150.29999999999998 L 180.0,-137.70000000000002 L 144.0,-137.70000000000002 L 144.0,-144.0 M 180.0,-144.0 L 216.0,-144.0\" style=\"stroke:black;fill:none;stroke-width:2.0;stroke-linecap:round;stroke-linejoin:round;\" /><path d=\"M 216.0,-144.0 L 257.40000000000003,-144.0 L 257.40000000000003,-144.0 M 282.59999999999997,-144.0 L 282.59999999999997,-144.0 L 324.0,-144.0\" style=\"stroke:black;fill:none;stroke-width:2.0;stroke-linecap:round;stroke-linejoin:round;\" /><path d=\"M 263.7,-141.48000000000002 L 263.7,-146.52\" style=\"stroke:black;fill:none;stroke-width:2.0;stroke-linecap:round;stroke-linejoin:round;\" /><path d=\"M 273.78,-144.0 L 278.82,-144.0\" style=\"stroke:black;fill:none;stroke-width:2.0;stroke-linecap:round;stroke-linejoin:round;\" /><path d=\"M 276.3,-141.48000000000002 L 276.3,-146.52\" style=\"stroke:black;fill:none;stroke-width:2.0;stroke-linecap:round;stroke-linejoin:round;\" /><path d=\"M 324.0,-144.0 L 324.0,-84.60000000000001 L 324.0,-84.60000000000001 M 324.0,-59.4 L 324.0,-59.4 L 324.0,-0.0\" style=\"stroke:black;fill:none;stroke-width:2.0;stroke-linecap:round;stroke-linejoin:round;\" /><path d=\"M 321.48,-78.3 L 326.52,-78.3\" style=\"stroke:black;fill:none;stroke-width:2.0;stroke-linecap:round;stroke-linejoin:round;\" /><path d=\"M 324.0,-68.22 L 324.0,-63.17999999999999\" style=\"stroke:black;fill:none;stroke-width:2.0;stroke-linecap:round;stroke-linejoin:round;\" /><path d=\"M 321.48,-65.7 L 326.52,-65.7\" style=\"stroke:black;fill:none;stroke-width:2.0;stroke-linecap:round;stroke-linejoin:round;\" /><path d=\"M 324.0,-0.0 L 252.0,-8.817456953860943e-15 L 252.0,6.299999999999991 L 216.0,6.2999999999999865 L 216.0,-6.300000000000012 L 252.0,-6.300000000000009 L 252.0,-8.817456953860943e-15 M 216.0,-1.3226185430791413e-14 L 144.0,-2.2043642384652358e-14\" style=\"stroke:black;fill:none;stroke-width:2.0;stroke-linecap:round;stroke-linejoin:round;\" /><path d=\"M 144.0,-2.2043642384652358e-14 L 126.0,-3.852066591584861e-15 L 107.99999999999999,1.4339509201482638e-14\" style=\"stroke:black;fill:none;stroke-width:2.0;stroke-linecap:round;stroke-linejoin:round;\" /><path d=\"M 144.0,-2.2043642384652358e-14 L 176.62364519931828,-25.488385078482274 L 176.62364519931828,-25.488385078482274 M 196.48151619020769,-41.00305425668886 L 196.48151619020769,-41.00305425668886 L 229.10516138952596,-66.49143933517111\" style=\"stroke:black;fill:none;stroke-width:2.0;stroke-linecap:round;stroke-linejoin:round;\" /><path d=\"M 183.1395798648613,-27.381265273944983 L 180.03664602921998,-31.352839472122866\" style=\"stroke:black;fill:none;stroke-width:2.0;stroke-linecap:round;stroke-linejoin:round;\" /><path d=\"M 189.53126134339638,-35.572920044316554 L 193.50283554157429,-38.67585387995788\" style=\"stroke:black;fill:none;stroke-width:2.0;stroke-linecap:round;stroke-linejoin:round;\" /><path d=\"M 193.06851536030598,-35.13859986304828 L 189.96558152466469,-39.110174061226154\" style=\"stroke:black;fill:none;stroke-width:2.0;stroke-linecap:round;stroke-linejoin:round;\" /><path d=\"M 229.10516138952596,-66.49143933517111 L 262.61180198751754,-93.85911837327423 L 258.62649153450855,-98.73839092081013 L 286.50804894899943,-121.51159350943277 L 294.47866985501736,-111.75304841436096 L 266.5971124405265,-88.97984582573832 L 262.61180198751754,-93.85911837327423 M 290.49335940200837,-116.63232096189687 L 324.0,-144.0\" style=\"stroke:black;fill:none;stroke-width:2.0;stroke-linecap:round;stroke-linejoin:round;\" /><text x=\"-21.599999999999994\" y=\"-77.60000000000001\" fill=\"black\" font-size=\"14.0\" font-family=\"sans\" text-anchor=\"end\"><tspan x=\"-21.599999999999994\" dy=\"14.0\">v1</tspan></text><ellipse cx=\"108.00000000000001\" cy=\"-144.0\" rx=\"2.6999999999999997\" ry=\"1.89\" style=\"stroke:black;fill:black;stroke-width:2.0;\" /><text x=\"27.67500000000001\" y=\"-160.82\" fill=\"black\" font-size=\"10\" font-family=\"sans\" text-anchor=\"middle\"><tspan x=\"27.67500000000001\" dy=\"10\">+</tspan></text><text x=\"55.35000000000001\" y=\"-160.82\" fill=\"black\" font-size=\"10\" font-family=\"sans\" text-anchor=\"middle\"><tspan x=\"55.35000000000001\" dy=\"10\">v2</tspan></text><text x=\"83.02500000000003\" y=\"-160.82\" fill=\"black\" font-size=\"10\" font-family=\"sans\" text-anchor=\"middle\"><tspan x=\"83.02500000000003\" dy=\"10\">-</tspan></text><text x=\"99.18\" y=\"-130.0\" fill=\"black\" font-size=\"10\" font-family=\"sans\" text-anchor=\"end\"><tspan x=\"99.18\" dy=\"10\">+</tspan></text><text x=\"99.18\" y=\"-112.0\" fill=\"black\" font-size=\"10\" font-family=\"sans\" text-anchor=\"end\"><tspan x=\"99.18\" dy=\"10\">v3</tspan></text><text x=\"99.18\" y=\"-94.0\" fill=\"black\" font-size=\"10\" font-family=\"sans\" text-anchor=\"end\"><tspan x=\"99.18\" dy=\"10\">-</tspan></text><circle cx=\"107.99999999999999\" cy=\"1.5987211554602254e-14\" r=\"1.89\" style=\"stroke:black;fill:black;stroke-width:2.0;\" /><text x=\"92.88\" y=\"-40.654999999999994\" fill=\"black\" font-size=\"14.0\" font-family=\"sans\" text-anchor=\"end\"><tspan x=\"92.88\" dy=\"14.0\">v4</tspan></text><text x=\"135.00000000000003\" y=\"-160.82\" fill=\"black\" font-size=\"10\" font-family=\"sans\" text-anchor=\"middle\"><tspan x=\"135.00000000000003\" dy=\"10\">+</tspan></text><text x=\"162.0\" y=\"-160.82\" fill=\"black\" font-size=\"10\" font-family=\"sans\" text-anchor=\"middle\"><tspan x=\"162.0\" dy=\"10\">v5</tspan></text><text x=\"189.0\" y=\"-160.82\" fill=\"black\" font-size=\"10\" font-family=\"sans\" text-anchor=\"middle\"><tspan x=\"189.0\" dy=\"10\">-</tspan></text><circle cx=\"324.0\" cy=\"-144.0\" r=\"1.89\" style=\"stroke:black;fill:black;stroke-width:2.0;\" /><text x=\"270.945\" y=\"-170.32\" fill=\"black\" font-size=\"14.0\" font-family=\"sans\" text-anchor=\"middle\"><tspan x=\"270.945\" dy=\"14.0\">v6</tspan></text><text x=\"308.88\" y=\"-77.60000000000001\" fill=\"black\" font-size=\"14.0\" font-family=\"sans\" text-anchor=\"end\"><tspan x=\"308.88\" dy=\"14.0\">v7</tspan></text><ellipse cx=\"144.0\" cy=\"-2.2043642384652358e-14\" rx=\"2.6999999999999997\" ry=\"1.89\" transform=\"rotate(-180 144.0 -2.2043642384652358e-14)\" style=\"stroke:black;fill:black;stroke-width:2.0;\" /><text x=\"278.325\" y=\"-16.820000000000007\" fill=\"black\" font-size=\"10\" font-family=\"sans\" text-anchor=\"middle\"><tspan x=\"278.325\" dy=\"10\">-</tspan></text><text x=\"232.65\" y=\"-16.820000000000007\" fill=\"black\" font-size=\"10\" font-family=\"sans\" text-anchor=\"middle\"><tspan x=\"232.65\" dy=\"10\">v8</tspan></text><text x=\"186.975\" y=\"-16.820000000000014\" fill=\"black\" font-size=\"10\" font-family=\"sans\" text-anchor=\"middle\"><tspan x=\"186.975\" dy=\"10\">+</tspan></text><text x=\"177.24377918783904\" y=\"-56.3604422621192\" fill=\"black\" font-size=\"14.0\" font-family=\"sans\" text-anchor=\"end\"><tspan x=\"177.24377918783904\" dy=\"14.0\">v9</tspan></text><text x=\"247.2494364079319\" y=\"-100.6995610679286\" fill=\"black\" font-size=\"10\" font-family=\"sans\" text-anchor=\"end\"><tspan x=\"247.2494364079319\" dy=\"10\">+</tspan></text><text x=\"270.97314606055045\" y=\"-120.07670123413581\" fill=\"black\" font-size=\"10\" font-family=\"sans\" text-anchor=\"end\"><tspan x=\"270.97314606055045\" dy=\"10\">v10</tspan></text><text x=\"294.69685571316893\" y=\"-139.45384140034304\" fill=\"black\" font-size=\"10\" font-family=\"sans\" text-anchor=\"end\"><tspan x=\"294.69685571316893\" dy=\"10\">-</tspan></text></svg>"
      ]
     },
     "metadata": {},
     "output_type": "display_data"
    }
   ],
   "source": [
    "import schemdraw\n",
    "import schemdraw.elements as elm\n",
    "\n",
    "with schemdraw.Drawing() as d:\n",
    "    elm.style(elm.STYLE_IEC)\n",
    "    v1 = elm.SourceV().label('$v1$').length(4)\n",
    "    r1 = elm.Resistor().label(['+','$v2$','-'], fontsize=10).scaley(0.7).right().dot()\n",
    "    r2 = elm.Resistor().label(['+','$v3$','-'], fontsize=10).length(2).scaley(0.7).down()\n",
    "    v2 = elm.SourceV().label('$v4$').length(2).scale(0.7).down().dot()\n",
    "    elm.Line().to(v1.start)\n",
    "    r3 = elm.Resistor().label(['+','$v5$','-'], fontsize=10).scaley(0.7).at(r1.end).right()\n",
    "    v3 = elm.SourceV().label('$v6$').scale(0.7).dot().right()\n",
    "    v4 = elm.SourceV().label('$v7$').toy(v1.start).scale(0.7).down()\n",
    "    r4 = elm.Resistor().label(['-','$v8$','+'], fontsize=10).length(5).scaley(0.7).left().dot()\n",
    "    elm.Line().to(v2.end)\n",
    "    v5 = elm.SourceV().label('$v9$').scale(0.7).at(r4.end).theta(38)\n",
    "    r5 = elm.Resistor().label(['+','$v10$','-'], fontsize=10).scaley(0.7).to(v3.end)"
   ]
  },
  {
   "cell_type": "markdown",
   "id": "42595ad2cf94bfa6",
   "metadata": {
    "collapsed": false
   },
   "source": [
    "### Solution of example three\n",
    "First, we consider the three closed paths: path 1, path 2 and path 3 . And then we write KVL equation for each one of them :  \n",
    "  \n",
    "![title](pictures/Figure_9.png)\n",
    "  \n",
    "- path 1:\n",
    ">-v1 + v2 + v3 - v4 = 0\n",
    "\n",
    "- path 2:\n",
    ">v4 - v3 + v5 - v6 - v7 - v8 = 0\n",
    "\n",
    "- path 3:\n",
    ">-v9 + v10 - v7 - v8 = 0\n",
    "  \n"
   ]
  },
  {
   "cell_type": "markdown",
   "id": "3de4a79163c8087b",
   "metadata": {
    "collapsed": false
   },
   "source": [
    "### Does polarity of voltages matter?\n",
    "Since the actual polarities of voltages across the components in a circuit are not always known beforehand, they are usually assigned arbitrarily. If the assigned polarities match the actual polarities in a component, then the answer will be a positive voltage. If the assigned polarities do not match the actual polarities, then the answer will be a negative voltage, as in the preceding example. It is not necessary, however, to go back and reassign polarities in such cases; the answer is left as a negative value."
   ]
  },
  {
   "cell_type": "markdown",
   "id": "1623b1e9a87661e0",
   "metadata": {
    "collapsed": false
   },
   "source": [
    "## Open Circuit\n",
    "A pair of terminals is said to be open circuited when there is an open gap between them, which represents an infinite resistance. Current through an open-circuited pair of terminals is zero (except when an infinite voltage is applied across the terminals). The voltage across an open circuit is, in general, not zero.\n"
   ]
  },
  {
   "cell_type": "markdown",
   "id": "6e6e1eb5a0f50e1f",
   "metadata": {
    "collapsed": false
   },
   "source": [
    "### Example 4\n",
    "Calculate the voltage across the open circuit in Figure below"
   ]
  },
  {
   "cell_type": "code",
   "execution_count": 13,
   "id": "b9d388d8c38992fd",
   "metadata": {
    "ExecuteTime": {
     "end_time": "2024-10-23T20:27:52.024810900Z",
     "start_time": "2024-10-23T20:27:52.014252300Z"
    },
    "collapsed": false
   },
   "outputs": [
    {
     "data": {
      "image/svg+xml": [
       "<svg xmlns=\"http://www.w3.org/2000/svg\" xml:lang=\"en\" height=\"156.11999999999998pt\" width=\"244.43pt\" viewBox=\"-57.93999999999999 -138.92 244.43 156.11999999999998\"><circle cx=\"3.306546357697853e-15\" cy=\"-53.99999999999999\" r=\"12.6\" style=\"stroke:black;fill:none;stroke-width:2.0;\" /><circle cx=\"36.000000000000014\" cy=\"-107.99999999999999\" r=\"12.6\" style=\"stroke:black;fill:none;stroke-width:2.0;\" /><circle cx=\"126.0\" cy=\"-0.0\" r=\"12.6\" style=\"stroke:black;fill:none;stroke-width:2.0;\" /><path d=\"M 0.0,-0.0 L 2.5350188742350208e-15,-41.4 L 2.5350188742350208e-15,-41.4 M 4.0780738411606855e-15,-66.6 L 4.0780738411606855e-15,-66.6 L 6.613092715395706e-15,-107.99999999999999\" style=\"stroke:black;fill:none;stroke-width:2.0;stroke-linecap:round;stroke-linejoin:round;\" /><path d=\"M 2.5200000000000027,-47.699999999999996 L -2.519999999999997,-47.699999999999996\" style=\"stroke:black;fill:none;stroke-width:2.0;stroke-linecap:round;stroke-linejoin:round;\" /><path d=\"M 3.538004602736703e-15,-57.779999999999994 L 3.846615596121836e-15,-62.81999999999999\" style=\"stroke:black;fill:none;stroke-width:2.0;stroke-linecap:round;stroke-linejoin:round;\" /><path d=\"M 2.520000000000003,-60.3 L -2.519999999999996,-60.3\" style=\"stroke:black;fill:none;stroke-width:2.0;stroke-linecap:round;stroke-linejoin:round;\" /><path d=\"M 6.613092715395706e-15,-107.99999999999999 L 23.40000000000001,-107.99999999999999 L 23.40000000000001,-107.99999999999999 M 48.60000000000001,-107.99999999999999 L 48.60000000000001,-107.99999999999999 L 72.00000000000001,-107.99999999999999\" style=\"stroke:black;fill:none;stroke-width:2.0;stroke-linecap:round;stroke-linejoin:round;\" /><path d=\"M 42.30000000000001,-110.51999999999998 L 42.30000000000001,-105.47999999999999\" style=\"stroke:black;fill:none;stroke-width:2.0;stroke-linecap:round;stroke-linejoin:round;\" /><path d=\"M 27.180000000000014,-107.99999999999999 L 32.220000000000006,-107.99999999999999\" style=\"stroke:black;fill:none;stroke-width:2.0;stroke-linecap:round;stroke-linejoin:round;\" /><path d=\"M 29.700000000000014,-110.51999999999998 L 29.700000000000014,-105.47999999999999\" style=\"stroke:black;fill:none;stroke-width:2.0;stroke-linecap:round;stroke-linejoin:round;\" /><path d=\"M 72.00000000000001,-107.99999999999999 L 108.00000000000001,-107.99999999999999 L 108.00000000000001,-114.29999999999998 L 144.0,-114.29999999999998 L 144.0,-101.69999999999999 L 108.00000000000001,-101.69999999999999 L 108.00000000000001,-107.99999999999999 M 144.0,-107.99999999999999 L 180.0,-107.99999999999999\" style=\"stroke:black;fill:none;stroke-width:2.0;stroke-linecap:round;stroke-linejoin:round;\" /><path d=\"M 0.0,-0.0 L 18.0,-0.0 L 18.0,-6.3 L 54.0,-6.3 L 54.0,6.3 L 18.0,6.3 L 18.0,-0.0 M 54.0,-0.0 L 72.0,-0.0\" style=\"stroke:black;fill:none;stroke-width:2.0;stroke-linecap:round;stroke-linejoin:round;\" /><path d=\"M 72.0,-0.0 L 113.39999999999999,-0.0 L 113.39999999999999,-0.0 M 138.6,-0.0 L 138.6,-0.0 L 180.0,-0.0\" style=\"stroke:black;fill:none;stroke-width:2.0;stroke-linecap:round;stroke-linejoin:round;\" /><path d=\"M 119.7,2.5199999999999996 L 119.7,-2.5199999999999996\" style=\"stroke:black;fill:none;stroke-width:2.0;stroke-linecap:round;stroke-linejoin:round;\" /><path d=\"M 129.77999999999997,-0.0 L 134.82,-0.0\" style=\"stroke:black;fill:none;stroke-width:2.0;stroke-linecap:round;stroke-linejoin:round;\" /><path d=\"M 132.29999999999998,2.5199999999999996 L 132.29999999999998,-2.5199999999999996\" style=\"stroke:black;fill:none;stroke-width:2.0;stroke-linecap:round;stroke-linejoin:round;\" /><text x=\"-15.119999999999996\" y=\"-59.599999999999994\" fill=\"black\" font-size=\"14.0\" font-family=\"sans\" text-anchor=\"end\"><tspan x=\"-15.119999999999996\" dy=\"14.0\">v1=8v</tspan></text><text x=\"36.000000000000014\" y=\"-134.31999999999996\" fill=\"black\" font-size=\"14.0\" font-family=\"sans\" text-anchor=\"middle\"><tspan x=\"36.000000000000014\" dy=\"14.0\">v2=14v</tspan></text><ellipse cx=\"180.0\" cy=\"-107.99999999999999\" rx=\"2.6999999999999997\" ry=\"1.89\" style=\"stroke:black;fill:white;stroke-width:2.0;\" /><text x=\"99.67500000000003\" y=\"-124.82\" fill=\"black\" font-size=\"10\" font-family=\"sans\" text-anchor=\"middle\"><tspan x=\"99.67500000000003\" dy=\"10\">-</tspan></text><text x=\"127.35000000000002\" y=\"-124.82\" fill=\"black\" font-size=\"10\" font-family=\"sans\" text-anchor=\"middle\"><tspan x=\"127.35000000000002\" dy=\"10\">v3=7v</tspan></text><text x=\"155.025\" y=\"-124.82\" fill=\"black\" font-size=\"10\" font-family=\"sans\" text-anchor=\"middle\"><tspan x=\"155.025\" dy=\"10\">+</tspan></text><text x=\"18.0\" y=\"-16.82\" fill=\"black\" font-size=\"10\" font-family=\"sans\" text-anchor=\"middle\"><tspan x=\"18.0\" dy=\"10\">+</tspan></text><text x=\"36.0\" y=\"-28.82\" fill=\"black\" font-size=\"10\" font-family=\"sans\" text-anchor=\"middle\"><tspan x=\"36.0\" dy=\"10\" /><tspan x=\"36.0\" dy=\"10\">v5=30v</tspan></text><text x=\"54.0\" y=\"-16.82\" fill=\"black\" font-size=\"10\" font-family=\"sans\" text-anchor=\"middle\"><tspan x=\"54.0\" dy=\"10\">-</tspan></text><circle cx=\"180.0\" cy=\"-0.0\" r=\"1.89\" style=\"stroke:black;fill:white;stroke-width:2.0;\" /><text x=\"126.94500000000001\" y=\"-26.32\" fill=\"black\" font-size=\"14.0\" font-family=\"sans\" text-anchor=\"middle\"><tspan x=\"126.94500000000001\" dy=\"14.0\">v4=19v</tspan></text></svg>"
      ],
      "text/plain": [
       "<svg xmlns=\"http://www.w3.org/2000/svg\" xml:lang=\"en\" height=\"156.11999999999998pt\" width=\"244.43pt\" viewBox=\"-57.93999999999999 -138.92 244.43 156.11999999999998\"><circle cx=\"3.306546357697853e-15\" cy=\"-53.99999999999999\" r=\"12.6\" style=\"stroke:black;fill:none;stroke-width:2.0;\" /><circle cx=\"36.000000000000014\" cy=\"-107.99999999999999\" r=\"12.6\" style=\"stroke:black;fill:none;stroke-width:2.0;\" /><circle cx=\"126.0\" cy=\"-0.0\" r=\"12.6\" style=\"stroke:black;fill:none;stroke-width:2.0;\" /><path d=\"M 0.0,-0.0 L 2.5350188742350208e-15,-41.4 L 2.5350188742350208e-15,-41.4 M 4.0780738411606855e-15,-66.6 L 4.0780738411606855e-15,-66.6 L 6.613092715395706e-15,-107.99999999999999\" style=\"stroke:black;fill:none;stroke-width:2.0;stroke-linecap:round;stroke-linejoin:round;\" /><path d=\"M 2.5200000000000027,-47.699999999999996 L -2.519999999999997,-47.699999999999996\" style=\"stroke:black;fill:none;stroke-width:2.0;stroke-linecap:round;stroke-linejoin:round;\" /><path d=\"M 3.538004602736703e-15,-57.779999999999994 L 3.846615596121836e-15,-62.81999999999999\" style=\"stroke:black;fill:none;stroke-width:2.0;stroke-linecap:round;stroke-linejoin:round;\" /><path d=\"M 2.520000000000003,-60.3 L -2.519999999999996,-60.3\" style=\"stroke:black;fill:none;stroke-width:2.0;stroke-linecap:round;stroke-linejoin:round;\" /><path d=\"M 6.613092715395706e-15,-107.99999999999999 L 23.40000000000001,-107.99999999999999 L 23.40000000000001,-107.99999999999999 M 48.60000000000001,-107.99999999999999 L 48.60000000000001,-107.99999999999999 L 72.00000000000001,-107.99999999999999\" style=\"stroke:black;fill:none;stroke-width:2.0;stroke-linecap:round;stroke-linejoin:round;\" /><path d=\"M 42.30000000000001,-110.51999999999998 L 42.30000000000001,-105.47999999999999\" style=\"stroke:black;fill:none;stroke-width:2.0;stroke-linecap:round;stroke-linejoin:round;\" /><path d=\"M 27.180000000000014,-107.99999999999999 L 32.220000000000006,-107.99999999999999\" style=\"stroke:black;fill:none;stroke-width:2.0;stroke-linecap:round;stroke-linejoin:round;\" /><path d=\"M 29.700000000000014,-110.51999999999998 L 29.700000000000014,-105.47999999999999\" style=\"stroke:black;fill:none;stroke-width:2.0;stroke-linecap:round;stroke-linejoin:round;\" /><path d=\"M 72.00000000000001,-107.99999999999999 L 108.00000000000001,-107.99999999999999 L 108.00000000000001,-114.29999999999998 L 144.0,-114.29999999999998 L 144.0,-101.69999999999999 L 108.00000000000001,-101.69999999999999 L 108.00000000000001,-107.99999999999999 M 144.0,-107.99999999999999 L 180.0,-107.99999999999999\" style=\"stroke:black;fill:none;stroke-width:2.0;stroke-linecap:round;stroke-linejoin:round;\" /><path d=\"M 0.0,-0.0 L 18.0,-0.0 L 18.0,-6.3 L 54.0,-6.3 L 54.0,6.3 L 18.0,6.3 L 18.0,-0.0 M 54.0,-0.0 L 72.0,-0.0\" style=\"stroke:black;fill:none;stroke-width:2.0;stroke-linecap:round;stroke-linejoin:round;\" /><path d=\"M 72.0,-0.0 L 113.39999999999999,-0.0 L 113.39999999999999,-0.0 M 138.6,-0.0 L 138.6,-0.0 L 180.0,-0.0\" style=\"stroke:black;fill:none;stroke-width:2.0;stroke-linecap:round;stroke-linejoin:round;\" /><path d=\"M 119.7,2.5199999999999996 L 119.7,-2.5199999999999996\" style=\"stroke:black;fill:none;stroke-width:2.0;stroke-linecap:round;stroke-linejoin:round;\" /><path d=\"M 129.77999999999997,-0.0 L 134.82,-0.0\" style=\"stroke:black;fill:none;stroke-width:2.0;stroke-linecap:round;stroke-linejoin:round;\" /><path d=\"M 132.29999999999998,2.5199999999999996 L 132.29999999999998,-2.5199999999999996\" style=\"stroke:black;fill:none;stroke-width:2.0;stroke-linecap:round;stroke-linejoin:round;\" /><text x=\"-15.119999999999996\" y=\"-59.599999999999994\" fill=\"black\" font-size=\"14.0\" font-family=\"sans\" text-anchor=\"end\"><tspan x=\"-15.119999999999996\" dy=\"14.0\">v1=8v</tspan></text><text x=\"36.000000000000014\" y=\"-134.31999999999996\" fill=\"black\" font-size=\"14.0\" font-family=\"sans\" text-anchor=\"middle\"><tspan x=\"36.000000000000014\" dy=\"14.0\">v2=14v</tspan></text><ellipse cx=\"180.0\" cy=\"-107.99999999999999\" rx=\"2.6999999999999997\" ry=\"1.89\" style=\"stroke:black;fill:white;stroke-width:2.0;\" /><text x=\"99.67500000000003\" y=\"-124.82\" fill=\"black\" font-size=\"10\" font-family=\"sans\" text-anchor=\"middle\"><tspan x=\"99.67500000000003\" dy=\"10\">-</tspan></text><text x=\"127.35000000000002\" y=\"-124.82\" fill=\"black\" font-size=\"10\" font-family=\"sans\" text-anchor=\"middle\"><tspan x=\"127.35000000000002\" dy=\"10\">v3=7v</tspan></text><text x=\"155.025\" y=\"-124.82\" fill=\"black\" font-size=\"10\" font-family=\"sans\" text-anchor=\"middle\"><tspan x=\"155.025\" dy=\"10\">+</tspan></text><text x=\"18.0\" y=\"-16.82\" fill=\"black\" font-size=\"10\" font-family=\"sans\" text-anchor=\"middle\"><tspan x=\"18.0\" dy=\"10\">+</tspan></text><text x=\"36.0\" y=\"-28.82\" fill=\"black\" font-size=\"10\" font-family=\"sans\" text-anchor=\"middle\"><tspan x=\"36.0\" dy=\"10\" /><tspan x=\"36.0\" dy=\"10\">v5=30v</tspan></text><text x=\"54.0\" y=\"-16.82\" fill=\"black\" font-size=\"10\" font-family=\"sans\" text-anchor=\"middle\"><tspan x=\"54.0\" dy=\"10\">-</tspan></text><circle cx=\"180.0\" cy=\"-0.0\" r=\"1.89\" style=\"stroke:black;fill:white;stroke-width:2.0;\" /><text x=\"126.94500000000001\" y=\"-26.32\" fill=\"black\" font-size=\"14.0\" font-family=\"sans\" text-anchor=\"middle\"><tspan x=\"126.94500000000001\" dy=\"14.0\">v4=19v</tspan></text></svg>"
      ]
     },
     "metadata": {},
     "output_type": "display_data"
    }
   ],
   "source": [
    "import schemdraw\n",
    "import schemdraw.elements as elm\n",
    "\n",
    "with schemdraw.Drawing() as d:\n",
    "    elm.style(elm.STYLE_IEC)\n",
    "    v1 = elm.SourceV().label('$v1=8v$').scale(0.7)\n",
    "    v2 = elm.SourceV().label('$v2=14v$').reverse().length(2).scale(0.7).right()\n",
    "    r1 = elm.Resistor().label(['-','$v3=7v$','+'], fontsize=10).scaley(0.7).dot(open=True)\n",
    "    r2 = elm.Resistor().label(['+','\\nv5=30v\\n','-'], fontsize=10).length(2).scaley(0.7).at(v1.start)\n",
    "    v3 = elm.SourceV().label('$v4=19v$').scale(0.7).right().dot(open=True)"
   ]
  },
  {
   "cell_type": "markdown",
   "id": "946514b98ac858b9",
   "metadata": {
    "collapsed": false
   },
   "source": [
    "### Solution of example four\n",
    "First, label the voltage across the open circuit as v and assign reference polarities (arbitrarily) as shown in Figure below. Next write a KVL equation around the closed path that includes the open circuit.  \n",
    "  \n",
    "![title](pictures/Figure_11.png)  \n",
    "  \n",
    ">$-v1 + v2 - v3 + v_{ac} + v4 - v5 = 0 $  \n",
    "\n",
    ">$v_{ac} = 12v$"
   ]
  },
  {
   "cell_type": "markdown",
   "id": "454c820a38999275",
   "metadata": {
    "collapsed": false
   },
   "source": [
    "### Example 5\n",
    "Calculate the voltage across open circuit shown in figure below"
   ]
  },
  {
   "cell_type": "code",
   "execution_count": 14,
   "id": "8f87e1147741d072",
   "metadata": {
    "ExecuteTime": {
     "end_time": "2024-10-23T20:27:52.037939100Z",
     "start_time": "2024-10-23T20:27:52.026089Z"
    },
    "collapsed": false
   },
   "outputs": [
    {
     "data": {
      "image/svg+xml": [
       "<svg xmlns=\"http://www.w3.org/2000/svg\" xml:lang=\"en\" height=\"158.61999999999998pt\" width=\"328.34000000000003pt\" viewBox=\"-65.92 -141.42 328.34000000000003 158.61999999999998\"><circle cx=\"3.306546357697853e-15\" cy=\"-53.99999999999999\" r=\"12.6\" style=\"stroke:black;fill:none;stroke-width:2.0;\" /><circle cx=\"162.0\" cy=\"-0.0\" r=\"12.6\" style=\"stroke:black;fill:none;stroke-width:2.0;\" /><circle cx=\"180.0\" cy=\"-108.0\" r=\"12.6\" style=\"stroke:black;fill:none;stroke-width:2.0;\" /><path d=\"M 0.0,-0.0 L 2.5350188742350208e-15,-41.4 L 2.5350188742350208e-15,-41.4 M 4.0780738411606855e-15,-66.6 L 4.0780738411606855e-15,-66.6 L 6.613092715395706e-15,-107.99999999999999\" style=\"stroke:black;fill:none;stroke-width:2.0;stroke-linecap:round;stroke-linejoin:round;\" /><path d=\"M 2.5200000000000027,-47.699999999999996 L -2.519999999999997,-47.699999999999996\" style=\"stroke:black;fill:none;stroke-width:2.0;stroke-linecap:round;stroke-linejoin:round;\" /><path d=\"M 3.538004602736703e-15,-57.779999999999994 L 3.846615596121836e-15,-62.81999999999999\" style=\"stroke:black;fill:none;stroke-width:2.0;stroke-linecap:round;stroke-linejoin:round;\" /><path d=\"M 2.520000000000003,-60.3 L -2.519999999999996,-60.3\" style=\"stroke:black;fill:none;stroke-width:2.0;stroke-linecap:round;stroke-linejoin:round;\" /><path d=\"M 6.613092715395706e-15,-107.99999999999999 L 18.000000000000007,-107.99999999999999 L 18.000000000000007,-114.29999999999998 L 54.00000000000001,-114.29999999999998 L 54.00000000000001,-101.69999999999999 L 18.000000000000007,-101.69999999999999 L 18.000000000000007,-107.99999999999999 M 54.00000000000001,-107.99999999999999 L 72.0,-107.99999999999999\" style=\"stroke:black;fill:none;stroke-width:2.0;stroke-linecap:round;stroke-linejoin:round;\" /><path d=\"M 0.0,-0.0 L 36.0,-0.0 L 36.0,-6.3 L 72.0,-6.3 L 72.0,6.3 L 36.0,6.3 L 36.0,-0.0 M 72.0,-0.0 L 108.0,-0.0\" style=\"stroke:black;fill:none;stroke-width:2.0;stroke-linecap:round;stroke-linejoin:round;\" /><path d=\"M 108.0,-0.0 L 149.4,-0.0 L 149.4,-0.0 M 174.6,-0.0 L 174.6,-0.0 L 216.0,-0.0\" style=\"stroke:black;fill:none;stroke-width:2.0;stroke-linecap:round;stroke-linejoin:round;\" /><path d=\"M 168.29999999999998,-2.5199999999999996 L 168.29999999999998,2.5199999999999996\" style=\"stroke:black;fill:none;stroke-width:2.0;stroke-linecap:round;stroke-linejoin:round;\" /><path d=\"M 153.18,-0.0 L 158.21999999999997,-0.0\" style=\"stroke:black;fill:none;stroke-width:2.0;stroke-linecap:round;stroke-linejoin:round;\" /><path d=\"M 155.70000000000002,-2.5199999999999996 L 155.70000000000002,2.5199999999999996\" style=\"stroke:black;fill:none;stroke-width:2.0;stroke-linecap:round;stroke-linejoin:round;\" /><path d=\"M 216.0,-0.0 L 216.0,-36.0 L 209.70000000000002,-36.0 L 209.70000000000002,-72.0 L 222.29999999999998,-72.0 L 222.29999999999998,-36.0 L 216.0,-36.0 M 216.0,-72.0 L 216.0,-108.0\" style=\"stroke:black;fill:none;stroke-width:2.0;stroke-linecap:round;stroke-linejoin:round;\" /><path d=\"M 216.0,-108.0 L 192.6,-108.0 L 192.6,-108.0 M 167.4,-108.0 L 167.4,-108.0 L 143.99999999999997,-108.00000000000001\" style=\"stroke:black;fill:none;stroke-width:2.0;stroke-linecap:round;stroke-linejoin:round;\" /><path d=\"M 173.70000000000002,-105.48 L 173.70000000000002,-110.52000000000001\" style=\"stroke:black;fill:none;stroke-width:2.0;stroke-linecap:round;stroke-linejoin:round;\" /><path d=\"M 188.82,-108.0 L 183.78000000000003,-108.0\" style=\"stroke:black;fill:none;stroke-width:2.0;stroke-linecap:round;stroke-linejoin:round;\" /><path d=\"M 186.29999999999998,-105.48 L 186.29999999999998,-110.52000000000001\" style=\"stroke:black;fill:none;stroke-width:2.0;stroke-linecap:round;stroke-linejoin:round;\" /><text x=\"-15.119999999999996\" y=\"-59.599999999999994\" fill=\"black\" font-size=\"14.0\" font-family=\"sans\" text-anchor=\"end\"><tspan x=\"-15.119999999999996\" dy=\"14.0\">v1=45v</tspan></text><text x=\"18.000000000000007\" y=\"-124.82\" fill=\"black\" font-size=\"10\" font-family=\"sans\" text-anchor=\"middle\"><tspan x=\"18.000000000000007\" dy=\"10\">+</tspan></text><text x=\"36.00000000000001\" y=\"-136.82\" fill=\"black\" font-size=\"10\" font-family=\"sans\" text-anchor=\"middle\"><tspan x=\"36.00000000000001\" dy=\"10\" /><tspan x=\"36.00000000000001\" dy=\"10\">v2=15v</tspan></text><text x=\"54.00000000000001\" y=\"-124.82\" fill=\"black\" font-size=\"10\" font-family=\"sans\" text-anchor=\"middle\"><tspan x=\"54.00000000000001\" dy=\"10\">-</tspan></text><text x=\"27.0\" y=\"-16.82\" fill=\"black\" font-size=\"10\" font-family=\"sans\" text-anchor=\"middle\"><tspan x=\"27.0\" dy=\"10\">+</tspan></text><text x=\"54.0\" y=\"-28.82\" fill=\"black\" font-size=\"10\" font-family=\"sans\" text-anchor=\"middle\"><tspan x=\"54.0\" dy=\"10\" /><tspan x=\"54.0\" dy=\"10\">v7=30v</tspan></text><text x=\"81.0\" y=\"-16.82\" fill=\"black\" font-size=\"10\" font-family=\"sans\" text-anchor=\"middle\"><tspan x=\"81.0\" dy=\"10\">-</tspan></text><text x=\"162.0\" y=\"-26.32\" fill=\"black\" font-size=\"14.0\" font-family=\"sans\" text-anchor=\"middle\"><tspan x=\"162.0\" dy=\"14.0\">v6=90v</tspan></text><text x=\"224.82\" y=\"-31.0\" fill=\"black\" font-size=\"10\" font-family=\"sans\" text-anchor=\"start\"><tspan x=\"224.82\" dy=\"10\">+</tspan></text><text x=\"224.82\" y=\"-58.0\" fill=\"black\" font-size=\"10\" font-family=\"sans\" text-anchor=\"start\"><tspan x=\"224.82\" dy=\"10\">v5=60v</tspan></text><text x=\"224.82\" y=\"-85.0\" fill=\"black\" font-size=\"10\" font-family=\"sans\" text-anchor=\"start\"><tspan x=\"224.82\" dy=\"10\">-</tspan></text><text x=\"180.0\" y=\"-134.32\" fill=\"black\" font-size=\"14.0\" font-family=\"sans\" text-anchor=\"middle\"><tspan x=\"180.0\" dy=\"14.0\">v4=75v</tspan></text><circle cx=\"72.0\" cy=\"-107.99999999999999\" r=\"2.6999999999999997\" style=\"stroke:black;fill:white;stroke-width:2.0;\" /><text x=\"71.10000000000001\" y=\"-125.49999999999999\" fill=\"black\" font-size=\"14.0\" font-family=\"sans\" text-anchor=\"middle\"><tspan x=\"71.10000000000001\" dy=\"14.0\">+</tspan></text><text x=\"72.89999999999999\" y=\"-125.49999999999999\" fill=\"black\" font-size=\"14.0\" font-family=\"sans\" text-anchor=\"middle\"><tspan x=\"72.89999999999999\" dy=\"14.0\">                V3</tspan></text><circle cx=\"143.99999999999997\" cy=\"-108.00000000000001\" r=\"2.6999999999999997\" style=\"stroke:black;fill:white;stroke-width:2.0;\" /><text x=\"143.99999999999997\" y=\"-125.50000000000001\" fill=\"black\" font-size=\"14.0\" font-family=\"sans\" text-anchor=\"middle\"><tspan x=\"143.99999999999997\" dy=\"14.0\">-</tspan></text></svg>"
      ],
      "text/plain": [
       "<svg xmlns=\"http://www.w3.org/2000/svg\" xml:lang=\"en\" height=\"158.61999999999998pt\" width=\"328.34000000000003pt\" viewBox=\"-65.92 -141.42 328.34000000000003 158.61999999999998\"><circle cx=\"3.306546357697853e-15\" cy=\"-53.99999999999999\" r=\"12.6\" style=\"stroke:black;fill:none;stroke-width:2.0;\" /><circle cx=\"162.0\" cy=\"-0.0\" r=\"12.6\" style=\"stroke:black;fill:none;stroke-width:2.0;\" /><circle cx=\"180.0\" cy=\"-108.0\" r=\"12.6\" style=\"stroke:black;fill:none;stroke-width:2.0;\" /><path d=\"M 0.0,-0.0 L 2.5350188742350208e-15,-41.4 L 2.5350188742350208e-15,-41.4 M 4.0780738411606855e-15,-66.6 L 4.0780738411606855e-15,-66.6 L 6.613092715395706e-15,-107.99999999999999\" style=\"stroke:black;fill:none;stroke-width:2.0;stroke-linecap:round;stroke-linejoin:round;\" /><path d=\"M 2.5200000000000027,-47.699999999999996 L -2.519999999999997,-47.699999999999996\" style=\"stroke:black;fill:none;stroke-width:2.0;stroke-linecap:round;stroke-linejoin:round;\" /><path d=\"M 3.538004602736703e-15,-57.779999999999994 L 3.846615596121836e-15,-62.81999999999999\" style=\"stroke:black;fill:none;stroke-width:2.0;stroke-linecap:round;stroke-linejoin:round;\" /><path d=\"M 2.520000000000003,-60.3 L -2.519999999999996,-60.3\" style=\"stroke:black;fill:none;stroke-width:2.0;stroke-linecap:round;stroke-linejoin:round;\" /><path d=\"M 6.613092715395706e-15,-107.99999999999999 L 18.000000000000007,-107.99999999999999 L 18.000000000000007,-114.29999999999998 L 54.00000000000001,-114.29999999999998 L 54.00000000000001,-101.69999999999999 L 18.000000000000007,-101.69999999999999 L 18.000000000000007,-107.99999999999999 M 54.00000000000001,-107.99999999999999 L 72.0,-107.99999999999999\" style=\"stroke:black;fill:none;stroke-width:2.0;stroke-linecap:round;stroke-linejoin:round;\" /><path d=\"M 0.0,-0.0 L 36.0,-0.0 L 36.0,-6.3 L 72.0,-6.3 L 72.0,6.3 L 36.0,6.3 L 36.0,-0.0 M 72.0,-0.0 L 108.0,-0.0\" style=\"stroke:black;fill:none;stroke-width:2.0;stroke-linecap:round;stroke-linejoin:round;\" /><path d=\"M 108.0,-0.0 L 149.4,-0.0 L 149.4,-0.0 M 174.6,-0.0 L 174.6,-0.0 L 216.0,-0.0\" style=\"stroke:black;fill:none;stroke-width:2.0;stroke-linecap:round;stroke-linejoin:round;\" /><path d=\"M 168.29999999999998,-2.5199999999999996 L 168.29999999999998,2.5199999999999996\" style=\"stroke:black;fill:none;stroke-width:2.0;stroke-linecap:round;stroke-linejoin:round;\" /><path d=\"M 153.18,-0.0 L 158.21999999999997,-0.0\" style=\"stroke:black;fill:none;stroke-width:2.0;stroke-linecap:round;stroke-linejoin:round;\" /><path d=\"M 155.70000000000002,-2.5199999999999996 L 155.70000000000002,2.5199999999999996\" style=\"stroke:black;fill:none;stroke-width:2.0;stroke-linecap:round;stroke-linejoin:round;\" /><path d=\"M 216.0,-0.0 L 216.0,-36.0 L 209.70000000000002,-36.0 L 209.70000000000002,-72.0 L 222.29999999999998,-72.0 L 222.29999999999998,-36.0 L 216.0,-36.0 M 216.0,-72.0 L 216.0,-108.0\" style=\"stroke:black;fill:none;stroke-width:2.0;stroke-linecap:round;stroke-linejoin:round;\" /><path d=\"M 216.0,-108.0 L 192.6,-108.0 L 192.6,-108.0 M 167.4,-108.0 L 167.4,-108.0 L 143.99999999999997,-108.00000000000001\" style=\"stroke:black;fill:none;stroke-width:2.0;stroke-linecap:round;stroke-linejoin:round;\" /><path d=\"M 173.70000000000002,-105.48 L 173.70000000000002,-110.52000000000001\" style=\"stroke:black;fill:none;stroke-width:2.0;stroke-linecap:round;stroke-linejoin:round;\" /><path d=\"M 188.82,-108.0 L 183.78000000000003,-108.0\" style=\"stroke:black;fill:none;stroke-width:2.0;stroke-linecap:round;stroke-linejoin:round;\" /><path d=\"M 186.29999999999998,-105.48 L 186.29999999999998,-110.52000000000001\" style=\"stroke:black;fill:none;stroke-width:2.0;stroke-linecap:round;stroke-linejoin:round;\" /><text x=\"-15.119999999999996\" y=\"-59.599999999999994\" fill=\"black\" font-size=\"14.0\" font-family=\"sans\" text-anchor=\"end\"><tspan x=\"-15.119999999999996\" dy=\"14.0\">v1=45v</tspan></text><text x=\"18.000000000000007\" y=\"-124.82\" fill=\"black\" font-size=\"10\" font-family=\"sans\" text-anchor=\"middle\"><tspan x=\"18.000000000000007\" dy=\"10\">+</tspan></text><text x=\"36.00000000000001\" y=\"-136.82\" fill=\"black\" font-size=\"10\" font-family=\"sans\" text-anchor=\"middle\"><tspan x=\"36.00000000000001\" dy=\"10\" /><tspan x=\"36.00000000000001\" dy=\"10\">v2=15v</tspan></text><text x=\"54.00000000000001\" y=\"-124.82\" fill=\"black\" font-size=\"10\" font-family=\"sans\" text-anchor=\"middle\"><tspan x=\"54.00000000000001\" dy=\"10\">-</tspan></text><text x=\"27.0\" y=\"-16.82\" fill=\"black\" font-size=\"10\" font-family=\"sans\" text-anchor=\"middle\"><tspan x=\"27.0\" dy=\"10\">+</tspan></text><text x=\"54.0\" y=\"-28.82\" fill=\"black\" font-size=\"10\" font-family=\"sans\" text-anchor=\"middle\"><tspan x=\"54.0\" dy=\"10\" /><tspan x=\"54.0\" dy=\"10\">v7=30v</tspan></text><text x=\"81.0\" y=\"-16.82\" fill=\"black\" font-size=\"10\" font-family=\"sans\" text-anchor=\"middle\"><tspan x=\"81.0\" dy=\"10\">-</tspan></text><text x=\"162.0\" y=\"-26.32\" fill=\"black\" font-size=\"14.0\" font-family=\"sans\" text-anchor=\"middle\"><tspan x=\"162.0\" dy=\"14.0\">v6=90v</tspan></text><text x=\"224.82\" y=\"-31.0\" fill=\"black\" font-size=\"10\" font-family=\"sans\" text-anchor=\"start\"><tspan x=\"224.82\" dy=\"10\">+</tspan></text><text x=\"224.82\" y=\"-58.0\" fill=\"black\" font-size=\"10\" font-family=\"sans\" text-anchor=\"start\"><tspan x=\"224.82\" dy=\"10\">v5=60v</tspan></text><text x=\"224.82\" y=\"-85.0\" fill=\"black\" font-size=\"10\" font-family=\"sans\" text-anchor=\"start\"><tspan x=\"224.82\" dy=\"10\">-</tspan></text><text x=\"180.0\" y=\"-134.32\" fill=\"black\" font-size=\"14.0\" font-family=\"sans\" text-anchor=\"middle\"><tspan x=\"180.0\" dy=\"14.0\">v4=75v</tspan></text><circle cx=\"72.0\" cy=\"-107.99999999999999\" r=\"2.6999999999999997\" style=\"stroke:black;fill:white;stroke-width:2.0;\" /><text x=\"71.10000000000001\" y=\"-125.49999999999999\" fill=\"black\" font-size=\"14.0\" font-family=\"sans\" text-anchor=\"middle\"><tspan x=\"71.10000000000001\" dy=\"14.0\">+</tspan></text><text x=\"72.89999999999999\" y=\"-125.49999999999999\" fill=\"black\" font-size=\"14.0\" font-family=\"sans\" text-anchor=\"middle\"><tspan x=\"72.89999999999999\" dy=\"14.0\">                V3</tspan></text><circle cx=\"143.99999999999997\" cy=\"-108.00000000000001\" r=\"2.6999999999999997\" style=\"stroke:black;fill:white;stroke-width:2.0;\" /><text x=\"143.99999999999997\" y=\"-125.50000000000001\" fill=\"black\" font-size=\"14.0\" font-family=\"sans\" text-anchor=\"middle\"><tspan x=\"143.99999999999997\" dy=\"14.0\">-</tspan></text></svg>"
      ]
     },
     "metadata": {},
     "output_type": "display_data"
    }
   ],
   "source": [
    "import schemdraw\n",
    "import schemdraw.elements as elm\n",
    "\n",
    "with schemdraw.Drawing() as d:\n",
    "    elm.style(elm.STYLE_IEC)\n",
    "    v1 = elm.SourceV().label('v1=45v').scale(0.7)\n",
    "    r1 = elm.Resistor().label(['+','\\nv2=15v\\n','-'], fontsize=10).length(2).scaley(0.7).right()\n",
    "    elm.Dot(open=True).label(['+', '                V3'])\n",
    "    r3 = elm.Resistor().label(['+','\\nv7=30v\\n','-'], fontsize=10).scaley(0.7).at(v1.start).right() \n",
    "    v3 = elm.SourceV().label('v6=90v').scale(0.7).right().reverse()\n",
    "    r2 = elm.Resistor().label(['+','$v5=60v$','-'], fontsize=10, loc='bottom').scaley(0.7).up() \n",
    "    v2 = elm.SourceV().label('v4=75v').length(2).scale(0.7).left().reverse()\n",
    "    elm.Dot(open=True).label('-')"
   ]
  },
  {
   "cell_type": "markdown",
   "id": "c7105d547c5bd05",
   "metadata": {
    "collapsed": false
   },
   "source": [
    "### Solution of example five\n",
    "By writing the kvl equation clockwise, we can get the required voltage :  \n",
    "  \n",
    ">-v1 + v2 + v3 - v4 - v5 - v6 - v7 = 0\n",
    "\n",
    ">-45 + 15 + v3 - 75 - 60 - 90 - 30 = 0\n",
    "\n",
    ">v3 = 285v    \n",
    "  \n"
   ]
  },
  {
   "cell_type": "markdown",
   "id": "6b6a7ac3f864e8af",
   "metadata": {
    "collapsed": false
   },
   "source": [
    "## Kirchhoff's Current Law (KCL)\n",
    "## Current\n",
    "The current present in a discrete path, such as a metallic wire, has both a numerical value and a direction associated with it; it is a measure of the rate at which charge flows through a circuit in a specified direction  \n",
    "  \n",
    "Current is symbolized by I or i, and so  \n",
    "  \n",
    "$$ I = \\frac{\\Delta Q}{\\Delta T} $$ or $$  i = \\frac{dq}{dt} $$  \n",
    "  \n",
    "The charge transferred between time t0 and t may be expressed as a definite integral  \n",
    "  \n",
    "$$ \\int_{q(t_0)}^{q(t)}  \\, dq = \\int_{t_0}^{t} i \\, dt $$  \n",
    "  \n",
    "$$ q(t) = \\int_{t_0}^{t} i \\, dt + q(t_0) $$\n"
   ]
  },
  {
   "cell_type": "markdown",
   "id": "9848656dd1abb137",
   "metadata": {
    "collapsed": false
   },
   "source": [
    "## Conservation of Charge\n",
    "The Conservation of Charge is a fundamental principle in physics and electrical engineering stating that the total electric charge in an isolated system remains constant over time. This law implies that charge can neither be created nor destroyed; it can only be transferred from one part of a system to another.  \n",
    "  \n",
    "This law states that throughout any process occurring within a system, the algebraic sum of the electric charges within the system does not change . Since currents involve flow of changes , Kirchhoff's current low restates the charge conservation principle in terms of currents in a circuit."
   ]
  },
  {
   "cell_type": "markdown",
   "id": "1d9272cb352d8c4a",
   "metadata": {
    "collapsed": false
   },
   "source": [
    "## statement of KCL\n",
    "__The algebraic sum of the currents at a node in an electric circuit is zero__  \n",
    "in other words  \n",
    "__The total current entering a circuits junction is exactly equal to the total current leaving the same junction__  \n",
    "  \n",
    "- The key terms in the statement of KCL are __node__ and __algebraic sum of the currents__\n"
   ]
  },
  {
   "cell_type": "markdown",
   "id": "bd708951b498b56b",
   "metadata": {
    "collapsed": false
   },
   "source": [
    "### Node\n",
    "The terminals of a branch in a circuit are called nodes, as shown in Figure below, and KCL applies to any node in a circuit. When many branches meet at a common node, a single node is often shown spread out in order to avoid clutter in the circuit diagram.  \n",
    "  \n",
    "![title](pictures/Figure_13.png)\n"
   ]
  },
  {
   "cell_type": "markdown",
   "id": "7a5749de27de234f",
   "metadata": {
    "collapsed": false
   },
   "source": [
    "### Algebraic sum of the currents\n",
    "Consider the portion of a circuit shown in Figure below, with currents assigned to the branches, where some currents are entering and others are leaving the node. A distinction must be made between them by using appropriate algebraic signs and this leads to the “algebraic sum” referred to in the statement of KCL.  \n",
    "  \n",
    "![title](pictures/Figure_14.png)\n"
   ]
  },
  {
   "cell_type": "markdown",
   "id": "bc7c88ea2504f9a7",
   "metadata": {
    "collapsed": false
   },
   "source": [
    "## Writing KCL equation\n",
    "The following sign convention will be used in writing KCL equations.  \n",
    "  \n",
    "- A current leaving a node is written with a positive sign  \n",
    "\n",
    "- A current entering a node is written with a negative sign  \n",
    "  \n",
    "The algebraic sum of the currents at a node, obtained by using the above convention, is then equated to zero. "
   ]
  },
  {
   "cell_type": "markdown",
   "id": "592d2a4257be3386",
   "metadata": {
    "collapsed": false
   },
   "source": [
    "### Example 6\n",
    "Write a KCL equation for each node in the circuit of Figure below  \n",
    "  \n",
    "![title](pictures/Figure_15.png)\n"
   ]
  },
  {
   "cell_type": "markdown",
   "id": "e35f712790af8e23",
   "metadata": {
    "collapsed": false
   },
   "source": [
    "### Solution of example six\n",
    "Node 1:\n",
    ">$i_2 + i_1 + i_3 = 0$\n",
    "\n",
    "Node 2:\n",
    ">$-i_1 + i_4 - i_5 = 0$\n",
    "\n",
    "Node 3:\n",
    ">$i_5 - i_6 - i_3 = 0$\n",
    "\n",
    "Node 4:\n",
    ">$-i_2 - i_4 + i_6 = 0$"
   ]
  },
  {
   "cell_type": "markdown",
   "id": "4c9b95a3c9e2738",
   "metadata": {
    "collapsed": false
   },
   "source": [
    "### Example 7\n",
    "Calculate the current through the short circuit points A and B in the circuit of Figure below "
   ]
  },
  {
   "cell_type": "code",
   "execution_count": 15,
   "id": "163a516c3cd5a351",
   "metadata": {
    "ExecuteTime": {
     "end_time": "2024-10-23T20:27:52.072681600Z",
     "start_time": "2024-10-23T20:27:52.039939300Z"
    },
    "collapsed": false
   },
   "outputs": [
    {
     "data": {
      "image/svg+xml": [
       "<svg xmlns=\"http://www.w3.org/2000/svg\" xml:lang=\"en\" height=\"173.39999999999998pt\" width=\"369.20000000000005pt\" viewBox=\"-4.600000000000032 -42.80000000000001 369.20000000000005 173.39999999999998\"><circle cx=\"107.99999999999997\" cy=\"107.99999999999999\" r=\"18.0\" style=\"stroke:black;fill:none;stroke-width:2.0;\" /><circle cx=\"252.0\" cy=\"54.0\" r=\"18.0\" style=\"stroke:black;fill:none;stroke-width:2.0;\" /><path d=\"M 0.0,-0.0 L 36.0,-0.0 L 72.0,-0.0\" style=\"stroke:black;fill:none;stroke-width:2.0;stroke-linecap:round;stroke-linejoin:round;\" /><path d=\"M 72.0,-0.0 L 104.39999999999999,-0.0 L 104.39999999999999,-9.0 L 147.6,-9.0 L 147.6,9.0 L 104.39999999999999,9.0 L 104.39999999999999,-0.0 M 147.6,-0.0 L 180.0,-0.0\" style=\"stroke:black;fill:none;stroke-width:2.0;stroke-linecap:round;stroke-linejoin:round;\" /><path d=\"M 90.0,-23.400000000000002 L 151.20000000000002,-23.400000000000002\" style=\"stroke:black;fill:none;stroke-width:2.0;stroke-linecap:round;stroke-linejoin:round;\" /><path d=\"M 160.0 -23.400000000000002 L 151.2 -19.8 L 151.2 -27.000000000000004 Z\" style=\"stroke:black;fill:black;stroke-linecap:butt;stroke-linejoin:miter;\" /><path d=\"M 180.0,-0.0 L 180.0,54.0 L 179.99999999999997,108.0\" style=\"stroke:black;fill:none;stroke-width:2.0;stroke-linecap:round;stroke-linejoin:round;\" /><path d=\"M 194.4,36.0 L 194.4,61.199999999999996\" style=\"stroke:black;fill:none;stroke-width:2.0;stroke-linecap:round;stroke-linejoin:round;\" /><path d=\"M 194.4 70.0 L 190.8 61.199999999999996 L 198.0 61.199999999999996 Z\" style=\"stroke:black;fill:black;stroke-linecap:butt;stroke-linejoin:miter;\" /><path d=\"M 179.99999999999997,108.0 L 230.39999999999998,108.0 L 230.39999999999998,99.0 L 273.59999999999997,99.0 L 273.59999999999997,117.0 L 230.39999999999998,117.0 L 230.39999999999998,108.0 M 273.59999999999997,108.0 L 324.0,108.0\" style=\"stroke:black;fill:none;stroke-width:2.0;stroke-linecap:round;stroke-linejoin:round;\" /><path d=\"M 324.0,108.0 L 342.0,108.0 L 360.0,108.0\" style=\"stroke:black;fill:none;stroke-width:2.0;stroke-linecap:round;stroke-linejoin:round;\" /><path d=\"M 179.99999999999997,108.0 L 125.99999999999997,108.0 L 125.99999999999997,108.0 M 89.99999999999997,107.99999999999999 L 89.99999999999997,107.99999999999999 L 35.99999999999997,107.99999999999999\" style=\"stroke:black;fill:none;stroke-width:2.0;stroke-linecap:round;stroke-linejoin:round;\" /><path d=\"M 116.99999999999997,108.0 L 107.99999999999997,108.0\" style=\"stroke:black;fill:none;stroke-width:2.0;stroke-linecap:round;stroke-linejoin:round;\" /><path d=\"M 100.99999999999997 107.99999999999999 L 107.99999999999997 105.3 L 107.99999999999997 110.69999999999999 Z\" style=\"stroke:black;fill:black;stroke-linecap:butt;stroke-linejoin:miter;\" /><path d=\"M 35.99999999999997,107.99999999999999 L 17.999999999999968,107.99999999999999 L -3.197442310920451e-14,107.99999999999999\" style=\"stroke:black;fill:none;stroke-width:2.0;stroke-linecap:round;stroke-linejoin:round;\" /><path d=\"M 180.0,-0.0 L 125.27999999999999,41.040000000000006 L 130.67999999999998,48.24 L 96.11999999999998,74.16000000000003 L 85.32,59.76000000000001 L 119.87999999999998,33.84 L 125.27999999999999,41.040000000000006 M 90.71999999999998,66.96000000000001 L 35.99999999999997,108.00000000000001\" style=\"stroke:black;fill:none;stroke-width:2.0;stroke-linecap:round;stroke-linejoin:round;\" /><path d=\"M 108.35999999999999,24.480000000000004 L 88.19999999999997,39.60000000000001\" style=\"stroke:black;fill:none;stroke-width:2.0;stroke-linecap:round;stroke-linejoin:round;\" /><path d=\"M 81.15999999999998 44.88000000000001 L 86.03999999999999 36.72000000000001 L 90.36 42.48000000000001 Z\" style=\"stroke:black;fill:black;stroke-linecap:butt;stroke-linejoin:miter;\" /><path d=\"M 180.0,-0.0 L 237.6,43.199999999999996 L 237.6,43.199999999999996 M 266.40000000000003,64.8 L 266.40000000000003,64.8 L 324.0,108.0\" style=\"stroke:black;fill:none;stroke-width:2.0;stroke-linecap:round;stroke-linejoin:round;\" /><path d=\"M 252.0,53.99999999999999 L 259.2,59.4\" style=\"stroke:black;fill:none;stroke-width:2.0;stroke-linecap:round;stroke-linejoin:round;\" /><path d=\"M 246.39999999999998 49.8 L 253.61999999999998 51.83999999999999 L 250.37999999999997 56.15999999999999 Z\" style=\"stroke:black;fill:black;stroke-linecap:butt;stroke-linejoin:miter;\" /><path d=\"M 180.0,-0.0 L 230.4,-0.0 L 230.4,-9.0 L 273.59999999999997,-9.0 L 273.59999999999997,9.0 L 230.4,9.0 L 230.4,-0.0 M 273.59999999999997,-0.0 L 324.0,-0.0\" style=\"stroke:black;fill:none;stroke-width:2.0;stroke-linecap:round;stroke-linejoin:round;\" /><path d=\"M 217.62,-23.400000000000002 L 278.82,-23.400000000000002\" style=\"stroke:black;fill:none;stroke-width:2.0;stroke-linecap:round;stroke-linejoin:round;\" /><path d=\"M 287.62 -23.400000000000002 L 278.82000000000005 -19.8 L 278.82000000000005 -27.000000000000004 Z\" style=\"stroke:black;fill:black;stroke-linecap:butt;stroke-linejoin:miter;\" /><path d=\"M 324.0,-0.0 L 342.0,-0.0 L 360.0,-0.0\" style=\"stroke:black;fill:none;stroke-width:2.0;stroke-linecap:round;stroke-linejoin:round;\" /><text x=\"126.0\" y=\"-38.2\" fill=\"black\" font-size=\"14.0\" font-family=\"sans\" text-anchor=\"middle\"><tspan x=\"126.0\" dy=\"14.0\">i₁=7.5A</tspan></text><text x=\"198.0\" y=\"48.4\" fill=\"black\" font-size=\"14.0\" font-family=\"sans\" text-anchor=\"start\"><tspan x=\"198.0\" dy=\"14.0\">i<tspan baseline-shift=\"sub\" font-size=\"smaller\">sc</tspan></tspan></text><ellipse cx=\"324.0\" cy=\"108.0\" rx=\"3.2399999999999998\" ry=\"2.6999999999999997\" style=\"stroke:black;fill:black;stroke-width:2.0;\" /><circle cx=\"35.99999999999997\" cy=\"107.99999999999999\" r=\"2.6999999999999997\" style=\"stroke:black;fill:black;stroke-width:2.0;\" /><text x=\"91.8\" y=\"21.200000000000003\" fill=\"black\" font-size=\"14.0\" font-family=\"sans\" text-anchor=\"end\"><tspan x=\"91.8\" dy=\"14.0\">i₄=16A</tspan></text><text x=\"264.96\" y=\"25.519999999999996\" fill=\"black\" font-size=\"14.0\" font-family=\"sans\" text-anchor=\"start\"><tspan x=\"264.96\" dy=\"14.0\">i₃=2A</tspan></text><ellipse cx=\"324.0\" cy=\"-0.0\" rx=\"3.2399999999999998\" ry=\"2.6999999999999997\" style=\"stroke:black;fill:black;stroke-width:2.0;\" /><text x=\"253.62\" y=\"-38.2\" fill=\"black\" font-size=\"14.0\" font-family=\"sans\" text-anchor=\"middle\"><tspan x=\"253.62\" dy=\"14.0\">i₂=4A</tspan></text><circle cx=\"180.0\" cy=\"-0.0\" r=\"2.6999999999999997\" style=\"stroke:black;fill:black;stroke-width:2.0;\" /><text x=\"180.0\" y=\"-17.5\" fill=\"black\" font-size=\"14.0\" font-family=\"sans\" text-anchor=\"middle\"><tspan x=\"180.0\" dy=\"14.0\">A</tspan></text><circle cx=\"179.99999999999997\" cy=\"108.0\" r=\"2.6999999999999997\" style=\"stroke:black;fill:black;stroke-width:2.0;\" /><text x=\"179.99999999999997\" y=\"114.3\" fill=\"black\" font-size=\"14.0\" font-family=\"sans\" text-anchor=\"middle\"><tspan x=\"179.99999999999997\" dy=\"14.0\">B</tspan></text></svg>"
      ],
      "text/plain": [
       "<svg xmlns=\"http://www.w3.org/2000/svg\" xml:lang=\"en\" height=\"173.39999999999998pt\" width=\"369.20000000000005pt\" viewBox=\"-4.600000000000032 -42.80000000000001 369.20000000000005 173.39999999999998\"><circle cx=\"107.99999999999997\" cy=\"107.99999999999999\" r=\"18.0\" style=\"stroke:black;fill:none;stroke-width:2.0;\" /><circle cx=\"252.0\" cy=\"54.0\" r=\"18.0\" style=\"stroke:black;fill:none;stroke-width:2.0;\" /><path d=\"M 0.0,-0.0 L 36.0,-0.0 L 72.0,-0.0\" style=\"stroke:black;fill:none;stroke-width:2.0;stroke-linecap:round;stroke-linejoin:round;\" /><path d=\"M 72.0,-0.0 L 104.39999999999999,-0.0 L 104.39999999999999,-9.0 L 147.6,-9.0 L 147.6,9.0 L 104.39999999999999,9.0 L 104.39999999999999,-0.0 M 147.6,-0.0 L 180.0,-0.0\" style=\"stroke:black;fill:none;stroke-width:2.0;stroke-linecap:round;stroke-linejoin:round;\" /><path d=\"M 90.0,-23.400000000000002 L 151.20000000000002,-23.400000000000002\" style=\"stroke:black;fill:none;stroke-width:2.0;stroke-linecap:round;stroke-linejoin:round;\" /><path d=\"M 160.0 -23.400000000000002 L 151.2 -19.8 L 151.2 -27.000000000000004 Z\" style=\"stroke:black;fill:black;stroke-linecap:butt;stroke-linejoin:miter;\" /><path d=\"M 180.0,-0.0 L 180.0,54.0 L 179.99999999999997,108.0\" style=\"stroke:black;fill:none;stroke-width:2.0;stroke-linecap:round;stroke-linejoin:round;\" /><path d=\"M 194.4,36.0 L 194.4,61.199999999999996\" style=\"stroke:black;fill:none;stroke-width:2.0;stroke-linecap:round;stroke-linejoin:round;\" /><path d=\"M 194.4 70.0 L 190.8 61.199999999999996 L 198.0 61.199999999999996 Z\" style=\"stroke:black;fill:black;stroke-linecap:butt;stroke-linejoin:miter;\" /><path d=\"M 179.99999999999997,108.0 L 230.39999999999998,108.0 L 230.39999999999998,99.0 L 273.59999999999997,99.0 L 273.59999999999997,117.0 L 230.39999999999998,117.0 L 230.39999999999998,108.0 M 273.59999999999997,108.0 L 324.0,108.0\" style=\"stroke:black;fill:none;stroke-width:2.0;stroke-linecap:round;stroke-linejoin:round;\" /><path d=\"M 324.0,108.0 L 342.0,108.0 L 360.0,108.0\" style=\"stroke:black;fill:none;stroke-width:2.0;stroke-linecap:round;stroke-linejoin:round;\" /><path d=\"M 179.99999999999997,108.0 L 125.99999999999997,108.0 L 125.99999999999997,108.0 M 89.99999999999997,107.99999999999999 L 89.99999999999997,107.99999999999999 L 35.99999999999997,107.99999999999999\" style=\"stroke:black;fill:none;stroke-width:2.0;stroke-linecap:round;stroke-linejoin:round;\" /><path d=\"M 116.99999999999997,108.0 L 107.99999999999997,108.0\" style=\"stroke:black;fill:none;stroke-width:2.0;stroke-linecap:round;stroke-linejoin:round;\" /><path d=\"M 100.99999999999997 107.99999999999999 L 107.99999999999997 105.3 L 107.99999999999997 110.69999999999999 Z\" style=\"stroke:black;fill:black;stroke-linecap:butt;stroke-linejoin:miter;\" /><path d=\"M 35.99999999999997,107.99999999999999 L 17.999999999999968,107.99999999999999 L -3.197442310920451e-14,107.99999999999999\" style=\"stroke:black;fill:none;stroke-width:2.0;stroke-linecap:round;stroke-linejoin:round;\" /><path d=\"M 180.0,-0.0 L 125.27999999999999,41.040000000000006 L 130.67999999999998,48.24 L 96.11999999999998,74.16000000000003 L 85.32,59.76000000000001 L 119.87999999999998,33.84 L 125.27999999999999,41.040000000000006 M 90.71999999999998,66.96000000000001 L 35.99999999999997,108.00000000000001\" style=\"stroke:black;fill:none;stroke-width:2.0;stroke-linecap:round;stroke-linejoin:round;\" /><path d=\"M 108.35999999999999,24.480000000000004 L 88.19999999999997,39.60000000000001\" style=\"stroke:black;fill:none;stroke-width:2.0;stroke-linecap:round;stroke-linejoin:round;\" /><path d=\"M 81.15999999999998 44.88000000000001 L 86.03999999999999 36.72000000000001 L 90.36 42.48000000000001 Z\" style=\"stroke:black;fill:black;stroke-linecap:butt;stroke-linejoin:miter;\" /><path d=\"M 180.0,-0.0 L 237.6,43.199999999999996 L 237.6,43.199999999999996 M 266.40000000000003,64.8 L 266.40000000000003,64.8 L 324.0,108.0\" style=\"stroke:black;fill:none;stroke-width:2.0;stroke-linecap:round;stroke-linejoin:round;\" /><path d=\"M 252.0,53.99999999999999 L 259.2,59.4\" style=\"stroke:black;fill:none;stroke-width:2.0;stroke-linecap:round;stroke-linejoin:round;\" /><path d=\"M 246.39999999999998 49.8 L 253.61999999999998 51.83999999999999 L 250.37999999999997 56.15999999999999 Z\" style=\"stroke:black;fill:black;stroke-linecap:butt;stroke-linejoin:miter;\" /><path d=\"M 180.0,-0.0 L 230.4,-0.0 L 230.4,-9.0 L 273.59999999999997,-9.0 L 273.59999999999997,9.0 L 230.4,9.0 L 230.4,-0.0 M 273.59999999999997,-0.0 L 324.0,-0.0\" style=\"stroke:black;fill:none;stroke-width:2.0;stroke-linecap:round;stroke-linejoin:round;\" /><path d=\"M 217.62,-23.400000000000002 L 278.82,-23.400000000000002\" style=\"stroke:black;fill:none;stroke-width:2.0;stroke-linecap:round;stroke-linejoin:round;\" /><path d=\"M 287.62 -23.400000000000002 L 278.82000000000005 -19.8 L 278.82000000000005 -27.000000000000004 Z\" style=\"stroke:black;fill:black;stroke-linecap:butt;stroke-linejoin:miter;\" /><path d=\"M 324.0,-0.0 L 342.0,-0.0 L 360.0,-0.0\" style=\"stroke:black;fill:none;stroke-width:2.0;stroke-linecap:round;stroke-linejoin:round;\" /><text x=\"126.0\" y=\"-38.2\" fill=\"black\" font-size=\"14.0\" font-family=\"sans\" text-anchor=\"middle\"><tspan x=\"126.0\" dy=\"14.0\">i₁=7.5A</tspan></text><text x=\"198.0\" y=\"48.4\" fill=\"black\" font-size=\"14.0\" font-family=\"sans\" text-anchor=\"start\"><tspan x=\"198.0\" dy=\"14.0\">i<tspan baseline-shift=\"sub\" font-size=\"smaller\">sc</tspan></tspan></text><ellipse cx=\"324.0\" cy=\"108.0\" rx=\"3.2399999999999998\" ry=\"2.6999999999999997\" style=\"stroke:black;fill:black;stroke-width:2.0;\" /><circle cx=\"35.99999999999997\" cy=\"107.99999999999999\" r=\"2.6999999999999997\" style=\"stroke:black;fill:black;stroke-width:2.0;\" /><text x=\"91.8\" y=\"21.200000000000003\" fill=\"black\" font-size=\"14.0\" font-family=\"sans\" text-anchor=\"end\"><tspan x=\"91.8\" dy=\"14.0\">i₄=16A</tspan></text><text x=\"264.96\" y=\"25.519999999999996\" fill=\"black\" font-size=\"14.0\" font-family=\"sans\" text-anchor=\"start\"><tspan x=\"264.96\" dy=\"14.0\">i₃=2A</tspan></text><ellipse cx=\"324.0\" cy=\"-0.0\" rx=\"3.2399999999999998\" ry=\"2.6999999999999997\" style=\"stroke:black;fill:black;stroke-width:2.0;\" /><text x=\"253.62\" y=\"-38.2\" fill=\"black\" font-size=\"14.0\" font-family=\"sans\" text-anchor=\"middle\"><tspan x=\"253.62\" dy=\"14.0\">i₂=4A</tspan></text><circle cx=\"180.0\" cy=\"-0.0\" r=\"2.6999999999999997\" style=\"stroke:black;fill:black;stroke-width:2.0;\" /><text x=\"180.0\" y=\"-17.5\" fill=\"black\" font-size=\"14.0\" font-family=\"sans\" text-anchor=\"middle\"><tspan x=\"180.0\" dy=\"14.0\">A</tspan></text><circle cx=\"179.99999999999997\" cy=\"108.0\" r=\"2.6999999999999997\" style=\"stroke:black;fill:black;stroke-width:2.0;\" /><text x=\"179.99999999999997\" y=\"114.3\" fill=\"black\" font-size=\"14.0\" font-family=\"sans\" text-anchor=\"middle\"><tspan x=\"179.99999999999997\" dy=\"14.0\">B</tspan></text></svg>"
      ]
     },
     "metadata": {},
     "output_type": "display_data"
    }
   ],
   "source": [
    "import schemdraw\n",
    "import schemdraw.elements as elm\n",
    "\n",
    "with schemdraw.Drawing() as d:\n",
    "    elm.style(elm.STYLE_IEC)\n",
    "    elm.Line().length(2).right()\n",
    "    r1 = elm.Resistor().scalex(1.2)\n",
    "    elm.CurrentLabel(top=True, ofst=.4, length=2).at(r1).label('$i_1=7.5A$')\n",
    "    d1 = elm.Dot().label('A')\n",
    "    l1 = elm.Line().length(3).down()\n",
    "    elm.CurrentLabel(top=True, ofst=.4, length=1).at(l1).label('$i_{sc}$')\n",
    "    d2 = elm.Dot().label('B', loc='bottom')\n",
    "    r2 = elm.Resistor().length(4).scalex(1.2).right().dot()\n",
    "    elm.Line().length(1)\n",
    "    i1 = elm.SourceI().length(4).at(l1.end).left().dot()\n",
    "    elm.Line().length(1)\n",
    "    r3 = elm.Resistor().scalex(1.2).at(r1.end).to(i1.end)\n",
    "    elm.CurrentLabel(top=False, ofst=.4, length=1).at(r3).label('$i_4=16A$')\n",
    "    i2 = elm.SourceI().label('$i_3=2A$').endpoints(r1.end, r2.end).reverse()\n",
    "    r4 = elm.Resistor().length(4).scalex(1.2).at(r1.end).dot().right()\n",
    "    elm.CurrentLabel(top=True, ofst=.4, length=2).at(r4).label('$i_2=4A$')\n",
    "    elm.Line().length(1)"
   ]
  },
  {
   "cell_type": "markdown",
   "id": "552fa3d8ac1994c6",
   "metadata": {
    "collapsed": false
   },
   "source": [
    "### Solution of example seven\n",
    "The KCL equation at node A :  \n",
    "\n",
    ">$-i_1 - i_2 - i_3 + i_{sc} + i_4 = 0$\n",
    "  \n",
    "Which leads to :  \n",
    "\n",
    ">$i_{sc} = -2.5 A$"
   ]
  },
  {
   "cell_type": "markdown",
   "id": "eef6c0ace2dd3f29",
   "metadata": {
    "collapsed": false
   },
   "source": [
    "### Determining the direction of currents\n",
    "Since the actual directions of currents in the branches of a circuit are not always known beforehand, they are usually assigned arbitrarily. If the assigned direction matches the actual direction in a branch, then the answer will be a positive current. If the assigned direction does not match the actual direction, then the answer will be a negative current, as in the previous example. It is not necessary, however, to go back and reassign current directions in such cases; the answer is left as a negative value."
   ]
  },
  {
   "cell_type": "markdown",
   "id": "3de458c63e28835d",
   "metadata": {
    "collapsed": false
   },
   "source": [
    "## Solving problems using KVL & KCL\n",
    "## Example 8\n",
    "Determine $v_x$ in the circuit of Figure below   \n",
    "  \n",
    "![title](pictures/Figure_17.png)\n"
   ]
  },
  {
   "cell_type": "markdown",
   "id": "7bdea430d5a3c00",
   "metadata": {
    "collapsed": false
   },
   "source": [
    "## Solution of example eight\n",
    "We begin by labeling voltages and currents on the rest of the elements in the circuit. Note that $V_x$ appears across the $2\\Omega$ resistor and the source $i_x$ as well.  \n",
    "  \n",
    "![title](pictures/Figure_18.png)\n",
    "  \n",
    "If we can obtain the current through the $2\\Omega$ resistor, Ohm’s law will yield $V_x$ . Writing the appropriate KCL equation, we see that :\n",
    "> $i_2 = i_4 + i_x$  \n",
    "  \n",
    "Since we were given the current flowing from the 60 V source, perhaps we should consider starting from that side of the circuit. Instead of finding $V_x$ using $i_2$, it might be possible to find $V_x$ directly using KVL. We can write the following KVL equations:  \n",
    "  \n",
    "> $-60 + V_8 - V_{10} = 0$  \n",
    "\n",
    "and  \n",
    "  \n",
    "> $-V_{10} + V_4 + V_x = 0$  \n",
    "  \n",
    "We now have two equations in four unknowns. we can calculate that $V_8 = 5 \\times 8 = 40\\Omega$ through Ohm’s law. Thus : \n",
    "> $V_{10} = 0 + 60 - 40 = 20V$    \n",
    "  \n",
    "So we can calculate the $V_x$ :\n",
    "> $V_x = 20 - V_4$  \n",
    "  \n",
    "If we can determine v4, the problem is solved. The best route to finding a numerical value for the voltage $V_4$ in this case is to employ Ohm’s law, which requires a value for $i_4$. From KCL, we see that :    \n",
    "\n",
    "> $i_4 = 5 - i_{10} = 5 - \\frac{V_{10}}{10} = 5 - \\frac{20}{10} = 3$  \n",
    "\n",
    "> $V_4 = 3 \\times 4 = 12V$  \n",
    "\n",
    "> $V_x = 20 - 12 = 8V$"
   ]
  },
  {
   "cell_type": "markdown",
   "id": "6252c2bff7148394",
   "metadata": {
    "collapsed": false
   },
   "source": [
    "## Example 9\n",
    "Find the current flowing in the 40Ω Resistor : "
   ]
  },
  {
   "cell_type": "code",
   "execution_count": 16,
   "id": "94b400acf450b4e9",
   "metadata": {
    "ExecuteTime": {
     "end_time": "2024-10-23T20:27:52.090104800Z",
     "start_time": "2024-10-23T20:27:52.058143400Z"
    },
    "collapsed": false
   },
   "outputs": [
    {
     "data": {
      "image/svg+xml": [
       "<svg xmlns=\"http://www.w3.org/2000/svg\" xml:lang=\"en\" height=\"141.0pt\" width=\"310.13599999999997pt\" viewBox=\"-47.06799999999999 -136.4 310.13599999999997 141.0\"><path d=\"M 0.0,-0.0 L 3.0998872103417378e-15,-50.625 M 3.5132055050539693e-15,-57.375 L 6.613092715395707e-15,-108.0\" style=\"stroke:black;fill:none;stroke-width:2.0;stroke-linecap:round;stroke-linejoin:round;\" /><path d=\"M 13.500000000000004,-57.375 L -13.499999999999996,-57.375\" style=\"stroke:black;fill:none;stroke-width:2.0;stroke-linecap:round;stroke-linejoin:round;\" /><path d=\"M 6.750000000000003,-50.625 L -6.749999999999997,-50.625\" style=\"stroke:black;fill:none;stroke-width:2.0;stroke-linecap:round;stroke-linejoin:round;\" /><path d=\"M 6.613092715395707e-15,-108.0 L 36.00000000000001,-108.0 L 36.00000000000001,-117.0 L 72.0,-117.0 L 72.0,-99.0 L 36.00000000000001,-99.0 L 36.00000000000001,-108.0 M 72.0,-108.0 L 108.0,-108.0\" style=\"stroke:black;fill:none;stroke-width:2.0;stroke-linecap:round;stroke-linejoin:round;\" /><path d=\"M 108.0,-108.0 L 144.0,-108.0 L 144.0,-117.0 L 180.0,-117.0 L 180.0,-99.0 L 144.0,-99.0 L 144.0,-108.0 M 180.0,-108.0 L 216.0,-108.0\" style=\"stroke:black;fill:none;stroke-width:2.0;stroke-linecap:round;stroke-linejoin:round;\" /><path d=\"M 216.0,-108.0 L 216.0,-57.375 M 216.0,-50.625 L 215.99999999999997,-0.0\" style=\"stroke:black;fill:none;stroke-width:2.0;stroke-linecap:round;stroke-linejoin:round;\" /><path d=\"M 229.5,-57.375 L 202.5,-57.375\" style=\"stroke:black;fill:none;stroke-width:2.0;stroke-linecap:round;stroke-linejoin:round;\" /><path d=\"M 222.75,-50.625 L 209.25,-50.625\" style=\"stroke:black;fill:none;stroke-width:2.0;stroke-linecap:round;stroke-linejoin:round;\" /><path d=\"M 215.99999999999997,-0.0 L 107.99999999999999,-1.3226185430791412e-14 L 0.0,-2.6452370861582824e-14\" style=\"stroke:black;fill:none;stroke-width:2.0;stroke-linecap:round;stroke-linejoin:round;\" /><path d=\"M 108.0,-108.0 L 108.0,-72.0 L 117.0,-72.0 L 116.99999999999999,-36.0 L 98.99999999999999,-36.0 L 99.0,-72.0 L 108.0,-72.0 M 107.99999999999999,-36.0 L 107.99999999999999,-0.0\" style=\"stroke:black;fill:none;stroke-width:2.0;stroke-linecap:round;stroke-linejoin:round;\" /><text x=\"-17.099999999999994\" y=\"-59.6\" fill=\"black\" font-size=\"14.0\" font-family=\"sans\" text-anchor=\"end\"><tspan x=\"-17.099999999999994\" dy=\"14.0\">10V</tspan></text><text x=\"54.00000000000001\" y=\"-131.8\" fill=\"black\" font-size=\"14.0\" font-family=\"sans\" text-anchor=\"middle\"><tspan x=\"54.00000000000001\" dy=\"14.0\">10Ω</tspan></text><text x=\"162.0\" y=\"-131.8\" fill=\"black\" font-size=\"14.0\" font-family=\"sans\" text-anchor=\"middle\"><tspan x=\"162.0\" dy=\"14.0\">20Ω</tspan></text><text x=\"233.1\" y=\"-59.6\" fill=\"black\" font-size=\"14.0\" font-family=\"sans\" text-anchor=\"start\"><tspan x=\"233.1\" dy=\"14.0\">20V</tspan></text><text x=\"95.39999999999999\" y=\"-59.6\" fill=\"black\" font-size=\"14.0\" font-family=\"sans\" text-anchor=\"end\"><tspan x=\"95.39999999999999\" dy=\"14.0\">40Ω</tspan></text><circle cx=\"108.0\" cy=\"-108.0\" r=\"2.6999999999999997\" style=\"stroke:black;fill:black;stroke-width:2.0;\" /><text x=\"108.0\" y=\"-125.5\" fill=\"black\" font-size=\"14.0\" font-family=\"sans\" text-anchor=\"middle\"><tspan x=\"108.0\" dy=\"14.0\">A</tspan></text></svg>"
      ],
      "text/plain": [
       "<svg xmlns=\"http://www.w3.org/2000/svg\" xml:lang=\"en\" height=\"141.0pt\" width=\"310.13599999999997pt\" viewBox=\"-47.06799999999999 -136.4 310.13599999999997 141.0\"><path d=\"M 0.0,-0.0 L 3.0998872103417378e-15,-50.625 M 3.5132055050539693e-15,-57.375 L 6.613092715395707e-15,-108.0\" style=\"stroke:black;fill:none;stroke-width:2.0;stroke-linecap:round;stroke-linejoin:round;\" /><path d=\"M 13.500000000000004,-57.375 L -13.499999999999996,-57.375\" style=\"stroke:black;fill:none;stroke-width:2.0;stroke-linecap:round;stroke-linejoin:round;\" /><path d=\"M 6.750000000000003,-50.625 L -6.749999999999997,-50.625\" style=\"stroke:black;fill:none;stroke-width:2.0;stroke-linecap:round;stroke-linejoin:round;\" /><path d=\"M 6.613092715395707e-15,-108.0 L 36.00000000000001,-108.0 L 36.00000000000001,-117.0 L 72.0,-117.0 L 72.0,-99.0 L 36.00000000000001,-99.0 L 36.00000000000001,-108.0 M 72.0,-108.0 L 108.0,-108.0\" style=\"stroke:black;fill:none;stroke-width:2.0;stroke-linecap:round;stroke-linejoin:round;\" /><path d=\"M 108.0,-108.0 L 144.0,-108.0 L 144.0,-117.0 L 180.0,-117.0 L 180.0,-99.0 L 144.0,-99.0 L 144.0,-108.0 M 180.0,-108.0 L 216.0,-108.0\" style=\"stroke:black;fill:none;stroke-width:2.0;stroke-linecap:round;stroke-linejoin:round;\" /><path d=\"M 216.0,-108.0 L 216.0,-57.375 M 216.0,-50.625 L 215.99999999999997,-0.0\" style=\"stroke:black;fill:none;stroke-width:2.0;stroke-linecap:round;stroke-linejoin:round;\" /><path d=\"M 229.5,-57.375 L 202.5,-57.375\" style=\"stroke:black;fill:none;stroke-width:2.0;stroke-linecap:round;stroke-linejoin:round;\" /><path d=\"M 222.75,-50.625 L 209.25,-50.625\" style=\"stroke:black;fill:none;stroke-width:2.0;stroke-linecap:round;stroke-linejoin:round;\" /><path d=\"M 215.99999999999997,-0.0 L 107.99999999999999,-1.3226185430791412e-14 L 0.0,-2.6452370861582824e-14\" style=\"stroke:black;fill:none;stroke-width:2.0;stroke-linecap:round;stroke-linejoin:round;\" /><path d=\"M 108.0,-108.0 L 108.0,-72.0 L 117.0,-72.0 L 116.99999999999999,-36.0 L 98.99999999999999,-36.0 L 99.0,-72.0 L 108.0,-72.0 M 107.99999999999999,-36.0 L 107.99999999999999,-0.0\" style=\"stroke:black;fill:none;stroke-width:2.0;stroke-linecap:round;stroke-linejoin:round;\" /><text x=\"-17.099999999999994\" y=\"-59.6\" fill=\"black\" font-size=\"14.0\" font-family=\"sans\" text-anchor=\"end\"><tspan x=\"-17.099999999999994\" dy=\"14.0\">10V</tspan></text><text x=\"54.00000000000001\" y=\"-131.8\" fill=\"black\" font-size=\"14.0\" font-family=\"sans\" text-anchor=\"middle\"><tspan x=\"54.00000000000001\" dy=\"14.0\">10Ω</tspan></text><text x=\"162.0\" y=\"-131.8\" fill=\"black\" font-size=\"14.0\" font-family=\"sans\" text-anchor=\"middle\"><tspan x=\"162.0\" dy=\"14.0\">20Ω</tspan></text><text x=\"233.1\" y=\"-59.6\" fill=\"black\" font-size=\"14.0\" font-family=\"sans\" text-anchor=\"start\"><tspan x=\"233.1\" dy=\"14.0\">20V</tspan></text><text x=\"95.39999999999999\" y=\"-59.6\" fill=\"black\" font-size=\"14.0\" font-family=\"sans\" text-anchor=\"end\"><tspan x=\"95.39999999999999\" dy=\"14.0\">40Ω</tspan></text><circle cx=\"108.0\" cy=\"-108.0\" r=\"2.6999999999999997\" style=\"stroke:black;fill:black;stroke-width:2.0;\" /><text x=\"108.0\" y=\"-125.5\" fill=\"black\" font-size=\"14.0\" font-family=\"sans\" text-anchor=\"middle\"><tspan x=\"108.0\" dy=\"14.0\">A</tspan></text></svg>"
      ]
     },
     "metadata": {},
     "output_type": "display_data"
    }
   ],
   "source": [
    "import schemdraw\n",
    "from schemdraw import elements as elm\n",
    "\n",
    "with schemdraw.Drawing() as d1:\n",
    "    elm.style(elm.STYLE_IEC)\n",
    "    b1 = elm.BatteryCell().label('$10V$').up().reverse()\n",
    "    r1 = elm.Resistor().label('$10\\Omega$').right()\n",
    "    elm.Dot().label('A')\n",
    "    r2 = elm.Resistor().label('$20\\Omega$')\n",
    "    elm.BatteryCell().label('$20V$',loc='bottom').down()\n",
    "    elm.Line().tox(b1.start)\n",
    "    r3 = elm.Resistor().label('$40\\Omega$').at(r1.end).down()"
   ]
  },
  {
   "cell_type": "markdown",
   "id": "d3bbdb9b1aa0ffef",
   "metadata": {
    "collapsed": false
   },
   "source": [
    "## Solution of example nine\n",
    "First, using kvl, we determine the branch current with the element, then we write the kvl equation by selecting the paths :   \n",
    "  \n",
    "![title](pictures/Figure_19.png)\n",
    "  \n",
    "- path 1 :\n",
    "> $-10 + 40(I_s - i_1) - 10i_1 = 0$\n",
    "  \n",
    "- path 2 :\n",
    "> $20 - 20I_s - 40(I_s - i_1) = 0$  \n",
    "  \n",
    "If we simplify the equations, we get two equations with two unknowns :   \n",
    "  \n",
    "> $60I_s - 40i_1 = 20$  \n",
    "\n",
    "> $40I_s + 30i_1 = 10$  \n",
    "  \n",
    "By solving the quadratic equation:  \n",
    "  \n",
    "> $i_1 = \\frac{1}{7}$  and  $I_s = \\frac{3}{7}$\n",
    "  \n",
    "> $I_s - i_1 = \\frac{2}{7} = 0.285$"
   ]
  },
  {
   "cell_type": "markdown",
   "id": "2cafe04b1966416b",
   "metadata": {
    "collapsed": false
   },
   "source": [
    "## Conclusion\n",
    "In this project, we first referred to the basic concepts of voltage and electric current in a circuit. Then, we discussed the laws of conservation of energy and electric charge, and realized that the work done in transferring an electric charge in a closed loop is zero, and the number of electric charges in a closed system always remains constant. After that, we introduced Kirchhoff's laws, which are derived from the previous two laws, stating that the algebraic sum of voltages in a closed loop equals zero and the algebraic sum of currents at a junction equals zero too.  \n",
    "Finally, by understanding these two laws, we can easily analyze electrical circuits."
   ]
  },
  {
   "cell_type": "markdown",
   "id": "60795e0d29e72763",
   "metadata": {
    "collapsed": false
   },
   "source": [
    "## Sources\n",
    "- https://www.electronics-tutorials.ws/dccircuits/kirchhoffs-current-law.html\n",
    "- https://www.electronics-tutorials.ws/dccircuits/kirchhoffs-voltage-law.html\n",
    "- https://www.electronics-tutorials.ws/dccircuits/dcp_4.html\n",
    "- ENGINEERING CIRCUIT ANALYSIS(William H. Hayt, Jr. (deceased))"
   ]
  }
 ],
 "metadata": {
  "kernelspec": {
   "display_name": "Python 3 (ipykernel)",
   "language": "python",
   "name": "python3"
  },
  "language_info": {
   "codemirror_mode": {
    "name": "ipython",
    "version": 3
   },
   "file_extension": ".py",
   "mimetype": "text/x-python",
   "name": "python",
   "nbconvert_exporter": "python",
   "pygments_lexer": "ipython3",
   "version": "3.11.7"
  }
 },
 "nbformat": 4,
 "nbformat_minor": 5
}
