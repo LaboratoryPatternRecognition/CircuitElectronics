{
 "cells": [
  {
   "cell_type": "markdown",
   "metadata": {},
   "source": [
    "# Active components"
   ]
  },
  {
   "cell_type": "markdown",
   "metadata": {},
   "source": [
    "__Autor: Amirhossein Abolfazli Esfahani__"
   ]
  },
  {
   "cell_type": "markdown",
   "metadata": {},
   "source": [
    "## What are active components?"
   ]
  },
  {
   "cell_type": "markdown",
   "metadata": {},
   "source": [
    "Active components are semiconductor devices consisting of semiconductor materials. Typical electronic devices are diodes and transistors, for performing \"active\" operations such as amplifying, rectifying, or converting supplied current (signal).\n",
    "Semiconductors are substances (silicon, germanium and their compound, etc.) having a resistance rate somewhere between a conductor (iron, copper, gold, silver, etc.) and an insulator (rubber, ceramic, etc.). Semiconductor devices can be classified into single-function discrete (diode, transistor), optical semiconductors such as light-emitting devices (LED, laser) and light-receiving devices (photodiode, image pickup element), sensors capable of detecting temperature, pressure, acceleration, magnetism, and integrated circuit (IC) loaded with multiple functions. This article describes diodes and transistors as the most basic element and integrated circuits (ICs), which have become more important in recent years."
   ]
  },
  {
   "cell_type": "markdown",
   "metadata": {},
   "source": [
    "![RC1_charging](./tech47-05_en.png)"
   ]
  },
  {
   "cell_type": "markdown",
   "metadata": {},
   "source": [
    "## Difference Between Active and Passive Component"
   ]
  },
  {
   "cell_type": "markdown",
   "metadata": {},
   "source": [
    "the electrical component can be an Active Component or Passive Component the power delivering and absorbing nature.\n",
    "An active Component is a component that delivers power to an electric circuit or components that provide energy to an electric circuit. Passive components are the components that are responsible for absorbing power or energy, components like capacitors and inductors store the energy for further use. Active and Passive components are responsible for the power or energy conservation in the circuit. Apart from this direction of the current decides the nature of the component, componentscurrent current flows outward from the component then it is an Active Component, and if the current flows towards or inwards from the component then it is a Passive Component."
   ]
  },
  {
   "cell_type": "markdown",
   "metadata": {},
   "source": [
    "## Diode"
   ]
  },
  {
   "cell_type": "markdown",
   "metadata": {},
   "source": [
    "### Basic explanation about Diode"
   ]
  },
  {
   "cell_type": "markdown",
   "metadata": {},
   "source": [
    "In the field of electronics, a diode is a two-terminal electronic component\n",
    "that conducts electric current in only one direction. This term is usually referring\n",
    "to a semiconductor diode (the most common type nowadays) which is a crystal\n",
    "of semiconductor connected to two electrical terminals, a P-N junction. Further\n",
    "discussions are made after discoursing briefly the history of diode.\n",
    "An ideal diode will have zero resistance in one direction, and infinite\n",
    "resistance in the reverse direction. Although in the real world, diodes cannot achieve zero or infinite resistance.\n",
    "Instead, a diode will have negligible resistance in one direction (to allow current\n",
    "flow), and a very high resistance in the reverse direction (to prevent current\n",
    "flow). A diode is effectively like a valve for an electrical circuit."
   ]
  },
  {
   "cell_type": "markdown",
   "metadata": {},
   "source": [
    "![RC1_charging](./Diode.jpg)"
   ]
  },
  {
   "cell_type": "markdown",
   "metadata": {},
   "source": [
    "### Formation of Diode"
   ]
  },
  {
   "cell_type": "markdown",
   "metadata": {},
   "source": [
    "If a P-type and an N-type material are brought close to each other, both of\n",
    "them join to form a junction."
   ]
  },
  {
   "cell_type": "markdown",
   "metadata": {},
   "source": [
    "![RC1_charging](./Diode2.jpg)"
   ]
  },
  {
   "cell_type": "markdown",
   "metadata": {},
   "source": [
    "A P-type material has holes as the majority carriers and an N-type material\n",
    "has electrons as the majority carriers. As opposite charges attract, few holes in\n",
    "P-type tend to go to n-side, whereas few electrons in N-type tend to go to Pside.\n",
    "As this region acts as a barrier between P and N type materials, this is also\n",
    "called as Barrier junction. This has another name called as Depletion region\n",
    "meaning it depletes both the regions. There occurs a potential difference VD due\n",
    "to the formation of ions, across the junction called as Potential Barrier as it\n",
    "prevents further movement of holes and electrons through the junction."
   ]
  },
  {
   "cell_type": "markdown",
   "metadata": {},
   "source": [
    "### Biasing of Diode"
   ]
  },
  {
   "cell_type": "markdown",
   "metadata": {},
   "source": [
    "When a diode or any two-terminal component is connected in a circuit, it\n",
    "has two biased conditions with the given supply. They are Forward biased\n",
    "condition and Reverse biased condition."
   ]
  },
  {
   "cell_type": "markdown",
   "metadata": {},
   "source": [
    "####  Forward Bias "
   ]
  },
  {
   "cell_type": "markdown",
   "metadata": {},
   "source": [
    "When a diode is connected in a circuit, with its anode to the positive\n",
    "terminal and cathode to the negative terminal of the supply, then such a\n",
    "connection is said to be forward biased condition. This kind of connection makes the circuit more and more forward\n",
    "biased and helps in more conduction. A diode conducts well in forward\n",
    "biased condition."
   ]
  },
  {
   "cell_type": "markdown",
   "metadata": {},
   "source": [
    "![RC1_charging](./Diode3.jpg)"
   ]
  },
  {
   "cell_type": "markdown",
   "metadata": {},
   "source": [
    "##### Circuits under Forward Bias"
   ]
  },
  {
   "cell_type": "markdown",
   "metadata": {},
   "source": [
    "With the repulsive force provided by positive terminal to holes\n",
    "and by negative terminal to electrons, the recombination takes\n",
    "place in the junction. The supply voltage should be such high that\n",
    "it forces the movement of electrons and holes through the barrier\n",
    "and to cross it to provide __forward current__. "
   ]
  },
  {
   "cell_type": "markdown",
   "metadata": {},
   "source": [
    "#### Reverse Bias"
   ]
  },
  {
   "cell_type": "markdown",
   "metadata": {},
   "source": [
    "When a diode is connected in a circuit, with its anode to the negative\n",
    "terminal and cathode to the positive terminal of the supply, then such a\n",
    "connection is said to be Reverse biased condition. This kind of connection makes the circuit more and more reverse\n",
    "biased and helps in minimizing and preventing the conduction. A diode\n",
    "cannot conduct in reverse biased condition."
   ]
  },
  {
   "cell_type": "markdown",
   "metadata": {},
   "source": [
    "![RC1_charging](./Diode5.jpg)"
   ]
  },
  {
   "cell_type": "markdown",
   "metadata": {},
   "source": [
    "##### Circuits under Reverse Bias"
   ]
  },
  {
   "cell_type": "markdown",
   "metadata": {},
   "source": [
    "When anode and cathode are connected to negative and\n",
    "positive terminals respectively, the electrons are attracted towards\n",
    "the positive terminal and holes are attracted towards the negative\n",
    "terminal. Hence both will be away from the potential barrier\n",
    "__increasing the junction resistance__ and preventing any electron to\n",
    "cross the junction."
   ]
  },
  {
   "cell_type": "markdown",
   "metadata": {},
   "source": [
    "### Purpose of Diode"
   ]
  },
  {
   "cell_type": "markdown",
   "metadata": {},
   "source": [
    "A diode is used to block the electric current flow in one direction, i.e. in\n",
    "forward direction and to block in reverse direction. This principle of diode makes\n",
    "it work as a __Rectifier__.\n",
    "For a circuit to allow the current flow in one direction but to stop in the other\n",
    "direction, the rectifier diode is the best choice. Thus the output will be DC\n",
    "removing the AC components. The circuits such as half wave and full wave\n",
    "rectifiers are made using diodes, which can be studied in Electronic Circuits\n",
    "tutorials.\n",
    "A diode is also used as a __Switch__. It helps a faster ON and OFF for the output\n",
    "that should occur in a quick rate."
   ]
  },
  {
   "cell_type": "markdown",
   "metadata": {},
   "source": [
    "### Types of Diode "
   ]
  },
  {
   "cell_type": "markdown",
   "metadata": {},
   "source": [
    "#### Small Signal Diode"
   ]
  },
  {
   "cell_type": "markdown",
   "metadata": {},
   "source": [
    "The appearance of signal diode is very small when compared with the\n",
    "power diode. To indicate the cathode terminal one edge is marked with\n",
    "black or red in color. For the applications at high frequencies the\n",
    "performance of the small signal diode is very effective. With respect to the functional frequencies of the signal diode the\n",
    "carrying capacity of the current and power are very low which are\n",
    "maximum nearly at __150mA and 500mW__."
   ]
  },
  {
   "cell_type": "markdown",
   "metadata": {},
   "source": [
    "![RC1_charging](./Diode4.jpg)"
   ]
  },
  {
   "cell_type": "markdown",
   "metadata": {},
   "source": [
    "#### Zener Diode"
   ]
  },
  {
   "cell_type": "markdown",
   "metadata": {},
   "source": [
    "It is a passive element works under the principle of zener breakdown.\n",
    "First produced by Clarence zener in 1934.It is similar to normal diode in\n",
    "forward direction, it also allows current in reverse direction when the\n",
    "applied voltage reaches the breakdown voltage. It is designed to prevent\n",
    "the other semiconductor devices from momentary voltage pulses. It acts\n",
    "as voltage regulator. "
   ]
  },
  {
   "cell_type": "markdown",
   "metadata": {},
   "source": [
    "![RC1_charging](./Diode6.jpg)"
   ]
  },
  {
   "cell_type": "markdown",
   "metadata": {},
   "source": [
    "##### Zener Characteristics curve with Pyspice"
   ]
  },
  {
   "cell_type": "markdown",
   "metadata": {},
   "source": [
    "The graph given underneath shows the V-I characteristics of the Zener diode."
   ]
  },
  {
   "cell_type": "code",
   "execution_count": 2,
   "metadata": {},
   "outputs": [
    {
     "data": {
      "image/png": "[encoded data removed]",
      "text/plain": [
       "<Figure size 1000x600 with 1 Axes>"
      ]
     },
     "metadata": {},
     "output_type": "display_data"
    }
   ],
   "source": [
    "import numpy as np\n",
    "import matplotlib.pyplot as plt\n",
    "\n",
    "# Define Zener diode parameters\n",
    "V_zener = 5.1  # Zener breakdown voltage in volts\n",
    "R = 1000       # Series resistor in ohms\n",
    "\n",
    "# Input voltage range (0 to 10V)\n",
    "V_in = np.linspace(0, 10, 200)  # 200 points from 0V to 10V\n",
    "\n",
    "# Initialize current array\n",
    "I_out = np.zeros_like(V_in)\n",
    "\n",
    "# Calculate output current based on the input voltage\n",
    "for i, v in enumerate(V_in):\n",
    "    if v < V_zener:\n",
    "        # Below Zener breakdown voltage: no current through Zener diode\n",
    "        I_out[i] = 0\n",
    "    else:\n",
    "        # Above Zener breakdown voltage: calculate current through Zener diode\n",
    "        # Using a quadratic relationship for current\n",
    "        I_out[i] = ((v - V_zener) ** 2) / R  # Quadratic increase in current\n",
    "\n",
    "# Plotting the results\n",
    "plt.figure(figsize=(10, 6))\n",
    "plt.plot(V_in, I_out, label='Zener Diode Characteristic', color='blue')\n",
    "plt.axvline(x=V_zener, color='red', linestyle='--', label='Zener Breakdown Voltage (5.1V)')\n",
    "plt.title('Zener Diode Voltage-Current Characteristic Curve')\n",
    "plt.xlabel('Input Voltage [V]')\n",
    "plt.ylabel('Current through Zener Diode [A]')\n",
    "plt.xlim(0, 10)  # Set x-axis limits\n",
    "plt.ylim(0, np.max(I_out)*1.1)  # Adjust y-axis to fit the curve\n",
    "plt.grid(True)\n",
    "plt.legend()\n",
    "plt.show()\n"
   ]
  },
  {
   "cell_type": "markdown",
   "metadata": {},
   "source": [
    "__Forward Characteristics of Zener Diode:__\n",
    "Forward characteristics of the Zener Diode are similar to the forward characteristics of any normal diode. It is clearly evident from the above diagram in the first quadrant that the VI forward characteristics are similar to other P-N junction diodes.\n",
    "\n",
    "__Reverse Characteristics of Zener Diode:__\n",
    "In reverse voltage conditions a small amount of current flows through the Zener diode. This current is because of the electrons which are thermally generated in the Zener diode. As we keep increasing the reverse voltage at any particular value of reverse voltage the reverse current increases suddenly at the breakdown point this voltage is called Zener Voltage and is represented as Vz."
   ]
  },
  {
   "cell_type": "markdown",
   "metadata": {},
   "source": [
    "#### Light Emitting Diode (LED)"
   ]
  },
  {
   "cell_type": "markdown",
   "metadata": {},
   "source": [
    "Earlier they used in inductor lamps but now in recent applications they\n",
    "are using in environmental and task handling. Mostly used in applications\n",
    "like aviation lighting, traffic signals, camera flashes. These diodes convert\n",
    "the electrical energy in to light energy. First production started in 1968. It\n",
    "undergoes electroluminescence process in which holes and electrons are\n",
    "recombined to produce energy in the form of light in forward bias\n",
    "condition."
   ]
  },
  {
   "cell_type": "markdown",
   "metadata": {},
   "source": [
    "![RC1_charging](./Diode7.jpg)"
   ]
  },
  {
   "cell_type": "markdown",
   "metadata": {},
   "source": [
    "#### Schottky Diode "
   ]
  },
  {
   "cell_type": "markdown",
   "metadata": {},
   "source": [
    "In this type of diode the junction is formed by contacting the \n",
    "semiconductor material with metal. Due to this the forward voltage drop \n",
    "is decreased to min. The semiconductor material is N-type silicon which \n",
    "acts as an anode and the metal acts as a cathode whose materials are \n",
    "chromium, platinum, tungsten etc. \n",
    "Due to the metal junction these diodes have high current conducting \n",
    "capability thus the switching time reduces. So, Schottky has greater use \n",
    "in switching applications. Mainly because of the metal- semiconductor \n",
    "junction the voltage drop is low which in turn increase the diode \n",
    "performance and reduces power loss. So, these are used in high frequency \n",
    "rectifier applications. \n"
   ]
  },
  {
   "cell_type": "markdown",
   "metadata": {},
   "source": [
    "![RC1_charging](./Diode8.jpg)"
   ]
  },
  {
   "cell_type": "markdown",
   "metadata": {},
   "source": [
    "#### Constant Current Diode"
   ]
  },
  {
   "cell_type": "markdown",
   "metadata": {},
   "source": [
    "It is also known as current-regulating diode or constant current diode \n",
    "or current-limiting diode or diode-connected transistor. The function of the \n",
    "diode is regulating the voltage at a particular current. \n",
    "It functions as a two terminal current limiter. In this JFET acts as \n",
    "current limiter to achieve high output impedance. The constant current \n",
    "diode symbol is shown below."
   ]
  },
  {
   "cell_type": "markdown",
   "metadata": {},
   "source": [
    "![RC1_charging](./Diode9.jpg)"
   ]
  },
  {
   "cell_type": "markdown",
   "metadata": {},
   "source": [
    "#### Step Recovery Diode"
   ]
  },
  {
   "cell_type": "markdown",
   "metadata": {},
   "source": [
    "It is also called as snap-off diode or charge-storage diode. These are \n",
    "the special type of diodes which stores the charge from positive pulse and \n",
    "uses in the negative pulse of the sinusoidal signals. The rise time of the \n",
    "current pulse is equal to the snap time. Due to this phenomenon it has \n",
    "speed recovery pulses.The applications of these diodes are in higher order multipliers and in \n",
    "pulse shaper circuits. The cut-off frequency of these diodes is very high \n",
    "which are nearly at Giga hertz order. "
   ]
  },
  {
   "cell_type": "markdown",
   "metadata": {},
   "source": [
    "![RC1_charging](./Diode10.jpg)"
   ]
  },
  {
   "cell_type": "markdown",
   "metadata": {},
   "source": [
    "#### Varactor Diode"
   ]
  },
  {
   "cell_type": "markdown",
   "metadata": {},
   "source": [
    "These are also known as Varicap diodes. It acts like the variable \n",
    "capacitor. Operations are performed mainly at reverse bias state only. \n",
    "These diodes are very famous due to its capability of changing the \n",
    "capacitance ranges within the circuit in the presence of constant voltage \n",
    "flow. \n",
    "They can able to vary capacitance up to high values. In varactor diode \n",
    "by changing the reverse bias voltage we can decrease or increase the \n",
    "depletion layer. These diodes have many applications as voltage controlled \n",
    "oscillator for cell phones, satellite pre-filters etc. The symbol of varactor \n",
    "diode is given below. "
   ]
  },
  {
   "cell_type": "markdown",
   "metadata": {},
   "source": [
    "![RC1_charging](./Diode11.jpg)"
   ]
  },
  {
   "cell_type": "markdown",
   "metadata": {},
   "source": [
    "### Draw the circuit with schemdraw"
   ]
  },
  {
   "cell_type": "code",
   "execution_count": 3,
   "metadata": {},
   "outputs": [
    {
     "data": {
      "image/png": "[encoded data removed]",
      "image/svg+xml": [
       "<?xml version=\"1.0\" encoding=\"utf-8\" standalone=\"no\"?>\n",
       "<!DOCTYPE svg PUBLIC \"-//W3C//DTD SVG 1.1//EN\"\n",
       "  \"http://www.w3.org/Graphics/SVG/1.1/DTD/svg11.dtd\">\n",
       "<svg xmlns:xlink=\"http://www.w3.org/1999/xlink\" width=\"247.86pt\" height=\"150.16pt\" viewBox=\"0 0 247.86 150.16\" xmlns=\"http://www.w3.org/2000/svg\" version=\"1.1\">\n",
       " <metadata>\n",
       "  <rdf:RDF xmlns:dc=\"http://purl.org/dc/elements/1.1/\" xmlns:cc=\"http://creativecommons.org/ns#\" xmlns:rdf=\"http://www.w3.org/1999/02/22-rdf-syntax-ns#\">\n",
       "   <cc:Work>\n",
       "    <dc:type rdf:resource=\"http://purl.org/dc/dcmitype/StillImage\"/>\n",
       "    <dc:date>2024-10-12T19:21:47.314737</dc:date>\n",
       "    <dc:format>image/svg+xml</dc:format>\n",
       "    <dc:creator>\n",
       "     <cc:Agent>\n",
       "      <dc:title>Matplotlib v3.9.2, https://matplotlib.org/</dc:title>\n",
       "     </cc:Agent>\n",
       "    </dc:creator>\n",
       "   </cc:Work>\n",
       "  </rdf:RDF>\n",
       " </metadata>\n",
       " <defs>\n",
       "  <style type=\"text/css\">*{stroke-linejoin: round; stroke-linecap: butt}</style>\n",
       " </defs>\n",
       " <g id=\"figure_1\">\n",
       "  <g id=\"patch_1\">\n",
       "   <path d=\"M 0 150.16 \n",
       "L 247.86 150.16 \n",
       "L 247.86 0 \n",
       "L 0 0 \n",
       "z\n",
       "\" style=\"fill: #ffffff\"/>\n",
       "  </g>\n",
       "  <g id=\"axes_1\">\n",
       "   <g id=\"patch_2\">\n",
       "    <path d=\"M 243.18 76.18 \n",
       "L 234.18 88.78 \n",
       "L 225.18 76.18 \n",
       "L 243.18 76.18 \n",
       "z\n",
       "\" clip-path=\"url(#pd1f9fae748)\" style=\"fill: none; stroke: #000000; stroke-width: 2; stroke-linecap: round\"/>\n",
       "   </g>\n",
       "   <g id=\"line2d_1\">\n",
       "    <path d=\"M 18.18 136.48 \n",
       "L 18.18 85.855 \n",
       "M 18.18 79.105 \n",
       "L 18.18 28.48 \n",
       "\" clip-path=\"url(#pd1f9fae748)\" style=\"fill: none; stroke: #000000; stroke-width: 2; stroke-linecap: round\"/>\n",
       "   </g>\n",
       "   <g id=\"line2d_2\">\n",
       "    <path d=\"M 31.68 79.105 \n",
       "L 4.68 79.105 \n",
       "\" clip-path=\"url(#pd1f9fae748)\" style=\"fill: none; stroke: #000000; stroke-width: 2; stroke-linecap: round\"/>\n",
       "   </g>\n",
       "   <g id=\"line2d_3\">\n",
       "    <path d=\"M 24.93 85.855 \n",
       "L 11.43 85.855 \n",
       "\" clip-path=\"url(#pd1f9fae748)\" style=\"fill: none; stroke: #000000; stroke-width: 2; stroke-linecap: round\"/>\n",
       "   </g>\n",
       "   <g id=\"line2d_4\">\n",
       "    <path d=\"M 18.18 28.48 \n",
       "L 54.18 28.48 \n",
       "L 57.18 19.48 \n",
       "L 63.18 37.48 \n",
       "L 69.18 19.48 \n",
       "L 75.18 37.48 \n",
       "L 81.18 19.48 \n",
       "L 87.18 37.48 \n",
       "L 90.18 28.48 \n",
       "L 126.18 28.48 \n",
       "\" clip-path=\"url(#pd1f9fae748)\" style=\"fill: none; stroke: #000000; stroke-width: 2; stroke-linecap: round\"/>\n",
       "   </g>\n",
       "   <g id=\"line2d_5\">\n",
       "    <path d=\"M 126.18 28.48 \n",
       "L 180.18 28.48 \n",
       "L 234.18 28.48 \n",
       "\" clip-path=\"url(#pd1f9fae748)\" style=\"fill: none; stroke: #000000; stroke-width: 2; stroke-linecap: round\"/>\n",
       "   </g>\n",
       "   <g id=\"line2d_6\">\n",
       "    <path d=\"M 234.18 28.48 \n",
       "L 234.18 76.18 \n",
       "M 243.18 88.78 \n",
       "L 225.18 88.78 \n",
       "M 234.18 88.78 \n",
       "L 234.18 136.48 \n",
       "\" clip-path=\"url(#pd1f9fae748)\" style=\"fill: none; stroke: #000000; stroke-width: 2; stroke-linecap: round\"/>\n",
       "   </g>\n",
       "   <g id=\"line2d_7\">\n",
       "    <path d=\"M 234.18 136.48 \n",
       "L 198.18 136.48 \n",
       "L 195.18 145.48 \n",
       "L 189.18 127.48 \n",
       "L 183.18 145.48 \n",
       "L 177.18 127.48 \n",
       "L 171.18 145.48 \n",
       "L 165.18 127.48 \n",
       "L 162.18 136.48 \n",
       "L 126.18 136.48 \n",
       "\" clip-path=\"url(#pd1f9fae748)\" style=\"fill: none; stroke: #000000; stroke-width: 2; stroke-linecap: round\"/>\n",
       "   </g>\n",
       "   <g id=\"line2d_8\">\n",
       "    <path d=\"M 126.18 136.48 \n",
       "L 72.18 136.48 \n",
       "L 18.18 136.48 \n",
       "\" clip-path=\"url(#pd1f9fae748)\" style=\"fill: none; stroke: #000000; stroke-width: 2; stroke-linecap: round\"/>\n",
       "   </g>\n",
       "   <g id=\"line2d_9\">\n",
       "    <path d=\"M 126.18 28.48 \n",
       "L 126.18 64.48 \n",
       "L 135.18 67.48 \n",
       "L 117.18 73.48 \n",
       "L 135.18 79.48 \n",
       "L 117.18 85.48 \n",
       "L 135.18 91.48 \n",
       "L 117.18 97.48 \n",
       "L 126.18 100.48 \n",
       "L 126.18 136.48 \n",
       "\" clip-path=\"url(#pd1f9fae748)\" style=\"fill: none; stroke: #000000; stroke-width: 2; stroke-linecap: round\"/>\n",
       "   </g>\n",
       "   <g id=\"text_1\">\n",
       "    <!-- _ -->\n",
       "    <g transform=\"translate(35.28 102.96125) scale(0.1 -0.1)\">\n",
       "     <defs>\n",
       "      <path id=\"DejaVuSans-5f\" d=\"M 3263 -1063 \n",
       "L 3263 -1509 \n",
       "L -63 -1509 \n",
       "L -63 -1063 \n",
       "L 3263 -1063 \n",
       "z\n",
       "\" transform=\"scale(0.015625)\"/>\n",
       "     </defs>\n",
       "     <use xlink:href=\"#DejaVuSans-5f\"/>\n",
       "    </g>\n",
       "   </g>\n",
       "   <g id=\"text_2\">\n",
       "    <!-- + -->\n",
       "    <g transform=\"translate(35.28 67.239375) scale(0.1 -0.1)\">\n",
       "     <defs>\n",
       "      <path id=\"DejaVuSans-2b\" d=\"M 2944 4013 \n",
       "L 2944 2272 \n",
       "L 4684 2272 \n",
       "L 4684 1741 \n",
       "L 2944 1741 \n",
       "L 2944 0 \n",
       "L 2419 0 \n",
       "L 2419 1741 \n",
       "L 678 1741 \n",
       "L 678 2272 \n",
       "L 2419 2272 \n",
       "L 2419 4013 \n",
       "L 2944 4013 \n",
       "z\n",
       "\" transform=\"scale(0.015625)\"/>\n",
       "     </defs>\n",
       "     <use xlink:href=\"#DejaVuSans-2b\"/>\n",
       "    </g>\n",
       "   </g>\n",
       "   <g id=\"text_3\">\n",
       "    <!-- 40Ω -->\n",
       "    <g transform=\"translate(57.922969 12.968437) scale(0.14 -0.14)\">\n",
       "     <defs>\n",
       "      <path id=\"DejaVuSans-34\" d=\"M 2419 4116 \n",
       "L 825 1625 \n",
       "L 2419 1625 \n",
       "L 2419 4116 \n",
       "z\n",
       "M 2253 4666 \n",
       "L 3047 4666 \n",
       "L 3047 1625 \n",
       "L 3713 1625 \n",
       "L 3713 1100 \n",
       "L 3047 1100 \n",
       "L 3047 0 \n",
       "L 2419 0 \n",
       "L 2419 1100 \n",
       "L 313 1100 \n",
       "L 313 1709 \n",
       "L 2253 4666 \n",
       "z\n",
       "\" transform=\"scale(0.015625)\"/>\n",
       "      <path id=\"DejaVuSans-30\" d=\"M 2034 4250 \n",
       "Q 1547 4250 1301 3770 \n",
       "Q 1056 3291 1056 2328 \n",
       "Q 1056 1369 1301 889 \n",
       "Q 1547 409 2034 409 \n",
       "Q 2525 409 2770 889 \n",
       "Q 3016 1369 3016 2328 \n",
       "Q 3016 3291 2770 3770 \n",
       "Q 2525 4250 2034 4250 \n",
       "z\n",
       "M 2034 4750 \n",
       "Q 2819 4750 3233 4129 \n",
       "Q 3647 3509 3647 2328 \n",
       "Q 3647 1150 3233 529 \n",
       "Q 2819 -91 2034 -91 \n",
       "Q 1250 -91 836 529 \n",
       "Q 422 1150 422 2328 \n",
       "Q 422 3509 836 4129 \n",
       "Q 1250 4750 2034 4750 \n",
       "z\n",
       "\" transform=\"scale(0.015625)\"/>\n",
       "      <path id=\"DejaVuSans-3a9\" d=\"M 4647 556 \n",
       "L 4647 0 \n",
       "L 2772 0 \n",
       "L 2772 556 \n",
       "Q 3325 859 3634 1378 \n",
       "Q 3944 1897 3944 2528 \n",
       "Q 3944 3278 3531 3731 \n",
       "Q 3119 4184 2444 4184 \n",
       "Q 1769 4184 1355 3729 \n",
       "Q 941 3275 941 2528 \n",
       "Q 941 1897 1250 1378 \n",
       "Q 1563 859 2119 556 \n",
       "L 2119 0 \n",
       "L 244 0 \n",
       "L 244 556 \n",
       "L 1241 556 \n",
       "Q 747 991 519 1456 \n",
       "Q 294 1922 294 2497 \n",
       "Q 294 3491 894 4106 \n",
       "Q 1491 4722 2444 4722 \n",
       "Q 3391 4722 3994 4106 \n",
       "Q 4594 3494 4594 2528 \n",
       "Q 4594 1922 4372 1459 \n",
       "Q 4150 997 3647 556 \n",
       "L 4647 556 \n",
       "z\n",
       "\" transform=\"scale(0.015625)\"/>\n",
       "     </defs>\n",
       "     <use xlink:href=\"#DejaVuSans-34\"/>\n",
       "     <use xlink:href=\"#DejaVuSans-30\" x=\"63.623047\"/>\n",
       "     <use xlink:href=\"#DejaVuSans-3a9\" x=\"127.246094\"/>\n",
       "    </g>\n",
       "   </g>\n",
       "   <g id=\"text_4\">\n",
       "    <!-- 50Ω -->\n",
       "    <g transform=\"translate(165.922969 120.968437) scale(0.14 -0.14)\">\n",
       "     <defs>\n",
       "      <path id=\"DejaVuSans-35\" d=\"M 691 4666 \n",
       "L 3169 4666 \n",
       "L 3169 4134 \n",
       "L 1269 4134 \n",
       "L 1269 2991 \n",
       "Q 1406 3038 1543 3061 \n",
       "Q 1681 3084 1819 3084 \n",
       "Q 2600 3084 3056 2656 \n",
       "Q 3513 2228 3513 1497 \n",
       "Q 3513 744 3044 326 \n",
       "Q 2575 -91 1722 -91 \n",
       "Q 1428 -91 1123 -41 \n",
       "Q 819 9 494 109 \n",
       "L 494 744 \n",
       "Q 775 591 1075 516 \n",
       "Q 1375 441 1709 441 \n",
       "Q 2250 441 2565 725 \n",
       "Q 2881 1009 2881 1497 \n",
       "Q 2881 1984 2565 2268 \n",
       "Q 2250 2553 1709 2553 \n",
       "Q 1456 2553 1204 2497 \n",
       "Q 953 2441 691 2322 \n",
       "L 691 4666 \n",
       "z\n",
       "\" transform=\"scale(0.015625)\"/>\n",
       "     </defs>\n",
       "     <use xlink:href=\"#DejaVuSans-35\"/>\n",
       "     <use xlink:href=\"#DejaVuSans-30\" x=\"63.623047\"/>\n",
       "     <use xlink:href=\"#DejaVuSans-3a9\" x=\"127.246094\"/>\n",
       "    </g>\n",
       "   </g>\n",
       "   <g id=\"text_5\">\n",
       "    <!-- 50Ω -->\n",
       "    <g transform=\"translate(85.065937 86.343125) scale(0.14 -0.14)\">\n",
       "     <use xlink:href=\"#DejaVuSans-35\"/>\n",
       "     <use xlink:href=\"#DejaVuSans-30\" x=\"63.623047\"/>\n",
       "     <use xlink:href=\"#DejaVuSans-3a9\" x=\"127.246094\"/>\n",
       "    </g>\n",
       "   </g>\n",
       "  </g>\n",
       " </g>\n",
       " <defs>\n",
       "  <clipPath id=\"pd1f9fae748\">\n",
       "   <rect x=\"0\" y=\"0\" width=\"247.86\" height=\"150.16\"/>\n",
       "  </clipPath>\n",
       " </defs>\n",
       "</svg>\n"
      ],
      "text/plain": [
       "<schemdraw.backends.mpl.Figure object at 0x000001D29D2F9820>"
      ]
     },
     "metadata": {},
     "output_type": "display_data"
    }
   ],
   "source": [
    "import schemdraw\n",
    "import schemdraw.elements as elm\n",
    "\n",
    "with schemdraw.Drawing() as d:\n",
    "    d += elm.BatteryCell().up().reverse().label([\"_\",\"+\"],loc='bot',fontsize=10)\n",
    "    Res1 = elm.Resistor().right().label(\"40Ω\")\n",
    "    d+=elm.Line()\n",
    "    d+=elm.Diode().down()\n",
    "    Res2 = elm.Resistor().left().label(\"50Ω\")\n",
    "    d+=elm.Line()\n",
    "    Res3 = elm.Resistor().endpoints(Res1.end , Res2.end).label(\"50Ω\")"
   ]
  },
  {
   "cell_type": "code",
   "execution_count": 4,
   "metadata": {},
   "outputs": [
    {
     "data": {
      "image/png": "[encoded data removed]",
      "image/svg+xml": [
       "<?xml version=\"1.0\" encoding=\"utf-8\" standalone=\"no\"?>\n",
       "<!DOCTYPE svg PUBLIC \"-//W3C//DTD SVG 1.1//EN\"\n",
       "  \"http://www.w3.org/Graphics/SVG/1.1/DTD/svg11.dtd\">\n",
       "<svg xmlns:xlink=\"http://www.w3.org/1999/xlink\" width=\"247.86pt\" height=\"245.96pt\" viewBox=\"0 0 247.86 245.96\" xmlns=\"http://www.w3.org/2000/svg\" version=\"1.1\">\n",
       " <metadata>\n",
       "  <rdf:RDF xmlns:dc=\"http://purl.org/dc/elements/1.1/\" xmlns:cc=\"http://creativecommons.org/ns#\" xmlns:rdf=\"http://www.w3.org/1999/02/22-rdf-syntax-ns#\">\n",
       "   <cc:Work>\n",
       "    <dc:type rdf:resource=\"http://purl.org/dc/dcmitype/StillImage\"/>\n",
       "    <dc:date>2024-10-12T19:21:47.384560</dc:date>\n",
       "    <dc:format>image/svg+xml</dc:format>\n",
       "    <dc:creator>\n",
       "     <cc:Agent>\n",
       "      <dc:title>Matplotlib v3.9.2, https://matplotlib.org/</dc:title>\n",
       "     </cc:Agent>\n",
       "    </dc:creator>\n",
       "   </cc:Work>\n",
       "  </rdf:RDF>\n",
       " </metadata>\n",
       " <defs>\n",
       "  <style type=\"text/css\">*{stroke-linejoin: round; stroke-linecap: butt}</style>\n",
       " </defs>\n",
       " <g id=\"figure_1\">\n",
       "  <g id=\"patch_1\">\n",
       "   <path d=\"M 0 245.96 \n",
       "L 247.86 245.96 \n",
       "L 247.86 0 \n",
       "L 0 0 \n",
       "z\n",
       "\" style=\"fill: #ffffff\"/>\n",
       "  </g>\n",
       "  <g id=\"axes_1\">\n",
       "   <g id=\"patch_2\">\n",
       "    <path d=\"M 173.88 124.28 \n",
       "L 186.48 133.28 \n",
       "L 173.88 142.28 \n",
       "L 173.88 124.28 \n",
       "z\n",
       "\" clip-path=\"url(#pd5e91faaef)\" style=\"fill: none; stroke: #000000; stroke-width: 2; stroke-linecap: round\"/>\n",
       "   </g>\n",
       "   <g id=\"line2d_1\">\n",
       "    <path d=\"M 18.18 133.28 \n",
       "L 18.18 82.655 \n",
       "M 18.18 75.905 \n",
       "L 18.18 25.28 \n",
       "\" clip-path=\"url(#pd5e91faaef)\" style=\"fill: none; stroke: #000000; stroke-width: 2; stroke-linecap: round\"/>\n",
       "   </g>\n",
       "   <g id=\"line2d_2\">\n",
       "    <path d=\"M 31.68 75.905 \n",
       "L 4.68 75.905 \n",
       "\" clip-path=\"url(#pd5e91faaef)\" style=\"fill: none; stroke: #000000; stroke-width: 2; stroke-linecap: round\"/>\n",
       "   </g>\n",
       "   <g id=\"line2d_3\">\n",
       "    <path d=\"M 24.93 82.655 \n",
       "L 11.43 82.655 \n",
       "\" clip-path=\"url(#pd5e91faaef)\" style=\"fill: none; stroke: #000000; stroke-width: 2; stroke-linecap: round\"/>\n",
       "   </g>\n",
       "   <g id=\"line2d_4\">\n",
       "    <path d=\"M 18.18 25.28 \n",
       "L 72.18 25.28 \n",
       "L 126.18 25.28 \n",
       "\" clip-path=\"url(#pd5e91faaef)\" style=\"fill: none; stroke: #000000; stroke-width: 2; stroke-linecap: round\"/>\n",
       "   </g>\n",
       "   <g id=\"line2d_5\">\n",
       "    <path d=\"M 126.18 25.28 \n",
       "L 126.18 61.28 \n",
       "L 135.18 64.28 \n",
       "L 117.18 70.28 \n",
       "L 135.18 76.28 \n",
       "L 117.18 82.28 \n",
       "L 135.18 88.28 \n",
       "L 117.18 94.28 \n",
       "L 126.18 97.28 \n",
       "L 126.18 133.28 \n",
       "\" clip-path=\"url(#pd5e91faaef)\" style=\"fill: none; stroke: #000000; stroke-width: 2; stroke-linecap: round\"/>\n",
       "   </g>\n",
       "   <g id=\"line2d_6\">\n",
       "    <path d=\"M 126.18 133.28 \n",
       "L 126.18 169.28 \n",
       "L 135.18 172.28 \n",
       "L 117.18 178.28 \n",
       "L 135.18 184.28 \n",
       "L 117.18 190.28 \n",
       "L 135.18 196.28 \n",
       "L 117.18 202.28 \n",
       "L 126.18 205.28 \n",
       "L 126.18 241.28 \n",
       "\" clip-path=\"url(#pd5e91faaef)\" style=\"fill: none; stroke: #000000; stroke-width: 2; stroke-linecap: round\"/>\n",
       "   </g>\n",
       "   <g id=\"line2d_7\">\n",
       "    <path d=\"M 126.18 241.28 \n",
       "L 72.18 241.28 \n",
       "L 18.18 241.28 \n",
       "\" clip-path=\"url(#pd5e91faaef)\" style=\"fill: none; stroke: #000000; stroke-width: 2; stroke-linecap: round\"/>\n",
       "   </g>\n",
       "   <g id=\"line2d_8\">\n",
       "    <path d=\"M 18.18 241.28 \n",
       "L 18.18 187.28 \n",
       "L 18.18 133.28 \n",
       "\" clip-path=\"url(#pd5e91faaef)\" style=\"fill: none; stroke: #000000; stroke-width: 2; stroke-linecap: round\"/>\n",
       "   </g>\n",
       "   <g id=\"line2d_9\">\n",
       "    <path d=\"M 18.18 133.28 \n",
       "L 54.18 133.28 \n",
       "L 57.18 124.28 \n",
       "L 63.18 142.28 \n",
       "L 69.18 124.28 \n",
       "L 75.18 142.28 \n",
       "L 81.18 124.28 \n",
       "L 87.18 142.28 \n",
       "L 90.18 133.28 \n",
       "L 126.18 133.28 \n",
       "\" clip-path=\"url(#pd5e91faaef)\" style=\"fill: none; stroke: #000000; stroke-width: 2; stroke-linecap: round\"/>\n",
       "   </g>\n",
       "   <g id=\"line2d_10\">\n",
       "    <path d=\"M 126.18 133.28 \n",
       "L 173.88 133.28 \n",
       "M 186.48 124.28 \n",
       "L 186.48 142.28 \n",
       "M 186.48 133.28 \n",
       "L 234.18 133.28 \n",
       "\" clip-path=\"url(#pd5e91faaef)\" style=\"fill: none; stroke: #000000; stroke-width: 2; stroke-linecap: round\"/>\n",
       "   </g>\n",
       "   <g id=\"line2d_11\">\n",
       "    <path d=\"M 234.18 133.28 \n",
       "L 234.18 97.28 \n",
       "L 225.18 94.28 \n",
       "L 243.18 88.28 \n",
       "L 225.18 82.28 \n",
       "L 243.18 76.28 \n",
       "L 225.18 70.28 \n",
       "L 243.18 64.28 \n",
       "L 234.18 61.28 \n",
       "L 234.18 25.28 \n",
       "\" clip-path=\"url(#pd5e91faaef)\" style=\"fill: none; stroke: #000000; stroke-width: 2; stroke-linecap: round\"/>\n",
       "   </g>\n",
       "   <g id=\"line2d_12\">\n",
       "    <path d=\"M 234.18 25.28 \n",
       "L 198.18 25.28 \n",
       "L 195.18 34.28 \n",
       "L 189.18 16.28 \n",
       "L 183.18 34.28 \n",
       "L 177.18 16.28 \n",
       "L 171.18 34.28 \n",
       "L 165.18 16.28 \n",
       "L 162.18 25.28 \n",
       "L 126.18 25.28 \n",
       "\" clip-path=\"url(#pd5e91faaef)\" style=\"fill: none; stroke: #000000; stroke-width: 2; stroke-linecap: round\"/>\n",
       "   </g>\n",
       "   <g id=\"line2d_13\">\n",
       "    <path d=\"M 234.18 133.28 \n",
       "L 192.907922 174.552078 \n",
       "L 197.150563 183.037359 \n",
       "L 180.18 174.552078 \n",
       "L 188.665281 191.522641 \n",
       "L 171.694719 183.037359 \n",
       "L 180.18 200.007922 \n",
       "L 163.209437 191.522641 \n",
       "L 167.452078 200.007922 \n",
       "L 126.18 241.28 \n",
       "\" clip-path=\"url(#pd5e91faaef)\" style=\"fill: none; stroke: #000000; stroke-width: 2; stroke-linecap: round\"/>\n",
       "   </g>\n",
       "   <g id=\"text_1\">\n",
       "    <!-- 15V -->\n",
       "    <g transform=\"translate(35.28 82.039375) scale(0.1 -0.1)\">\n",
       "     <defs>\n",
       "      <path id=\"DejaVuSans-31\" d=\"M 794 531 \n",
       "L 1825 531 \n",
       "L 1825 4091 \n",
       "L 703 3866 \n",
       "L 703 4441 \n",
       "L 1819 4666 \n",
       "L 2450 4666 \n",
       "L 2450 531 \n",
       "L 3481 531 \n",
       "L 3481 0 \n",
       "L 794 0 \n",
       "L 794 531 \n",
       "z\n",
       "\" transform=\"scale(0.015625)\"/>\n",
       "      <path id=\"DejaVuSans-35\" d=\"M 691 4666 \n",
       "L 3169 4666 \n",
       "L 3169 4134 \n",
       "L 1269 4134 \n",
       "L 1269 2991 \n",
       "Q 1406 3038 1543 3061 \n",
       "Q 1681 3084 1819 3084 \n",
       "Q 2600 3084 3056 2656 \n",
       "Q 3513 2228 3513 1497 \n",
       "Q 3513 744 3044 326 \n",
       "Q 2575 -91 1722 -91 \n",
       "Q 1428 -91 1123 -41 \n",
       "Q 819 9 494 109 \n",
       "L 494 744 \n",
       "Q 775 591 1075 516 \n",
       "Q 1375 441 1709 441 \n",
       "Q 2250 441 2565 725 \n",
       "Q 2881 1009 2881 1497 \n",
       "Q 2881 1984 2565 2268 \n",
       "Q 2250 2553 1709 2553 \n",
       "Q 1456 2553 1204 2497 \n",
       "Q 953 2441 691 2322 \n",
       "L 691 4666 \n",
       "z\n",
       "\" transform=\"scale(0.015625)\"/>\n",
       "      <path id=\"DejaVuSans-56\" d=\"M 1831 0 \n",
       "L 50 4666 \n",
       "L 709 4666 \n",
       "L 2188 738 \n",
       "L 3669 4666 \n",
       "L 4325 4666 \n",
       "L 2547 0 \n",
       "L 1831 0 \n",
       "z\n",
       "\" transform=\"scale(0.015625)\"/>\n",
       "     </defs>\n",
       "     <use xlink:href=\"#DejaVuSans-31\"/>\n",
       "     <use xlink:href=\"#DejaVuSans-35\" x=\"63.623047\"/>\n",
       "     <use xlink:href=\"#DejaVuSans-56\" x=\"127.246094\"/>\n",
       "    </g>\n",
       "   </g>\n",
       "   <g id=\"text_2\">\n",
       "    <!-- 10Ω -->\n",
       "    <g transform=\"translate(93.212812 82.039375) scale(0.1 -0.1)\">\n",
       "     <defs>\n",
       "      <path id=\"DejaVuSans-30\" d=\"M 2034 4250 \n",
       "Q 1547 4250 1301 3770 \n",
       "Q 1056 3291 1056 2328 \n",
       "Q 1056 1369 1301 889 \n",
       "Q 1547 409 2034 409 \n",
       "Q 2525 409 2770 889 \n",
       "Q 3016 1369 3016 2328 \n",
       "Q 3016 3291 2770 3770 \n",
       "Q 2525 4250 2034 4250 \n",
       "z\n",
       "M 2034 4750 \n",
       "Q 2819 4750 3233 4129 \n",
       "Q 3647 3509 3647 2328 \n",
       "Q 3647 1150 3233 529 \n",
       "Q 2819 -91 2034 -91 \n",
       "Q 1250 -91 836 529 \n",
       "Q 422 1150 422 2328 \n",
       "Q 422 3509 836 4129 \n",
       "Q 1250 4750 2034 4750 \n",
       "z\n",
       "\" transform=\"scale(0.015625)\"/>\n",
       "      <path id=\"DejaVuSans-3a9\" d=\"M 4647 556 \n",
       "L 4647 0 \n",
       "L 2772 0 \n",
       "L 2772 556 \n",
       "Q 3325 859 3634 1378 \n",
       "Q 3944 1897 3944 2528 \n",
       "Q 3944 3278 3531 3731 \n",
       "Q 3119 4184 2444 4184 \n",
       "Q 1769 4184 1355 3729 \n",
       "Q 941 3275 941 2528 \n",
       "Q 941 1897 1250 1378 \n",
       "Q 1563 859 2119 556 \n",
       "L 2119 0 \n",
       "L 244 0 \n",
       "L 244 556 \n",
       "L 1241 556 \n",
       "Q 747 991 519 1456 \n",
       "Q 294 1922 294 2497 \n",
       "Q 294 3491 894 4106 \n",
       "Q 1491 4722 2444 4722 \n",
       "Q 3391 4722 3994 4106 \n",
       "Q 4594 3494 4594 2528 \n",
       "Q 4594 1922 4372 1459 \n",
       "Q 4150 997 3647 556 \n",
       "L 4647 556 \n",
       "z\n",
       "\" transform=\"scale(0.015625)\"/>\n",
       "     </defs>\n",
       "     <use xlink:href=\"#DejaVuSans-31\"/>\n",
       "     <use xlink:href=\"#DejaVuSans-30\" x=\"63.623047\"/>\n",
       "     <use xlink:href=\"#DejaVuSans-3a9\" x=\"127.246094\"/>\n",
       "    </g>\n",
       "   </g>\n",
       "   <g id=\"text_3\">\n",
       "    <!-- 20Ω -->\n",
       "    <g transform=\"translate(93.212812 190.039375) scale(0.1 -0.1)\">\n",
       "     <defs>\n",
       "      <path id=\"DejaVuSans-32\" d=\"M 1228 531 \n",
       "L 3431 531 \n",
       "L 3431 0 \n",
       "L 469 0 \n",
       "L 469 531 \n",
       "Q 828 903 1448 1529 \n",
       "Q 2069 2156 2228 2338 \n",
       "Q 2531 2678 2651 2914 \n",
       "Q 2772 3150 2772 3378 \n",
       "Q 2772 3750 2511 3984 \n",
       "Q 2250 4219 1831 4219 \n",
       "Q 1534 4219 1204 4116 \n",
       "Q 875 4013 500 3803 \n",
       "L 500 4441 \n",
       "Q 881 4594 1212 4672 \n",
       "Q 1544 4750 1819 4750 \n",
       "Q 2544 4750 2975 4387 \n",
       "Q 3406 4025 3406 3419 \n",
       "Q 3406 3131 3298 2873 \n",
       "Q 3191 2616 2906 2266 \n",
       "Q 2828 2175 2409 1742 \n",
       "Q 1991 1309 1228 531 \n",
       "z\n",
       "\" transform=\"scale(0.015625)\"/>\n",
       "     </defs>\n",
       "     <use xlink:href=\"#DejaVuSans-32\"/>\n",
       "     <use xlink:href=\"#DejaVuSans-30\" x=\"63.623047\"/>\n",
       "     <use xlink:href=\"#DejaVuSans-3a9\" x=\"127.246094\"/>\n",
       "    </g>\n",
       "   </g>\n",
       "   <g id=\"text_4\">\n",
       "    <!-- 40Ω -->\n",
       "    <g transform=\"translate(61.996406 118.600312) scale(0.1 -0.1)\">\n",
       "     <defs>\n",
       "      <path id=\"DejaVuSans-34\" d=\"M 2419 4116 \n",
       "L 825 1625 \n",
       "L 2419 1625 \n",
       "L 2419 4116 \n",
       "z\n",
       "M 2253 4666 \n",
       "L 3047 4666 \n",
       "L 3047 1625 \n",
       "L 3713 1625 \n",
       "L 3713 1100 \n",
       "L 3047 1100 \n",
       "L 3047 0 \n",
       "L 2419 0 \n",
       "L 2419 1100 \n",
       "L 313 1100 \n",
       "L 313 1709 \n",
       "L 2253 4666 \n",
       "z\n",
       "\" transform=\"scale(0.015625)\"/>\n",
       "     </defs>\n",
       "     <use xlink:href=\"#DejaVuSans-34\"/>\n",
       "     <use xlink:href=\"#DejaVuSans-30\" x=\"63.623047\"/>\n",
       "     <use xlink:href=\"#DejaVuSans-3a9\" x=\"127.246094\"/>\n",
       "    </g>\n",
       "   </g>\n",
       "   <g id=\"text_5\">\n",
       "    <!-- 20Ω -->\n",
       "    <g transform=\"translate(201.212812 82.039375) scale(0.1 -0.1)\">\n",
       "     <use xlink:href=\"#DejaVuSans-32\"/>\n",
       "     <use xlink:href=\"#DejaVuSans-30\" x=\"63.623047\"/>\n",
       "     <use xlink:href=\"#DejaVuSans-3a9\" x=\"127.246094\"/>\n",
       "    </g>\n",
       "   </g>\n",
       "   <g id=\"text_6\">\n",
       "    <!-- 50Ω -->\n",
       "    <g transform=\"translate(169.996406 10.600313) scale(0.1 -0.1)\">\n",
       "     <use xlink:href=\"#DejaVuSans-35\"/>\n",
       "     <use xlink:href=\"#DejaVuSans-30\" x=\"63.623047\"/>\n",
       "     <use xlink:href=\"#DejaVuSans-3a9\" x=\"127.246094\"/>\n",
       "    </g>\n",
       "   </g>\n",
       "   <g id=\"text_7\">\n",
       "    <!-- 35Ω -->\n",
       "    <g transform=\"translate(150.903267 176.290767) scale(0.1 -0.1)\">\n",
       "     <defs>\n",
       "      <path id=\"DejaVuSans-33\" d=\"M 2597 2516 \n",
       "Q 3050 2419 3304 2112 \n",
       "Q 3559 1806 3559 1356 \n",
       "Q 3559 666 3084 287 \n",
       "Q 2609 -91 1734 -91 \n",
       "Q 1441 -91 1130 -33 \n",
       "Q 819 25 488 141 \n",
       "L 488 750 \n",
       "Q 750 597 1062 519 \n",
       "Q 1375 441 1716 441 \n",
       "Q 2309 441 2620 675 \n",
       "Q 2931 909 2931 1356 \n",
       "Q 2931 1769 2642 2001 \n",
       "Q 2353 2234 1838 2234 \n",
       "L 1294 2234 \n",
       "L 1294 2753 \n",
       "L 1863 2753 \n",
       "Q 2328 2753 2575 2939 \n",
       "Q 2822 3125 2822 3475 \n",
       "Q 2822 3834 2567 4026 \n",
       "Q 2313 4219 1838 4219 \n",
       "Q 1578 4219 1281 4162 \n",
       "Q 984 4106 628 3988 \n",
       "L 628 4550 \n",
       "Q 988 4650 1302 4700 \n",
       "Q 1616 4750 1894 4750 \n",
       "Q 2613 4750 3031 4423 \n",
       "Q 3450 4097 3450 3541 \n",
       "Q 3450 3153 3228 2886 \n",
       "Q 3006 2619 2597 2516 \n",
       "z\n",
       "\" transform=\"scale(0.015625)\"/>\n",
       "     </defs>\n",
       "     <use xlink:href=\"#DejaVuSans-33\"/>\n",
       "     <use xlink:href=\"#DejaVuSans-35\" x=\"63.623047\"/>\n",
       "     <use xlink:href=\"#DejaVuSans-3a9\" x=\"127.246094\"/>\n",
       "    </g>\n",
       "   </g>\n",
       "  </g>\n",
       " </g>\n",
       " <defs>\n",
       "  <clipPath id=\"pd5e91faaef\">\n",
       "   <rect x=\"0\" y=\"-0\" width=\"247.86\" height=\"245.96\"/>\n",
       "  </clipPath>\n",
       " </defs>\n",
       "</svg>\n"
      ],
      "text/plain": [
       "<schemdraw.backends.mpl.Figure object at 0x000001D29CFCF4A0>"
      ]
     },
     "metadata": {},
     "output_type": "display_data"
    }
   ],
   "source": [
    "import schemdraw\n",
    "import schemdraw.elements as elm\n",
    "\n",
    "with schemdraw.Drawing() as d:\n",
    "    Bat = elm.BatteryCell().up().reverse().label(\"15V\",loc='bot',fontsize=10)\n",
    "    d += elm.Line().right()\n",
    "    # l2 = elm.Line().right()\n",
    "    Res1 = elm.Resistor().down().label(\"10Ω\",fontsize=10)\n",
    "    Res2 = elm.Resistor().label(\"20Ω\",fontsize=10)\n",
    "    d += elm.Line().left()\n",
    "    d += elm.Line().up()\n",
    "    Res3 = elm.Resistor().right().label(\"40Ω\",fontsize=10)\n",
    "    D = elm.Diode()\n",
    "    Res4 = elm.Resistor().up().label(\"20Ω\",fontsize=10)\n",
    "    Res5 = elm.Resistor().left().label(\"50Ω\",fontsize=10)\n",
    "    Res6 = elm.Resistor().endpoints(Res4.start,Res2.end).label(\"35Ω\",fontsize=10)\n",
    "    d.draw()\n",
    "    \n",
    "    \n",
    "\n"
   ]
  },
  {
   "cell_type": "markdown",
   "metadata": {},
   "source": [
    "### Diode recovery time with Pyspice"
   ]
  },
  {
   "cell_type": "markdown",
   "metadata": {},
   "source": [
    "Diode recovery time refers to the duration it takes for a diode to stop conducting current after the voltage across it has switched from forward bias (conducting state) to reverse bias (non-conducting state).\n",
    "\n",
    "When a diode is conducting in the forward direction, it allows current to flow. Upon switching to reverse bias, the diode does not immediately cease conduction due to the presence of stored charge carriers in the depletion region. The recovery time is the period during which the diode continues to conduct before it fully transitions to its blocking state.\n",
    "\n",
    "This parameter is crucial in applications involving high-speed switching, such as power converters and rectifiers, as it affects the overall efficiency and performance of the circuit. A shorter recovery time is generally desirable, as it leads to reduced switching losses and better performance in high-frequency applications"
   ]
  },
  {
   "cell_type": "code",
   "execution_count": 5,
   "metadata": {},
   "outputs": [
    {
     "name": "stdout",
     "output_type": "stream",
     "text": [
      "2024-10-12 19:21:47,427 - PySpice.Spice.NgSpice.Shared.NgSpiceShared - Shared.WARNING - Warning: v1: no DC value, transient time 0 value used\n"
     ]
    },
    {
     "data": {
      "image/png": "[encoded data removed]",
      "text/plain": [
       "<Figure size 1000x600 with 1 Axes>"
      ]
     },
     "metadata": {},
     "output_type": "display_data"
    }
   ],
   "source": [
    "import matplotlib.pyplot as plt\n",
    "from PySpice.Probe.Plot import plot\n",
    "from PySpice.Spice.Netlist import Circuit\n",
    "from PySpice.Unit import *\n",
    "\n",
    "# Define the circuit\n",
    "circuit = Circuit('Diode Recovery Time Simulation')\n",
    "\n",
    "# Add a pulse voltage source (simulates forward and reverse switching)\n",
    "circuit.V(1, 'input', circuit.gnd, 'pulse(0 5 0 1n 1n 50n 100n)')\n",
    "\n",
    "# Add a series resistor to limit the current\n",
    "circuit.R(1, 'input', 'n1', 1 @ u_Ohm)\n",
    "\n",
    "# Add a diode in the circuit from node 'n1' to ground\n",
    "circuit.D(1, 'n1', circuit.gnd, model='D')\n",
    "\n",
    "# Define a diode model with standard parameters (generic diode model)\n",
    "circuit.model('D', 'D', IS=1e-14, N=1, TT=5e-9)\n",
    "\n",
    "# Create a simulator object for transient analysis\n",
    "simulator = circuit.simulator(temperature=25, nominal_temperature=25)\n",
    "\n",
    "# Perform a transient simulation without importing Transient directly\n",
    "analysis = simulator.transient(step_time=1 @ u_ns, end_time=200 @ u_ns)\n",
    "\n",
    "# Plot the results\n",
    "fig, ax = plt.subplots(figsize=(10, 6))\n",
    "\n",
    "# Plot the voltage across the diode (node 'n1')\n",
    "ax.plot(analysis.time, analysis['n1'], label='Voltage across Diode', color='blue')\n",
    "\n",
    "# Plot the input pulse signal for reference\n",
    "ax.plot(analysis.time, analysis['input'], label='Input Pulse', color='green', linestyle='--')\n",
    "\n",
    "ax.set_xlabel('Time [s]')\n",
    "ax.set_ylabel('Voltage [V]')\n",
    "ax.legend()\n",
    "plt.title(\"Diode Recovery Time\")\n",
    "plt.grid()\n",
    "plt.show()\n"
   ]
  },
  {
   "cell_type": "markdown",
   "metadata": {},
   "source": [
    "## Transistor"
   ]
  },
  {
   "cell_type": "markdown",
   "metadata": {},
   "source": [
    "### Basic explanation about Transistor"
   ]
  },
  {
   "cell_type": "markdown",
   "metadata": {},
   "source": [
    "A transistor is a miniature semiconductor that regulates or controls current or voltage flow in addition to amplifying and generating these electrical signals and acting as a switch or gate for them. Typically, transistors consist of three layers, or terminals, of a semiconductor material, each of which can carry a current.\n",
    "\n",
    "Transistors are crucial components of modern electronics. When working as an amplifier, a transistor transforms a small input current into a bigger output current. As a switch, it can be in one of two distinct states (on or off) to control the flow of electronic signals through an electrical circuit or electronic device.\n",
    "\n"
   ]
  },
  {
   "cell_type": "markdown",
   "metadata": {},
   "source": [
    "### Types of Transistors"
   ]
  },
  {
   "cell_type": "markdown",
   "metadata": {},
   "source": [
    "Transistors are classified into different types based on their structure, functionality, and applications. The two primary types of transistors are __Bipolar Junction Transistors (BJTs)__ and __Field Effect Transistors (FETs)__.\n",
    "\n",
    "__Bipolar Junction Transistors__ are further divided into __NPN__ and __PNP transistors__. The __NPN transistor__ consists of two n-type semiconductor materials separated by a thin layer of p-type. In contrast, the __PNP transistor__ consists of two p-type semiconductors separated by a thin layer of n-type. __NPN transistors__ are the most widely used because they provide superior performance in most electronic circuits due to the greater mobility of electrons compared to holes.\n",
    "\n",
    "__Field Effect Transistors__ are another major type of transistor, which are further divided into __Junction Gate Field-Effect Transistors (JFETs)__ and __Metal Oxide Semiconductor Field Effect Transistors (MOSFETs)__. Unlike BJTs, which are current-controlled, FETs are voltage-controlled devices. This means that the output current in FETs is controlled by the input voltage. JFETs are seldom used in modern electronics, while MOSFETs are widely used due to their high input impedance and low power consumption."
   ]
  },
  {
   "cell_type": "markdown",
   "metadata": {},
   "source": [
    "### NPN Transistors"
   ]
  },
  {
   "cell_type": "markdown",
   "metadata": {},
   "source": [
    "NPN transistor is a type of bipolar junction transistor (BJT) that is composed of two layers of N-type semiconductor material, with a layer of P-type material sandwiched in between. The term NPN is derived from the sequence of these semiconductor layers. \n",
    "\n",
    "The three layers of the NPN transistor correspond to three regions: the emitter, the base, and the collector. The emitter is the region on one side that emits electrons or holes (depending on the type of transistor) into the base. The base is the middle region, which is thin and lightly doped. The collector is the region on the other side that collects these charge carriers from the base.\n",
    "\n",
    "The operation of an NPN transistor is based on the movement of electrons as the majority charge carriers. When a small current is applied to the base-emitter junction (forward-biased), it allows a larger current to flow from the collector to the emitter (reverse-biased).This property of controlling a large output current with a small input current makes the NPN transistor a useful device for amplification and switching applications.\n",
    "\n"
   ]
  },
  {
   "cell_type": "markdown",
   "metadata": {},
   "source": [
    "#### Working Principle of NPN Transistors"
   ]
  },
  {
   "cell_type": "markdown",
   "metadata": {},
   "source": [
    "The working principle of an NPN transistor is based on the control of current flow between the emitter and collector regions by varying the base current. The NPN transistor has three terminals: the emitter (E), the base (B), and the collector (C). The emitter is made of N-type material, the base is made of P-type material, and the collector is made of N-type material."
   ]
  },
  {
   "cell_type": "markdown",
   "metadata": {},
   "source": [
    "![RC1_charging](./Transistor1.jpg)"
   ]
  },
  {
   "cell_type": "markdown",
   "metadata": {},
   "source": [
    "When a small positive voltage is applied to the base-emitter junction, the junction becomes forward-biased, allowing electrons to flow from the emitter to the base. Since the base region is thin and lightly doped, only a small fraction of these electrons recombine with holes in the base. The majority of the electrons continue to flow through the base and reach the collector, which is reverse-biased.\n",
    "\n",
    "The reverse-biased base-collector junction creates an electric field that repels the electrons away from the base and attracts them toward the collector. As a result, a large current flows from the collector to the emitter, which is controlled by the smaller base current. The ratio of the collector current to the base current is known as the current gain of the transistor."
   ]
  },
  {
   "cell_type": "markdown",
   "metadata": {},
   "source": [
    "### PNP Transistor"
   ]
  },
  {
   "cell_type": "markdown",
   "metadata": {},
   "source": [
    "A PNP transistor is another type of bipolar junction transistor (BJT), which is essentially the mirror image of the NPN transistor. It consists of two layers of P-type semiconductor material with a layer of N-type material sandwiched in between. The term PNP comes from the sequence of these semiconductor layers.\n",
    "\n",
    "The three layers of the PNP transistor correspond to three regions: the emitter, the base, and the collector. The emitter is the region on one side that emits holes into the base. The base is the middle region, which is thin and lightly doped. The collector is the region on the other side that collects these charge carriers from the base.\n",
    "\n",
    "The operation of a PNP transistor is similar to that of an NPN transistor, but with the roles of the electrons and holes reversed. When a small current is applied to the base-emitter junction (reverse-biased), it allows a larger current to flow from the emitter to the collector (forward-biased). This property of controlling a large output current with a small input current makes the PNP transistor a useful device for amplification and switching applications"
   ]
  },
  {
   "cell_type": "markdown",
   "metadata": {},
   "source": [
    "#### Working Principle of PNP Transistors"
   ]
  },
  {
   "cell_type": "markdown",
   "metadata": {},
   "source": [
    "The working principle of a PNP transistor, like its NPN counterpart, is based on the control of current flow between the emitter and collector regions by varying the base current. However, the PNP transistor operates with holes as the majority charge carriers, which is the opposite of the NPN transistor that operates with electrons as the majority charge carriers."
   ]
  },
  {
   "cell_type": "markdown",
   "metadata": {},
   "source": [
    "![RC1_charging](./Transistor2.jpg)"
   ]
  },
  {
   "cell_type": "markdown",
   "metadata": {},
   "source": [
    "In a PNP transistor, when a small negative voltage is applied to the base-emitter junction, the junction becomes forward-biased. [5] This allows holes to flow from the emitter, which is made of P-type material, to the base, which is made of N-type material. Since the base region is thin and lightly doped, only a small fraction of these holes recombine with electrons in the base. The majority of the holes continue to flow through the base and reach the collector, which is reverse-biased.\n",
    "\n",
    "The reverse-biased base-collector junction creates an electric field that repels the holes away from the base and attracts them toward the collector. As a result, a large current flows from the emitter to the collector, which is controlled by the smaller base current. The ratio of the collector current to the base current is known as the current gain of the transistor."
   ]
  },
  {
   "cell_type": "markdown",
   "metadata": {},
   "source": [
    "### Comparing NPN and PNP Transistors"
   ]
  },
  {
   "cell_type": "markdown",
   "metadata": {},
   "source": [
    "The main difference between NPN vs PNP transistors is their polarity. NPN transistors are N-type semiconductors, while PNP transistors are P-type semiconductors. This means that NPN transistors have a negative terminal and a positive terminal, while PNP transistors have a positive terminal and a negative terminal. As a result, NPN vs PNP transistors have opposite polarities and therefore work in opposite ways.\n",
    "\n",
    "In summary, NPN and PNP transistors are the two main types of transistors used in PLCs. NPN transistors are more commonly used, and are known for their ability to switch quickly and handle high current loads. PNP transistors, on the other hand, are less commonly used but have the advantage of being able to handle high voltage loads and provide a higher level of isolation between the input and output terminals. The main difference between the two is their polarity, with NPN transistors having a negative terminal and a positive terminal, while PNP transistors have a positive terminal and a negative terminal."
   ]
  },
  {
   "cell_type": "markdown",
   "metadata": {},
   "source": [
    "### AC Coupled Amplifier with Pyspice"
   ]
  },
  {
   "cell_type": "markdown",
   "metadata": {},
   "source": [
    "This example shows the simulation of an AC coupled amplifier using a NPN bipolar transistor."
   ]
  },
  {
   "cell_type": "code",
   "execution_count": 6,
   "metadata": {},
   "outputs": [
    {
     "data": {
      "image/png": "[encoded data removed]",
      "text/plain": [
       "<Figure size 2000x1000 with 1 Axes>"
      ]
     },
     "metadata": {},
     "output_type": "display_data"
    }
   ],
   "source": [
    "import matplotlib.pyplot as plt\n",
    "\n",
    "import PySpice.Logging.Logging as Logging\n",
    "logger = Logging.setup_logging()\n",
    "\n",
    "from PySpice.Probe.Plot import plot\n",
    "from PySpice.Spice.Netlist import Circuit\n",
    "from PySpice.Unit import *\n",
    "\n",
    "circuit = Circuit('Transistor')\n",
    "\n",
    "circuit.V('power', 5, circuit.gnd, 15@u_V)\n",
    "source = circuit.SinusoidalVoltageSource('in', 'in', circuit.gnd, amplitude=.5@u_V, frequency=1@u_kHz)\n",
    "circuit.C(1, 'in', 2, 10@u_uF)\n",
    "circuit.R(1, 5, 2, 100@u_kΩ)\n",
    "circuit.R(2, 2, 0, 20@u_kΩ)\n",
    "circuit.R('C', 5, 4, 10@u_kΩ)\n",
    "circuit.BJT(1, 4, 2, 3, model='bjt') # Q is mapped to BJT !\n",
    "circuit.model('bjt', 'npn', bf=80, cjc=pico(5), rb=100)\n",
    "circuit.R('E', 3, 0, 2@u_kΩ)\n",
    "circuit.C(2, 4, 'out', 10@u_uF)\n",
    "circuit.R('Load', 'out', 0, 1@u_MΩ)\n",
    "\n",
    "figure, ax = plt.subplots(figsize=(20, 10))\n",
    "\n",
    "# .ac dec 5 10m 1G\n",
    "\n",
    "simulator = circuit.simulator(temperature=25, nominal_temperature=25)\n",
    "analysis = simulator.transient(step_time=source.period/200, end_time=source.period*2)\n",
    "\n",
    "ax.set_title('')\n",
    "ax.set_xlabel('Time [s]')\n",
    "ax.set_ylabel('Voltage [V]')\n",
    "ax.grid()\n",
    "ax.plot(analysis['in'])\n",
    "ax.plot(analysis.out)\n",
    "ax.legend(('input', 'output'), loc=(.05,.1))\n",
    "\n",
    "plt.tight_layout()\n",
    "plt.show()\n"
   ]
  },
  {
   "cell_type": "markdown",
   "metadata": {},
   "source": [
    "An AC-coupled amplifier uses capacitors to filter out DC components, amplify AC signals, and maintain proper DC biasing for the active elements like transistors. It is crucial in circuits where accurate amplification of varying (AC) signals is required without affecting the DC operating conditions of the system."
   ]
  },
  {
   "cell_type": "markdown",
   "metadata": {},
   "source": [
    "## Conclusion"
   ]
  },
  {
   "cell_type": "markdown",
   "metadata": {},
   "source": [
    "Active components, particularly diodes and transistors, play a crucial role in modern electronics, enabling a wide range of applications from signal amplification to rectification and switching. Understanding the fundamental principles of these semiconductor devices, including their construction, operating conditions, and types, is essential for designing efficient electronic circuits.\n",
    "\n",
    "Diodes serve as essential elements in controlling current flow, effectively acting as one-way valves in electrical circuits. Their diverse types, including Zener, Schottky, and Light Emitting Diodes (LEDs), each provide unique functionalities suited for specific applications, such as voltage regulation, high-speed switching, and illumination.\n",
    "\n",
    "Transistors, classified into Bipolar Junction Transistors (BJTs) and Field Effect Transistors (FETs), are critical for amplifying and switching electronic signals. The NPN and PNP transistors, as the primary forms of BJTs, allow for effective control of current flow with minimal input, making them invaluable in amplification and digital logic applications."
   ]
  },
  {
   "cell_type": "markdown",
   "metadata": {},
   "source": [
    "## Refrences:\n",
    "1.https://www.automationreadypanels.com/electrical-components/npn-vs-pnp/#:~:text=The%20main%20difference%20between%20NPN,terminal%20and%20a%20negative%20terminal\n",
    "<br>\n",
    "2.https://www.studysmarter.co.uk/explanations/physics/electromagnetism/bipolar-junction-transistor/<br>\n",
    "3.https://www.wevolver.com/article/npn-vs-pnp-bjt-transistor-understanding-the-basics<br>\n",
    "4.https://byjus.com/jee/transistor/<br>\n",
    "5.https://www.geeksforgeeks.org/zener-diode/<br>\n",
    "6.https://www.techtarget.com/whatis/definition/transistor<br>\n",
    "7.http://www.juliantrubin.com/encyclopedia/electronics/diode.html<br>\n",
    "8.https://learn.sparkfun.com/tutorials/diodes<br>\n",
    "9.https://pyspice.fabrice-salvaire.fr/<br>"
   ]
  }
 ],
 "metadata": {
  "kernelspec": {
   "display_name": "Python 3",
   "language": "python",
   "name": "python3"
  },
  "language_info": {
   "codemirror_mode": {
    "name": "ipython",
    "version": 3
   },
   "file_extension": ".py",
   "mimetype": "text/x-python",
   "name": "python",
   "nbconvert_exporter": "python",
   "pygments_lexer": "ipython3",
   "version": "3.12.0"
  }
 },
 "nbformat": 4,
 "nbformat_minor": 2
}
