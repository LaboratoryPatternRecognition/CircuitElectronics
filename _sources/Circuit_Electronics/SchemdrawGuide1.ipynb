{
 "cells": [
  {
   "cell_type": "markdown",
   "id": "805d9779-0de4-4ab2-a7b9-588b4b84cba1",
   "metadata": {},
   "source": [
    "# Schemdraw Guide\n",
    "\n",
    "**Author**: armanbijari@um.ac.ir\n",
    "\n",
    "\n"
   ]
  }
 ],
 "metadata": {
  "kernelspec": {
   "display_name": "Python 3 (ipykernel)",
   "language": "python",
   "name": "python3"
  },
  "language_info": {
   "codemirror_mode": {
    "name": "ipython",
    "version": 3
   },
   "file_extension": ".py",
   "mimetype": "text/x-python",
   "name": "python",
   "nbconvert_exporter": "python",
   "pygments_lexer": "ipython3",
   "version": "3.12.6"
  }
 },
 "nbformat": 4,
 "nbformat_minor": 5
}
